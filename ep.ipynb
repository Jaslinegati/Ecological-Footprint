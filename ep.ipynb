{
 "cells": [
  {
   "cell_type": "markdown",
   "metadata": {
    "notebookRunGroups": {
     "groupValue": "1"
    }
   },
   "source": [
    "\n",
    "# **Ecological Footprint Classification: Assessing Environmental Impact Using Random Forest Classifier**\n",
    "\n",
    "Link to dataset: https://www.kaggle.com/datasets/footprintnetwork/ecological-footprint/code\n",
    "\n",
    "Dataset information:The ecological footprint measures the ecological assets that a given population requires to produce the natural resources it consumes (including plant-based food and fiber products, livestock and fish products, timber and other forest products, space for urban infrastructure) and to absorb its waste, especially carbon emissions. The footprint tracks the use of six categories of productive surface areas: cropland, grazing land, fishing grounds, built-up (or urban) land, forest area, and carbon demand on land.\n",
    "\n",
    "A nation’s biocapacity represents the productivity of its ecological assets, including cropland, grazing land, forest land, fishing grounds, and built-up land. These areas, especially if left unharvested, can also absorb much of the waste we generate, especially our carbon emissions.\n",
    "\n",
    "Both the ecological footprint and biocapacity are expressed in global hectares — globally comparable, standardized hectares with world average productivity.\n",
    "\n",
    "If a population’s ecological footprint exceeds the region’s biocapacity, that region runs an ecological deficit. Its demand for the goods and services that its land and seas can provide — fruits and vegetables, meat, fish, wood, cotton for clothing, and carbon dioxide absorption — exceeds what the region’s ecosystems can renew. A region in ecological deficit meets demand by importing, liquidating its own ecological assets (such as overfishing), and/or emitting carbon dioxide into the atmosphere. If a region’s biocapacity exceeds its ecological footprint, it has an ecological reserve.\n",
    "\n",
    "Acknowledgements\n",
    "The ecological footprint measure was conceived by Mathis Wackernagel and William Rees at the University of British Columbia. Ecological footprint data was provided by the Global Footprint Network.\n",
    "\n",
    "Inspiration\n",
    "Is your country running an ecological deficit, consuming more resources than it can produce per year? Which countries have the greatest ecological deficits or reserves? Do they consume less or produce more than the average country? When will Earth Overshoot Day, the day on the calendar when humanity has used one year of natural resources, occur in 2017?\n",
    "\n",
    "1) Defining the question:\n",
    "a) Objectives\n",
    "\n",
    "Main Objective: Classifying countries based on their ecological footprint status (ecological deficit or reserve) using quantitative data, and establishing what actionable insights this classification can offer for environmental sustainability\n",
    "\n",
    "Secondary Objective: \n",
    "\n",
    "Assessing the environmental impact of ecological deficits using data visualization and statistical analysis.\n",
    "\n",
    "Specific objectives:\n",
    "1. Perform data exploration to understand distributions and correlations of ecological footprint data\n",
    "\n",
    "2. Conduct data preprocessing to prepare the dataset for classification modelling.\n",
    "\n",
    "3. Build a random forest classifier to classify ecological footprints across different countries.\n",
    "\n",
    "4. Compare ecological footprints between countries and derive insights into environmental impact.\n",
    "\n",
    "5. Identify actionable insights for mitigating global environmental impact based on classification results.\n",
    "\n",
    "b) Metrics for success\n",
    "- Succesful classification of ecological footprints using the Random Forest Classifier\n",
    "- Identification of significant ecological factors contributing to classification outcomes.\n",
    "- Clear and actionable insights derived from comparative analysis between countries.\n",
    "\n",
    "c) Context\n",
    "\n",
    "Comparative analysis of ecological footprints across countries is essential for understanding global environmental impact and guiding policy decisions. This project utilizes a Random Forest Classifier to classify and compare ecological footprints, aiming to provide actionable insights for environmental suatainability and policy making.\n",
    "\n"
   ]
  },
  {
   "cell_type": "markdown",
   "metadata": {},
   "source": [
    "2) Reading Data"
   ]
  },
  {
   "cell_type": "code",
   "execution_count": 2,
   "metadata": {},
   "outputs": [],
   "source": [
    "#Import necessary libraries\n",
    "\n",
    "import numpy as np\n",
    "import pandas as pd\n",
    "import seaborn as sns\n",
    "import plotly.express as px\n"
   ]
  },
  {
   "cell_type": "code",
   "execution_count": 3,
   "metadata": {},
   "outputs": [
    {
     "data": {
      "text/html": [
       "<div>\n",
       "<style scoped>\n",
       "    .dataframe tbody tr th:only-of-type {\n",
       "        vertical-align: middle;\n",
       "    }\n",
       "\n",
       "    .dataframe tbody tr th {\n",
       "        vertical-align: top;\n",
       "    }\n",
       "\n",
       "    .dataframe thead th {\n",
       "        text-align: right;\n",
       "    }\n",
       "</style>\n",
       "<table border=\"1\" class=\"dataframe\">\n",
       "  <thead>\n",
       "    <tr style=\"text-align: right;\">\n",
       "      <th></th>\n",
       "      <th>Country</th>\n",
       "      <th>Region</th>\n",
       "      <th>Population (millions)</th>\n",
       "      <th>HDI</th>\n",
       "      <th>GDP per Capita</th>\n",
       "      <th>Cropland Footprint</th>\n",
       "      <th>Grazing Footprint</th>\n",
       "      <th>Forest Footprint</th>\n",
       "      <th>Carbon Footprint</th>\n",
       "      <th>Fish Footprint</th>\n",
       "      <th>...</th>\n",
       "      <th>Cropland</th>\n",
       "      <th>Grazing Land</th>\n",
       "      <th>Forest Land</th>\n",
       "      <th>Fishing Water</th>\n",
       "      <th>Urban Land</th>\n",
       "      <th>Total Biocapacity</th>\n",
       "      <th>Biocapacity Deficit or Reserve</th>\n",
       "      <th>Earths Required</th>\n",
       "      <th>Countries Required</th>\n",
       "      <th>Data Quality</th>\n",
       "    </tr>\n",
       "  </thead>\n",
       "  <tbody>\n",
       "    <tr>\n",
       "      <th>0</th>\n",
       "      <td>Afghanistan</td>\n",
       "      <td>Middle East/Central Asia</td>\n",
       "      <td>29.82</td>\n",
       "      <td>0.46</td>\n",
       "      <td>$614.66</td>\n",
       "      <td>0.30</td>\n",
       "      <td>0.20</td>\n",
       "      <td>0.08</td>\n",
       "      <td>0.18</td>\n",
       "      <td>0.00</td>\n",
       "      <td>...</td>\n",
       "      <td>0.24</td>\n",
       "      <td>0.20</td>\n",
       "      <td>0.02</td>\n",
       "      <td>0.00</td>\n",
       "      <td>0.04</td>\n",
       "      <td>0.50</td>\n",
       "      <td>-0.30</td>\n",
       "      <td>0.46</td>\n",
       "      <td>1.60</td>\n",
       "      <td>6</td>\n",
       "    </tr>\n",
       "    <tr>\n",
       "      <th>1</th>\n",
       "      <td>Albania</td>\n",
       "      <td>Northern/Eastern Europe</td>\n",
       "      <td>3.16</td>\n",
       "      <td>0.73</td>\n",
       "      <td>$4,534.37</td>\n",
       "      <td>0.78</td>\n",
       "      <td>0.22</td>\n",
       "      <td>0.25</td>\n",
       "      <td>0.87</td>\n",
       "      <td>0.02</td>\n",
       "      <td>...</td>\n",
       "      <td>0.55</td>\n",
       "      <td>0.21</td>\n",
       "      <td>0.29</td>\n",
       "      <td>0.07</td>\n",
       "      <td>0.06</td>\n",
       "      <td>1.18</td>\n",
       "      <td>-1.03</td>\n",
       "      <td>1.27</td>\n",
       "      <td>1.87</td>\n",
       "      <td>6</td>\n",
       "    </tr>\n",
       "    <tr>\n",
       "      <th>2</th>\n",
       "      <td>Algeria</td>\n",
       "      <td>Africa</td>\n",
       "      <td>38.48</td>\n",
       "      <td>0.73</td>\n",
       "      <td>$5,430.57</td>\n",
       "      <td>0.60</td>\n",
       "      <td>0.16</td>\n",
       "      <td>0.17</td>\n",
       "      <td>1.14</td>\n",
       "      <td>0.01</td>\n",
       "      <td>...</td>\n",
       "      <td>0.24</td>\n",
       "      <td>0.27</td>\n",
       "      <td>0.03</td>\n",
       "      <td>0.01</td>\n",
       "      <td>0.03</td>\n",
       "      <td>0.59</td>\n",
       "      <td>-1.53</td>\n",
       "      <td>1.22</td>\n",
       "      <td>3.61</td>\n",
       "      <td>5</td>\n",
       "    </tr>\n",
       "    <tr>\n",
       "      <th>3</th>\n",
       "      <td>Angola</td>\n",
       "      <td>Africa</td>\n",
       "      <td>20.82</td>\n",
       "      <td>0.52</td>\n",
       "      <td>$4,665.91</td>\n",
       "      <td>0.33</td>\n",
       "      <td>0.15</td>\n",
       "      <td>0.12</td>\n",
       "      <td>0.20</td>\n",
       "      <td>0.09</td>\n",
       "      <td>...</td>\n",
       "      <td>0.20</td>\n",
       "      <td>1.42</td>\n",
       "      <td>0.64</td>\n",
       "      <td>0.26</td>\n",
       "      <td>0.04</td>\n",
       "      <td>2.55</td>\n",
       "      <td>1.61</td>\n",
       "      <td>0.54</td>\n",
       "      <td>0.37</td>\n",
       "      <td>6</td>\n",
       "    </tr>\n",
       "    <tr>\n",
       "      <th>4</th>\n",
       "      <td>Antigua and Barbuda</td>\n",
       "      <td>Latin America</td>\n",
       "      <td>0.09</td>\n",
       "      <td>0.78</td>\n",
       "      <td>$13,205.10</td>\n",
       "      <td>NaN</td>\n",
       "      <td>NaN</td>\n",
       "      <td>NaN</td>\n",
       "      <td>NaN</td>\n",
       "      <td>NaN</td>\n",
       "      <td>...</td>\n",
       "      <td>NaN</td>\n",
       "      <td>NaN</td>\n",
       "      <td>NaN</td>\n",
       "      <td>NaN</td>\n",
       "      <td>NaN</td>\n",
       "      <td>0.94</td>\n",
       "      <td>-4.44</td>\n",
       "      <td>3.11</td>\n",
       "      <td>5.70</td>\n",
       "      <td>2</td>\n",
       "    </tr>\n",
       "  </tbody>\n",
       "</table>\n",
       "<p>5 rows × 21 columns</p>\n",
       "</div>"
      ],
      "text/plain": [
       "               Country                    Region  Population (millions)   HDI  \\\n",
       "0          Afghanistan  Middle East/Central Asia                  29.82  0.46   \n",
       "1              Albania   Northern/Eastern Europe                   3.16  0.73   \n",
       "2              Algeria                    Africa                  38.48  0.73   \n",
       "3               Angola                    Africa                  20.82  0.52   \n",
       "4  Antigua and Barbuda             Latin America                   0.09  0.78   \n",
       "\n",
       "  GDP per Capita  Cropland Footprint  Grazing Footprint  Forest Footprint  \\\n",
       "0        $614.66                0.30               0.20              0.08   \n",
       "1      $4,534.37                0.78               0.22              0.25   \n",
       "2      $5,430.57                0.60               0.16              0.17   \n",
       "3      $4,665.91                0.33               0.15              0.12   \n",
       "4     $13,205.10                 NaN                NaN               NaN   \n",
       "\n",
       "   Carbon Footprint  Fish Footprint  ...  Cropland  Grazing Land  Forest Land  \\\n",
       "0              0.18            0.00  ...      0.24          0.20         0.02   \n",
       "1              0.87            0.02  ...      0.55          0.21         0.29   \n",
       "2              1.14            0.01  ...      0.24          0.27         0.03   \n",
       "3              0.20            0.09  ...      0.20          1.42         0.64   \n",
       "4               NaN             NaN  ...       NaN           NaN          NaN   \n",
       "\n",
       "   Fishing Water  Urban Land  Total Biocapacity  \\\n",
       "0           0.00        0.04               0.50   \n",
       "1           0.07        0.06               1.18   \n",
       "2           0.01        0.03               0.59   \n",
       "3           0.26        0.04               2.55   \n",
       "4            NaN         NaN               0.94   \n",
       "\n",
       "   Biocapacity Deficit or Reserve  Earths Required  Countries Required  \\\n",
       "0                           -0.30             0.46                1.60   \n",
       "1                           -1.03             1.27                1.87   \n",
       "2                           -1.53             1.22                3.61   \n",
       "3                            1.61             0.54                0.37   \n",
       "4                           -4.44             3.11                5.70   \n",
       "\n",
       "   Data Quality  \n",
       "0             6  \n",
       "1             6  \n",
       "2             5  \n",
       "3             6  \n",
       "4             2  \n",
       "\n",
       "[5 rows x 21 columns]"
      ]
     },
     "execution_count": 3,
     "metadata": {},
     "output_type": "execute_result"
    }
   ],
   "source": [
    "#Load data into a dataframe\n",
    "data = pd.read_csv('countries.csv')\n",
    "data.head()"
   ]
  },
  {
   "cell_type": "markdown",
   "metadata": {},
   "source": [
    "3) Data Exploration\n",
    "Attribute information:\n",
    "Ecological footprints and biocapacity by country\n",
    "The data set contains the following attributes:\n",
    "- Country: Name of the country.\n",
    "- Region: Geographic region to which the country belongs.\n",
    "- Population (millions): Total population of the country in millions.\n",
    "- HDI (Human Development Index): Measure of a country's average achievements in key dimensions of human development (e.g., education, health).\n",
    "- GDP per Capita: Gross Domestic Product per capita, indicating the economic productivity per person in the country.\n",
    "- Cropland Footprint: Ecological footprint associated with cropland usage.\n",
    "- Grazing Footprint: Ecological footprint associated with grazing land usage.\n",
    "- Forest Footprint: Ecological footprint associated with forest land usage.\n",
    "- Carbon Footprint: Ecological footprint associated with carbon emissions.\n",
    "- Fish Footprint: Ecological footprint associated with fishing activities.\n",
    "- Total Ecological Footprint: Overall ecological footprint per capita, considering all resource usage.\n",
    "- Cropland: Area of land dedicated to cropland in hectares per person.\n",
    "- Grazing Land: Area of land dedicated to grazing in hectares per person.\n",
    "- Forest Land: Area of land dedicated to forests in hectares per person.\n",
    "- Fishing Water: Area of water dedicated to fishing activities in hectares per person.\n",
    "- Urban Land: Area of land occupied by urban development in hectares per person.\n",
    "- Total Biocapacity: Total biocapacity available in global hectares per person.\n",
    "- Biocapacity Deficit or Reserve: Difference between total biocapacity and ecological footprint; deficit indicates resource consumption exceeds availability.\n",
    "- Earths Required: Number of Earths required if everyone lived like the average person in the country.\n",
    "- Countries Required: Number of countries with similar resource consumption patterns required to support the country's population sustainably.\n",
    "- Data Quality: Indicates the quality or reliability of the data used for each attribute.\n",
    "\n",
    "\n",
    "\n"
   ]
  },
  {
   "cell_type": "markdown",
   "metadata": {},
   "source": [
    "Preview the top of our dataset"
   ]
  },
  {
   "cell_type": "code",
   "execution_count": 4,
   "metadata": {},
   "outputs": [
    {
     "data": {
      "text/html": [
       "<div>\n",
       "<style scoped>\n",
       "    .dataframe tbody tr th:only-of-type {\n",
       "        vertical-align: middle;\n",
       "    }\n",
       "\n",
       "    .dataframe tbody tr th {\n",
       "        vertical-align: top;\n",
       "    }\n",
       "\n",
       "    .dataframe thead th {\n",
       "        text-align: right;\n",
       "    }\n",
       "</style>\n",
       "<table border=\"1\" class=\"dataframe\">\n",
       "  <thead>\n",
       "    <tr style=\"text-align: right;\">\n",
       "      <th></th>\n",
       "      <th>Country</th>\n",
       "      <th>Region</th>\n",
       "      <th>Population (millions)</th>\n",
       "      <th>HDI</th>\n",
       "      <th>GDP per Capita</th>\n",
       "      <th>Cropland Footprint</th>\n",
       "      <th>Grazing Footprint</th>\n",
       "      <th>Forest Footprint</th>\n",
       "      <th>Carbon Footprint</th>\n",
       "      <th>Fish Footprint</th>\n",
       "      <th>...</th>\n",
       "      <th>Cropland</th>\n",
       "      <th>Grazing Land</th>\n",
       "      <th>Forest Land</th>\n",
       "      <th>Fishing Water</th>\n",
       "      <th>Urban Land</th>\n",
       "      <th>Total Biocapacity</th>\n",
       "      <th>Biocapacity Deficit or Reserve</th>\n",
       "      <th>Earths Required</th>\n",
       "      <th>Countries Required</th>\n",
       "      <th>Data Quality</th>\n",
       "    </tr>\n",
       "  </thead>\n",
       "  <tbody>\n",
       "    <tr>\n",
       "      <th>0</th>\n",
       "      <td>Afghanistan</td>\n",
       "      <td>Middle East/Central Asia</td>\n",
       "      <td>29.82</td>\n",
       "      <td>0.46</td>\n",
       "      <td>$614.66</td>\n",
       "      <td>0.30</td>\n",
       "      <td>0.20</td>\n",
       "      <td>0.08</td>\n",
       "      <td>0.18</td>\n",
       "      <td>0.00</td>\n",
       "      <td>...</td>\n",
       "      <td>0.24</td>\n",
       "      <td>0.20</td>\n",
       "      <td>0.02</td>\n",
       "      <td>0.00</td>\n",
       "      <td>0.04</td>\n",
       "      <td>0.50</td>\n",
       "      <td>-0.30</td>\n",
       "      <td>0.46</td>\n",
       "      <td>1.60</td>\n",
       "      <td>6</td>\n",
       "    </tr>\n",
       "    <tr>\n",
       "      <th>1</th>\n",
       "      <td>Albania</td>\n",
       "      <td>Northern/Eastern Europe</td>\n",
       "      <td>3.16</td>\n",
       "      <td>0.73</td>\n",
       "      <td>$4,534.37</td>\n",
       "      <td>0.78</td>\n",
       "      <td>0.22</td>\n",
       "      <td>0.25</td>\n",
       "      <td>0.87</td>\n",
       "      <td>0.02</td>\n",
       "      <td>...</td>\n",
       "      <td>0.55</td>\n",
       "      <td>0.21</td>\n",
       "      <td>0.29</td>\n",
       "      <td>0.07</td>\n",
       "      <td>0.06</td>\n",
       "      <td>1.18</td>\n",
       "      <td>-1.03</td>\n",
       "      <td>1.27</td>\n",
       "      <td>1.87</td>\n",
       "      <td>6</td>\n",
       "    </tr>\n",
       "    <tr>\n",
       "      <th>2</th>\n",
       "      <td>Algeria</td>\n",
       "      <td>Africa</td>\n",
       "      <td>38.48</td>\n",
       "      <td>0.73</td>\n",
       "      <td>$5,430.57</td>\n",
       "      <td>0.60</td>\n",
       "      <td>0.16</td>\n",
       "      <td>0.17</td>\n",
       "      <td>1.14</td>\n",
       "      <td>0.01</td>\n",
       "      <td>...</td>\n",
       "      <td>0.24</td>\n",
       "      <td>0.27</td>\n",
       "      <td>0.03</td>\n",
       "      <td>0.01</td>\n",
       "      <td>0.03</td>\n",
       "      <td>0.59</td>\n",
       "      <td>-1.53</td>\n",
       "      <td>1.22</td>\n",
       "      <td>3.61</td>\n",
       "      <td>5</td>\n",
       "    </tr>\n",
       "    <tr>\n",
       "      <th>3</th>\n",
       "      <td>Angola</td>\n",
       "      <td>Africa</td>\n",
       "      <td>20.82</td>\n",
       "      <td>0.52</td>\n",
       "      <td>$4,665.91</td>\n",
       "      <td>0.33</td>\n",
       "      <td>0.15</td>\n",
       "      <td>0.12</td>\n",
       "      <td>0.20</td>\n",
       "      <td>0.09</td>\n",
       "      <td>...</td>\n",
       "      <td>0.20</td>\n",
       "      <td>1.42</td>\n",
       "      <td>0.64</td>\n",
       "      <td>0.26</td>\n",
       "      <td>0.04</td>\n",
       "      <td>2.55</td>\n",
       "      <td>1.61</td>\n",
       "      <td>0.54</td>\n",
       "      <td>0.37</td>\n",
       "      <td>6</td>\n",
       "    </tr>\n",
       "    <tr>\n",
       "      <th>4</th>\n",
       "      <td>Antigua and Barbuda</td>\n",
       "      <td>Latin America</td>\n",
       "      <td>0.09</td>\n",
       "      <td>0.78</td>\n",
       "      <td>$13,205.10</td>\n",
       "      <td>NaN</td>\n",
       "      <td>NaN</td>\n",
       "      <td>NaN</td>\n",
       "      <td>NaN</td>\n",
       "      <td>NaN</td>\n",
       "      <td>...</td>\n",
       "      <td>NaN</td>\n",
       "      <td>NaN</td>\n",
       "      <td>NaN</td>\n",
       "      <td>NaN</td>\n",
       "      <td>NaN</td>\n",
       "      <td>0.94</td>\n",
       "      <td>-4.44</td>\n",
       "      <td>3.11</td>\n",
       "      <td>5.70</td>\n",
       "      <td>2</td>\n",
       "    </tr>\n",
       "  </tbody>\n",
       "</table>\n",
       "<p>5 rows × 21 columns</p>\n",
       "</div>"
      ],
      "text/plain": [
       "               Country                    Region  Population (millions)   HDI  \\\n",
       "0          Afghanistan  Middle East/Central Asia                  29.82  0.46   \n",
       "1              Albania   Northern/Eastern Europe                   3.16  0.73   \n",
       "2              Algeria                    Africa                  38.48  0.73   \n",
       "3               Angola                    Africa                  20.82  0.52   \n",
       "4  Antigua and Barbuda             Latin America                   0.09  0.78   \n",
       "\n",
       "  GDP per Capita  Cropland Footprint  Grazing Footprint  Forest Footprint  \\\n",
       "0        $614.66                0.30               0.20              0.08   \n",
       "1      $4,534.37                0.78               0.22              0.25   \n",
       "2      $5,430.57                0.60               0.16              0.17   \n",
       "3      $4,665.91                0.33               0.15              0.12   \n",
       "4     $13,205.10                 NaN                NaN               NaN   \n",
       "\n",
       "   Carbon Footprint  Fish Footprint  ...  Cropland  Grazing Land  Forest Land  \\\n",
       "0              0.18            0.00  ...      0.24          0.20         0.02   \n",
       "1              0.87            0.02  ...      0.55          0.21         0.29   \n",
       "2              1.14            0.01  ...      0.24          0.27         0.03   \n",
       "3              0.20            0.09  ...      0.20          1.42         0.64   \n",
       "4               NaN             NaN  ...       NaN           NaN          NaN   \n",
       "\n",
       "   Fishing Water  Urban Land  Total Biocapacity  \\\n",
       "0           0.00        0.04               0.50   \n",
       "1           0.07        0.06               1.18   \n",
       "2           0.01        0.03               0.59   \n",
       "3           0.26        0.04               2.55   \n",
       "4            NaN         NaN               0.94   \n",
       "\n",
       "   Biocapacity Deficit or Reserve  Earths Required  Countries Required  \\\n",
       "0                           -0.30             0.46                1.60   \n",
       "1                           -1.03             1.27                1.87   \n",
       "2                           -1.53             1.22                3.61   \n",
       "3                            1.61             0.54                0.37   \n",
       "4                           -4.44             3.11                5.70   \n",
       "\n",
       "   Data Quality  \n",
       "0             6  \n",
       "1             6  \n",
       "2             5  \n",
       "3             6  \n",
       "4             2  \n",
       "\n",
       "[5 rows x 21 columns]"
      ]
     },
     "execution_count": 4,
     "metadata": {},
     "output_type": "execute_result"
    }
   ],
   "source": [
    "data.head()"
   ]
  },
  {
   "cell_type": "markdown",
   "metadata": {},
   "source": [
    "Preview the bottom of our dataset"
   ]
  },
  {
   "cell_type": "code",
   "execution_count": 5,
   "metadata": {},
   "outputs": [
    {
     "data": {
      "text/html": [
       "<div>\n",
       "<style scoped>\n",
       "    .dataframe tbody tr th:only-of-type {\n",
       "        vertical-align: middle;\n",
       "    }\n",
       "\n",
       "    .dataframe tbody tr th {\n",
       "        vertical-align: top;\n",
       "    }\n",
       "\n",
       "    .dataframe thead th {\n",
       "        text-align: right;\n",
       "    }\n",
       "</style>\n",
       "<table border=\"1\" class=\"dataframe\">\n",
       "  <thead>\n",
       "    <tr style=\"text-align: right;\">\n",
       "      <th></th>\n",
       "      <th>Country</th>\n",
       "      <th>Region</th>\n",
       "      <th>Population (millions)</th>\n",
       "      <th>HDI</th>\n",
       "      <th>GDP per Capita</th>\n",
       "      <th>Cropland Footprint</th>\n",
       "      <th>Grazing Footprint</th>\n",
       "      <th>Forest Footprint</th>\n",
       "      <th>Carbon Footprint</th>\n",
       "      <th>Fish Footprint</th>\n",
       "      <th>...</th>\n",
       "      <th>Cropland</th>\n",
       "      <th>Grazing Land</th>\n",
       "      <th>Forest Land</th>\n",
       "      <th>Fishing Water</th>\n",
       "      <th>Urban Land</th>\n",
       "      <th>Total Biocapacity</th>\n",
       "      <th>Biocapacity Deficit or Reserve</th>\n",
       "      <th>Earths Required</th>\n",
       "      <th>Countries Required</th>\n",
       "      <th>Data Quality</th>\n",
       "    </tr>\n",
       "  </thead>\n",
       "  <tbody>\n",
       "    <tr>\n",
       "      <th>183</th>\n",
       "      <td>Viet Nam</td>\n",
       "      <td>Asia-Pacific</td>\n",
       "      <td>90.80</td>\n",
       "      <td>0.66</td>\n",
       "      <td>$1,532.31</td>\n",
       "      <td>0.50</td>\n",
       "      <td>0.01</td>\n",
       "      <td>0.19</td>\n",
       "      <td>0.79</td>\n",
       "      <td>0.05</td>\n",
       "      <td>...</td>\n",
       "      <td>0.55</td>\n",
       "      <td>0.01</td>\n",
       "      <td>0.17</td>\n",
       "      <td>0.16</td>\n",
       "      <td>0.10</td>\n",
       "      <td>1.00</td>\n",
       "      <td>-0.65</td>\n",
       "      <td>0.95</td>\n",
       "      <td>1.66</td>\n",
       "      <td>6</td>\n",
       "    </tr>\n",
       "    <tr>\n",
       "      <th>184</th>\n",
       "      <td>Wallis and Futuna Islands</td>\n",
       "      <td>Asia-Pacific</td>\n",
       "      <td>0.01</td>\n",
       "      <td>NaN</td>\n",
       "      <td>NaN</td>\n",
       "      <td>NaN</td>\n",
       "      <td>NaN</td>\n",
       "      <td>NaN</td>\n",
       "      <td>NaN</td>\n",
       "      <td>NaN</td>\n",
       "      <td>...</td>\n",
       "      <td>NaN</td>\n",
       "      <td>NaN</td>\n",
       "      <td>NaN</td>\n",
       "      <td>NaN</td>\n",
       "      <td>NaN</td>\n",
       "      <td>1.51</td>\n",
       "      <td>-0.56</td>\n",
       "      <td>1.19</td>\n",
       "      <td>1.37</td>\n",
       "      <td>3T</td>\n",
       "    </tr>\n",
       "    <tr>\n",
       "      <th>185</th>\n",
       "      <td>Yemen</td>\n",
       "      <td>Middle East/Central Asia</td>\n",
       "      <td>23.85</td>\n",
       "      <td>0.50</td>\n",
       "      <td>$1,302.30</td>\n",
       "      <td>0.34</td>\n",
       "      <td>0.14</td>\n",
       "      <td>0.04</td>\n",
       "      <td>0.42</td>\n",
       "      <td>0.04</td>\n",
       "      <td>...</td>\n",
       "      <td>0.09</td>\n",
       "      <td>0.12</td>\n",
       "      <td>0.04</td>\n",
       "      <td>0.20</td>\n",
       "      <td>0.04</td>\n",
       "      <td>0.50</td>\n",
       "      <td>-0.53</td>\n",
       "      <td>0.59</td>\n",
       "      <td>2.06</td>\n",
       "      <td>5</td>\n",
       "    </tr>\n",
       "    <tr>\n",
       "      <th>186</th>\n",
       "      <td>Zambia</td>\n",
       "      <td>Africa</td>\n",
       "      <td>14.08</td>\n",
       "      <td>0.58</td>\n",
       "      <td>$1,740.64</td>\n",
       "      <td>0.19</td>\n",
       "      <td>0.18</td>\n",
       "      <td>0.33</td>\n",
       "      <td>0.24</td>\n",
       "      <td>0.01</td>\n",
       "      <td>...</td>\n",
       "      <td>0.24</td>\n",
       "      <td>0.94</td>\n",
       "      <td>0.99</td>\n",
       "      <td>0.02</td>\n",
       "      <td>0.04</td>\n",
       "      <td>2.23</td>\n",
       "      <td>1.24</td>\n",
       "      <td>0.57</td>\n",
       "      <td>0.44</td>\n",
       "      <td>6</td>\n",
       "    </tr>\n",
       "    <tr>\n",
       "      <th>187</th>\n",
       "      <td>Zimbabwe</td>\n",
       "      <td>Africa</td>\n",
       "      <td>13.72</td>\n",
       "      <td>0.49</td>\n",
       "      <td>$865.91</td>\n",
       "      <td>0.20</td>\n",
       "      <td>0.32</td>\n",
       "      <td>0.29</td>\n",
       "      <td>0.53</td>\n",
       "      <td>0.01</td>\n",
       "      <td>...</td>\n",
       "      <td>0.15</td>\n",
       "      <td>0.32</td>\n",
       "      <td>0.12</td>\n",
       "      <td>0.01</td>\n",
       "      <td>0.02</td>\n",
       "      <td>0.62</td>\n",
       "      <td>-0.75</td>\n",
       "      <td>0.79</td>\n",
       "      <td>2.20</td>\n",
       "      <td>6</td>\n",
       "    </tr>\n",
       "  </tbody>\n",
       "</table>\n",
       "<p>5 rows × 21 columns</p>\n",
       "</div>"
      ],
      "text/plain": [
       "                       Country                    Region  \\\n",
       "183                   Viet Nam              Asia-Pacific   \n",
       "184  Wallis and Futuna Islands              Asia-Pacific   \n",
       "185                      Yemen  Middle East/Central Asia   \n",
       "186                     Zambia                    Africa   \n",
       "187                   Zimbabwe                    Africa   \n",
       "\n",
       "     Population (millions)   HDI GDP per Capita  Cropland Footprint  \\\n",
       "183                  90.80  0.66      $1,532.31                0.50   \n",
       "184                   0.01   NaN            NaN                 NaN   \n",
       "185                  23.85  0.50      $1,302.30                0.34   \n",
       "186                  14.08  0.58      $1,740.64                0.19   \n",
       "187                  13.72  0.49        $865.91                0.20   \n",
       "\n",
       "     Grazing Footprint  Forest Footprint  Carbon Footprint  Fish Footprint  \\\n",
       "183               0.01              0.19              0.79            0.05   \n",
       "184                NaN               NaN               NaN             NaN   \n",
       "185               0.14              0.04              0.42            0.04   \n",
       "186               0.18              0.33              0.24            0.01   \n",
       "187               0.32              0.29              0.53            0.01   \n",
       "\n",
       "     ...  Cropland  Grazing Land  Forest Land  Fishing Water  Urban Land  \\\n",
       "183  ...      0.55          0.01         0.17           0.16        0.10   \n",
       "184  ...       NaN           NaN          NaN            NaN         NaN   \n",
       "185  ...      0.09          0.12         0.04           0.20        0.04   \n",
       "186  ...      0.24          0.94         0.99           0.02        0.04   \n",
       "187  ...      0.15          0.32         0.12           0.01        0.02   \n",
       "\n",
       "     Total Biocapacity  Biocapacity Deficit or Reserve  Earths Required  \\\n",
       "183               1.00                           -0.65             0.95   \n",
       "184               1.51                           -0.56             1.19   \n",
       "185               0.50                           -0.53             0.59   \n",
       "186               2.23                            1.24             0.57   \n",
       "187               0.62                           -0.75             0.79   \n",
       "\n",
       "     Countries Required  Data Quality  \n",
       "183                1.66             6  \n",
       "184                1.37            3T  \n",
       "185                2.06             5  \n",
       "186                0.44             6  \n",
       "187                2.20             6  \n",
       "\n",
       "[5 rows x 21 columns]"
      ]
     },
     "execution_count": 5,
     "metadata": {},
     "output_type": "execute_result"
    }
   ],
   "source": [
    "data.tail()"
   ]
  },
  {
   "cell_type": "code",
   "execution_count": 6,
   "metadata": {},
   "outputs": [
    {
     "data": {
      "text/html": [
       "<div>\n",
       "<style scoped>\n",
       "    .dataframe tbody tr th:only-of-type {\n",
       "        vertical-align: middle;\n",
       "    }\n",
       "\n",
       "    .dataframe tbody tr th {\n",
       "        vertical-align: top;\n",
       "    }\n",
       "\n",
       "    .dataframe thead th {\n",
       "        text-align: right;\n",
       "    }\n",
       "</style>\n",
       "<table border=\"1\" class=\"dataframe\">\n",
       "  <thead>\n",
       "    <tr style=\"text-align: right;\">\n",
       "      <th></th>\n",
       "      <th>Population (millions)</th>\n",
       "      <th>HDI</th>\n",
       "      <th>Cropland Footprint</th>\n",
       "      <th>Grazing Footprint</th>\n",
       "      <th>Forest Footprint</th>\n",
       "      <th>Carbon Footprint</th>\n",
       "      <th>Fish Footprint</th>\n",
       "      <th>Total Ecological Footprint</th>\n",
       "      <th>Cropland</th>\n",
       "      <th>Grazing Land</th>\n",
       "      <th>Forest Land</th>\n",
       "      <th>Fishing Water</th>\n",
       "      <th>Urban Land</th>\n",
       "      <th>Total Biocapacity</th>\n",
       "      <th>Biocapacity Deficit or Reserve</th>\n",
       "      <th>Earths Required</th>\n",
       "      <th>Countries Required</th>\n",
       "    </tr>\n",
       "  </thead>\n",
       "  <tbody>\n",
       "    <tr>\n",
       "      <th>count</th>\n",
       "      <td>188.000000</td>\n",
       "      <td>172.00000</td>\n",
       "      <td>173.000000</td>\n",
       "      <td>173.000000</td>\n",
       "      <td>173.000000</td>\n",
       "      <td>173.000000</td>\n",
       "      <td>173.000000</td>\n",
       "      <td>188.000000</td>\n",
       "      <td>173.000000</td>\n",
       "      <td>173.000000</td>\n",
       "      <td>173.000000</td>\n",
       "      <td>173.000000</td>\n",
       "      <td>173.000000</td>\n",
       "      <td>188.000000</td>\n",
       "      <td>188.000000</td>\n",
       "      <td>188.000000</td>\n",
       "      <td>188.000000</td>\n",
       "    </tr>\n",
       "    <tr>\n",
       "      <th>mean</th>\n",
       "      <td>37.342372</td>\n",
       "      <td>0.68636</td>\n",
       "      <td>0.578208</td>\n",
       "      <td>0.263179</td>\n",
       "      <td>0.373815</td>\n",
       "      <td>1.804913</td>\n",
       "      <td>0.122486</td>\n",
       "      <td>3.317606</td>\n",
       "      <td>0.531850</td>\n",
       "      <td>0.456590</td>\n",
       "      <td>2.459191</td>\n",
       "      <td>0.595145</td>\n",
       "      <td>0.067110</td>\n",
       "      <td>4.019681</td>\n",
       "      <td>0.702074</td>\n",
       "      <td>1.915745</td>\n",
       "      <td>4.037397</td>\n",
       "    </tr>\n",
       "    <tr>\n",
       "      <th>std</th>\n",
       "      <td>140.756836</td>\n",
       "      <td>0.15604</td>\n",
       "      <td>0.355691</td>\n",
       "      <td>0.352067</td>\n",
       "      <td>0.359349</td>\n",
       "      <td>1.898283</td>\n",
       "      <td>0.158427</td>\n",
       "      <td>2.370931</td>\n",
       "      <td>0.672567</td>\n",
       "      <td>1.014738</td>\n",
       "      <td>10.593956</td>\n",
       "      <td>1.661872</td>\n",
       "      <td>0.054844</td>\n",
       "      <td>11.689075</td>\n",
       "      <td>11.771339</td>\n",
       "      <td>1.369624</td>\n",
       "      <td>12.444616</td>\n",
       "    </tr>\n",
       "    <tr>\n",
       "      <th>min</th>\n",
       "      <td>0.000000</td>\n",
       "      <td>0.34000</td>\n",
       "      <td>0.070000</td>\n",
       "      <td>0.000000</td>\n",
       "      <td>0.010000</td>\n",
       "      <td>0.000000</td>\n",
       "      <td>0.000000</td>\n",
       "      <td>0.420000</td>\n",
       "      <td>0.000000</td>\n",
       "      <td>0.000000</td>\n",
       "      <td>0.000000</td>\n",
       "      <td>0.000000</td>\n",
       "      <td>0.000000</td>\n",
       "      <td>0.050000</td>\n",
       "      <td>-14.140000</td>\n",
       "      <td>0.240000</td>\n",
       "      <td>0.020000</td>\n",
       "    </tr>\n",
       "    <tr>\n",
       "      <th>25%</th>\n",
       "      <td>2.037500</td>\n",
       "      <td>0.55750</td>\n",
       "      <td>0.350000</td>\n",
       "      <td>0.080000</td>\n",
       "      <td>0.170000</td>\n",
       "      <td>0.420000</td>\n",
       "      <td>0.020000</td>\n",
       "      <td>1.482500</td>\n",
       "      <td>0.180000</td>\n",
       "      <td>0.030000</td>\n",
       "      <td>0.060000</td>\n",
       "      <td>0.030000</td>\n",
       "      <td>0.030000</td>\n",
       "      <td>0.675000</td>\n",
       "      <td>-1.935000</td>\n",
       "      <td>0.855000</td>\n",
       "      <td>0.942500</td>\n",
       "    </tr>\n",
       "    <tr>\n",
       "      <th>50%</th>\n",
       "      <td>7.970000</td>\n",
       "      <td>0.72000</td>\n",
       "      <td>0.520000</td>\n",
       "      <td>0.180000</td>\n",
       "      <td>0.260000</td>\n",
       "      <td>1.140000</td>\n",
       "      <td>0.070000</td>\n",
       "      <td>2.740000</td>\n",
       "      <td>0.350000</td>\n",
       "      <td>0.120000</td>\n",
       "      <td>0.340000</td>\n",
       "      <td>0.110000</td>\n",
       "      <td>0.050000</td>\n",
       "      <td>1.310000</td>\n",
       "      <td>-0.730000</td>\n",
       "      <td>1.580000</td>\n",
       "      <td>1.705000</td>\n",
       "    </tr>\n",
       "    <tr>\n",
       "      <th>75%</th>\n",
       "      <td>24.870000</td>\n",
       "      <td>0.80250</td>\n",
       "      <td>0.700000</td>\n",
       "      <td>0.320000</td>\n",
       "      <td>0.460000</td>\n",
       "      <td>2.600000</td>\n",
       "      <td>0.150000</td>\n",
       "      <td>4.640000</td>\n",
       "      <td>0.590000</td>\n",
       "      <td>0.340000</td>\n",
       "      <td>1.170000</td>\n",
       "      <td>0.370000</td>\n",
       "      <td>0.090000</td>\n",
       "      <td>2.815000</td>\n",
       "      <td>0.212500</td>\n",
       "      <td>2.677500</td>\n",
       "      <td>2.847500</td>\n",
       "    </tr>\n",
       "    <tr>\n",
       "      <th>max</th>\n",
       "      <td>1408.040000</td>\n",
       "      <td>0.94000</td>\n",
       "      <td>2.680000</td>\n",
       "      <td>3.470000</td>\n",
       "      <td>3.030000</td>\n",
       "      <td>12.650000</td>\n",
       "      <td>0.820000</td>\n",
       "      <td>15.820000</td>\n",
       "      <td>5.420000</td>\n",
       "      <td>8.230000</td>\n",
       "      <td>95.160000</td>\n",
       "      <td>16.070000</td>\n",
       "      <td>0.270000</td>\n",
       "      <td>111.350000</td>\n",
       "      <td>109.010000</td>\n",
       "      <td>9.140000</td>\n",
       "      <td>159.470000</td>\n",
       "    </tr>\n",
       "  </tbody>\n",
       "</table>\n",
       "</div>"
      ],
      "text/plain": [
       "       Population (millions)        HDI  Cropland Footprint  \\\n",
       "count             188.000000  172.00000          173.000000   \n",
       "mean               37.342372    0.68636            0.578208   \n",
       "std               140.756836    0.15604            0.355691   \n",
       "min                 0.000000    0.34000            0.070000   \n",
       "25%                 2.037500    0.55750            0.350000   \n",
       "50%                 7.970000    0.72000            0.520000   \n",
       "75%                24.870000    0.80250            0.700000   \n",
       "max              1408.040000    0.94000            2.680000   \n",
       "\n",
       "       Grazing Footprint  Forest Footprint  Carbon Footprint  Fish Footprint  \\\n",
       "count         173.000000        173.000000        173.000000      173.000000   \n",
       "mean            0.263179          0.373815          1.804913        0.122486   \n",
       "std             0.352067          0.359349          1.898283        0.158427   \n",
       "min             0.000000          0.010000          0.000000        0.000000   \n",
       "25%             0.080000          0.170000          0.420000        0.020000   \n",
       "50%             0.180000          0.260000          1.140000        0.070000   \n",
       "75%             0.320000          0.460000          2.600000        0.150000   \n",
       "max             3.470000          3.030000         12.650000        0.820000   \n",
       "\n",
       "       Total Ecological Footprint    Cropland  Grazing Land  Forest Land  \\\n",
       "count                  188.000000  173.000000    173.000000   173.000000   \n",
       "mean                     3.317606    0.531850      0.456590     2.459191   \n",
       "std                      2.370931    0.672567      1.014738    10.593956   \n",
       "min                      0.420000    0.000000      0.000000     0.000000   \n",
       "25%                      1.482500    0.180000      0.030000     0.060000   \n",
       "50%                      2.740000    0.350000      0.120000     0.340000   \n",
       "75%                      4.640000    0.590000      0.340000     1.170000   \n",
       "max                     15.820000    5.420000      8.230000    95.160000   \n",
       "\n",
       "       Fishing Water  Urban Land  Total Biocapacity  \\\n",
       "count     173.000000  173.000000         188.000000   \n",
       "mean        0.595145    0.067110           4.019681   \n",
       "std         1.661872    0.054844          11.689075   \n",
       "min         0.000000    0.000000           0.050000   \n",
       "25%         0.030000    0.030000           0.675000   \n",
       "50%         0.110000    0.050000           1.310000   \n",
       "75%         0.370000    0.090000           2.815000   \n",
       "max        16.070000    0.270000         111.350000   \n",
       "\n",
       "       Biocapacity Deficit or Reserve  Earths Required  Countries Required  \n",
       "count                      188.000000       188.000000          188.000000  \n",
       "mean                         0.702074         1.915745            4.037397  \n",
       "std                         11.771339         1.369624           12.444616  \n",
       "min                        -14.140000         0.240000            0.020000  \n",
       "25%                         -1.935000         0.855000            0.942500  \n",
       "50%                         -0.730000         1.580000            1.705000  \n",
       "75%                          0.212500         2.677500            2.847500  \n",
       "max                        109.010000         9.140000          159.470000  "
      ]
     },
     "execution_count": 6,
     "metadata": {},
     "output_type": "execute_result"
    }
   ],
   "source": [
    "#Generate the summary of descriptive statistics on the dataset\n",
    "data.describe()"
   ]
  },
  {
   "cell_type": "markdown",
   "metadata": {},
   "source": [
    "Checking whether each column has an appropriate data type"
   ]
  },
  {
   "cell_type": "code",
   "execution_count": 7,
   "metadata": {},
   "outputs": [
    {
     "data": {
      "text/plain": [
       "Country                            object\n",
       "Region                             object\n",
       "Population (millions)             float64\n",
       "HDI                               float64\n",
       "GDP per Capita                     object\n",
       "Cropland Footprint                float64\n",
       "Grazing Footprint                 float64\n",
       "Forest Footprint                  float64\n",
       "Carbon Footprint                  float64\n",
       "Fish Footprint                    float64\n",
       "Total Ecological Footprint        float64\n",
       "Cropland                          float64\n",
       "Grazing Land                      float64\n",
       "Forest Land                       float64\n",
       "Fishing Water                     float64\n",
       "Urban Land                        float64\n",
       "Total Biocapacity                 float64\n",
       "Biocapacity Deficit or Reserve    float64\n",
       "Earths Required                   float64\n",
       "Countries Required                float64\n",
       "Data Quality                       object\n",
       "dtype: object"
      ]
     },
     "execution_count": 7,
     "metadata": {},
     "output_type": "execute_result"
    }
   ],
   "source": [
    "data.dtypes"
   ]
  },
  {
   "cell_type": "code",
   "execution_count": 8,
   "metadata": {},
   "outputs": [
    {
     "name": "stderr",
     "output_type": "stream",
     "text": [
      "<>:2: SyntaxWarning: invalid escape sequence '\\$'\n",
      "<>:2: SyntaxWarning: invalid escape sequence '\\$'\n",
      "/var/folders/pr/2m705yq164bgyzzpp2mzd_kw0000gn/T/ipykernel_49064/2633476542.py:2: SyntaxWarning: invalid escape sequence '\\$'\n",
      "  data['GDP per Capita'] = data['GDP per Capita'].str.replace('[\\$,]','', regex=True).astype(float)\n"
     ]
    },
    {
     "data": {
      "text/html": [
       "<div>\n",
       "<style scoped>\n",
       "    .dataframe tbody tr th:only-of-type {\n",
       "        vertical-align: middle;\n",
       "    }\n",
       "\n",
       "    .dataframe tbody tr th {\n",
       "        vertical-align: top;\n",
       "    }\n",
       "\n",
       "    .dataframe thead th {\n",
       "        text-align: right;\n",
       "    }\n",
       "</style>\n",
       "<table border=\"1\" class=\"dataframe\">\n",
       "  <thead>\n",
       "    <tr style=\"text-align: right;\">\n",
       "      <th></th>\n",
       "      <th>Country</th>\n",
       "      <th>Region</th>\n",
       "      <th>Population (millions)</th>\n",
       "      <th>HDI</th>\n",
       "      <th>GDP per Capita</th>\n",
       "      <th>Cropland Footprint</th>\n",
       "      <th>Grazing Footprint</th>\n",
       "      <th>Forest Footprint</th>\n",
       "      <th>Carbon Footprint</th>\n",
       "      <th>Fish Footprint</th>\n",
       "      <th>...</th>\n",
       "      <th>Cropland</th>\n",
       "      <th>Grazing Land</th>\n",
       "      <th>Forest Land</th>\n",
       "      <th>Fishing Water</th>\n",
       "      <th>Urban Land</th>\n",
       "      <th>Total Biocapacity</th>\n",
       "      <th>Biocapacity Deficit or Reserve</th>\n",
       "      <th>Earths Required</th>\n",
       "      <th>Countries Required</th>\n",
       "      <th>Data Quality</th>\n",
       "    </tr>\n",
       "  </thead>\n",
       "  <tbody>\n",
       "    <tr>\n",
       "      <th>0</th>\n",
       "      <td>Afghanistan</td>\n",
       "      <td>Middle East/Central Asia</td>\n",
       "      <td>29.82</td>\n",
       "      <td>0.46</td>\n",
       "      <td>614.66</td>\n",
       "      <td>0.30</td>\n",
       "      <td>0.20</td>\n",
       "      <td>0.08</td>\n",
       "      <td>0.18</td>\n",
       "      <td>0.00</td>\n",
       "      <td>...</td>\n",
       "      <td>0.24</td>\n",
       "      <td>0.20</td>\n",
       "      <td>0.02</td>\n",
       "      <td>0.00</td>\n",
       "      <td>0.04</td>\n",
       "      <td>0.50</td>\n",
       "      <td>-0.30</td>\n",
       "      <td>0.46</td>\n",
       "      <td>1.60</td>\n",
       "      <td>6</td>\n",
       "    </tr>\n",
       "    <tr>\n",
       "      <th>1</th>\n",
       "      <td>Albania</td>\n",
       "      <td>Northern/Eastern Europe</td>\n",
       "      <td>3.16</td>\n",
       "      <td>0.73</td>\n",
       "      <td>4534.37</td>\n",
       "      <td>0.78</td>\n",
       "      <td>0.22</td>\n",
       "      <td>0.25</td>\n",
       "      <td>0.87</td>\n",
       "      <td>0.02</td>\n",
       "      <td>...</td>\n",
       "      <td>0.55</td>\n",
       "      <td>0.21</td>\n",
       "      <td>0.29</td>\n",
       "      <td>0.07</td>\n",
       "      <td>0.06</td>\n",
       "      <td>1.18</td>\n",
       "      <td>-1.03</td>\n",
       "      <td>1.27</td>\n",
       "      <td>1.87</td>\n",
       "      <td>6</td>\n",
       "    </tr>\n",
       "    <tr>\n",
       "      <th>2</th>\n",
       "      <td>Algeria</td>\n",
       "      <td>Africa</td>\n",
       "      <td>38.48</td>\n",
       "      <td>0.73</td>\n",
       "      <td>5430.57</td>\n",
       "      <td>0.60</td>\n",
       "      <td>0.16</td>\n",
       "      <td>0.17</td>\n",
       "      <td>1.14</td>\n",
       "      <td>0.01</td>\n",
       "      <td>...</td>\n",
       "      <td>0.24</td>\n",
       "      <td>0.27</td>\n",
       "      <td>0.03</td>\n",
       "      <td>0.01</td>\n",
       "      <td>0.03</td>\n",
       "      <td>0.59</td>\n",
       "      <td>-1.53</td>\n",
       "      <td>1.22</td>\n",
       "      <td>3.61</td>\n",
       "      <td>5</td>\n",
       "    </tr>\n",
       "    <tr>\n",
       "      <th>3</th>\n",
       "      <td>Angola</td>\n",
       "      <td>Africa</td>\n",
       "      <td>20.82</td>\n",
       "      <td>0.52</td>\n",
       "      <td>4665.91</td>\n",
       "      <td>0.33</td>\n",
       "      <td>0.15</td>\n",
       "      <td>0.12</td>\n",
       "      <td>0.20</td>\n",
       "      <td>0.09</td>\n",
       "      <td>...</td>\n",
       "      <td>0.20</td>\n",
       "      <td>1.42</td>\n",
       "      <td>0.64</td>\n",
       "      <td>0.26</td>\n",
       "      <td>0.04</td>\n",
       "      <td>2.55</td>\n",
       "      <td>1.61</td>\n",
       "      <td>0.54</td>\n",
       "      <td>0.37</td>\n",
       "      <td>6</td>\n",
       "    </tr>\n",
       "    <tr>\n",
       "      <th>4</th>\n",
       "      <td>Antigua and Barbuda</td>\n",
       "      <td>Latin America</td>\n",
       "      <td>0.09</td>\n",
       "      <td>0.78</td>\n",
       "      <td>13205.10</td>\n",
       "      <td>NaN</td>\n",
       "      <td>NaN</td>\n",
       "      <td>NaN</td>\n",
       "      <td>NaN</td>\n",
       "      <td>NaN</td>\n",
       "      <td>...</td>\n",
       "      <td>NaN</td>\n",
       "      <td>NaN</td>\n",
       "      <td>NaN</td>\n",
       "      <td>NaN</td>\n",
       "      <td>NaN</td>\n",
       "      <td>0.94</td>\n",
       "      <td>-4.44</td>\n",
       "      <td>3.11</td>\n",
       "      <td>5.70</td>\n",
       "      <td>2</td>\n",
       "    </tr>\n",
       "  </tbody>\n",
       "</table>\n",
       "<p>5 rows × 21 columns</p>\n",
       "</div>"
      ],
      "text/plain": [
       "               Country                    Region  Population (millions)   HDI  \\\n",
       "0          Afghanistan  Middle East/Central Asia                  29.82  0.46   \n",
       "1              Albania   Northern/Eastern Europe                   3.16  0.73   \n",
       "2              Algeria                    Africa                  38.48  0.73   \n",
       "3               Angola                    Africa                  20.82  0.52   \n",
       "4  Antigua and Barbuda             Latin America                   0.09  0.78   \n",
       "\n",
       "   GDP per Capita  Cropland Footprint  Grazing Footprint  Forest Footprint  \\\n",
       "0          614.66                0.30               0.20              0.08   \n",
       "1         4534.37                0.78               0.22              0.25   \n",
       "2         5430.57                0.60               0.16              0.17   \n",
       "3         4665.91                0.33               0.15              0.12   \n",
       "4        13205.10                 NaN                NaN               NaN   \n",
       "\n",
       "   Carbon Footprint  Fish Footprint  ...  Cropland  Grazing Land  Forest Land  \\\n",
       "0              0.18            0.00  ...      0.24          0.20         0.02   \n",
       "1              0.87            0.02  ...      0.55          0.21         0.29   \n",
       "2              1.14            0.01  ...      0.24          0.27         0.03   \n",
       "3              0.20            0.09  ...      0.20          1.42         0.64   \n",
       "4               NaN             NaN  ...       NaN           NaN          NaN   \n",
       "\n",
       "   Fishing Water  Urban Land  Total Biocapacity  \\\n",
       "0           0.00        0.04               0.50   \n",
       "1           0.07        0.06               1.18   \n",
       "2           0.01        0.03               0.59   \n",
       "3           0.26        0.04               2.55   \n",
       "4            NaN         NaN               0.94   \n",
       "\n",
       "   Biocapacity Deficit or Reserve  Earths Required  Countries Required  \\\n",
       "0                           -0.30             0.46                1.60   \n",
       "1                           -1.03             1.27                1.87   \n",
       "2                           -1.53             1.22                3.61   \n",
       "3                            1.61             0.54                0.37   \n",
       "4                           -4.44             3.11                5.70   \n",
       "\n",
       "   Data Quality  \n",
       "0             6  \n",
       "1             6  \n",
       "2             5  \n",
       "3             6  \n",
       "4             2  \n",
       "\n",
       "[5 rows x 21 columns]"
      ]
     },
     "execution_count": 8,
     "metadata": {},
     "output_type": "execute_result"
    }
   ],
   "source": [
    "#Changing wrong dtypes to correct\n",
    "data['GDP per Capita'] = data['GDP per Capita'].str.replace('[\\$,]','', regex=True).astype(float)\n",
    "\n",
    "#Rename the column to include '$'\n",
    "data.rename(columns={'GDDP per Capita': 'GDDP per Capita ($)'}, inplace=True)\n",
    "\n",
    "data.head()"
   ]
  },
  {
   "cell_type": "code",
   "execution_count": 9,
   "metadata": {},
   "outputs": [],
   "source": [
    "#data['Data Quality'] = data['Data Quality'].astype(float)\n"
   ]
  },
  {
   "cell_type": "code",
   "execution_count": 10,
   "metadata": {},
   "outputs": [
    {
     "data": {
      "text/plain": [
       "Country                            object\n",
       "Region                             object\n",
       "Population (millions)             float64\n",
       "HDI                               float64\n",
       "GDP per Capita                    float64\n",
       "Cropland Footprint                float64\n",
       "Grazing Footprint                 float64\n",
       "Forest Footprint                  float64\n",
       "Carbon Footprint                  float64\n",
       "Fish Footprint                    float64\n",
       "Total Ecological Footprint        float64\n",
       "Cropland                          float64\n",
       "Grazing Land                      float64\n",
       "Forest Land                       float64\n",
       "Fishing Water                     float64\n",
       "Urban Land                        float64\n",
       "Total Biocapacity                 float64\n",
       "Biocapacity Deficit or Reserve    float64\n",
       "Earths Required                   float64\n",
       "Countries Required                float64\n",
       "Data Quality                       object\n",
       "dtype: object"
      ]
     },
     "execution_count": 10,
     "metadata": {},
     "output_type": "execute_result"
    }
   ],
   "source": [
    "data.dtypes"
   ]
  },
  {
   "cell_type": "markdown",
   "metadata": {},
   "source": [
    "#Determining the number of records in our dataset"
   ]
  },
  {
   "cell_type": "code",
   "execution_count": 11,
   "metadata": {},
   "outputs": [
    {
     "data": {
      "text/plain": [
       "(188, 21)"
      ]
     },
     "execution_count": 11,
     "metadata": {},
     "output_type": "execute_result"
    }
   ],
   "source": [
    "data.shape"
   ]
  },
  {
   "cell_type": "code",
   "execution_count": 12,
   "metadata": {},
   "outputs": [
    {
     "name": "stdout",
     "output_type": "stream",
     "text": [
      "<class 'pandas.core.frame.DataFrame'>\n",
      "RangeIndex: 188 entries, 0 to 187\n",
      "Data columns (total 21 columns):\n",
      " #   Column                          Non-Null Count  Dtype  \n",
      "---  ------                          --------------  -----  \n",
      " 0   Country                         188 non-null    object \n",
      " 1   Region                          188 non-null    object \n",
      " 2   Population (millions)           188 non-null    float64\n",
      " 3   HDI                             172 non-null    float64\n",
      " 4   GDP per Capita                  173 non-null    float64\n",
      " 5   Cropland Footprint              173 non-null    float64\n",
      " 6   Grazing Footprint               173 non-null    float64\n",
      " 7   Forest Footprint                173 non-null    float64\n",
      " 8   Carbon Footprint                173 non-null    float64\n",
      " 9   Fish Footprint                  173 non-null    float64\n",
      " 10  Total Ecological Footprint      188 non-null    float64\n",
      " 11  Cropland                        173 non-null    float64\n",
      " 12  Grazing Land                    173 non-null    float64\n",
      " 13  Forest Land                     173 non-null    float64\n",
      " 14  Fishing Water                   173 non-null    float64\n",
      " 15  Urban Land                      173 non-null    float64\n",
      " 16  Total Biocapacity               188 non-null    float64\n",
      " 17  Biocapacity Deficit or Reserve  188 non-null    float64\n",
      " 18  Earths Required                 188 non-null    float64\n",
      " 19  Countries Required              188 non-null    float64\n",
      " 20  Data Quality                    188 non-null    object \n",
      "dtypes: float64(18), object(3)\n",
      "memory usage: 31.0+ KB\n"
     ]
    }
   ],
   "source": [
    "#Get info about the dataset\n",
    "data.info()"
   ]
  },
  {
   "cell_type": "markdown",
   "metadata": {},
   "source": [
    "4) Tidying the dataset"
   ]
  },
  {
   "cell_type": "markdown",
   "metadata": {},
   "source": [
    "Check for missing values"
   ]
  },
  {
   "cell_type": "code",
   "execution_count": 13,
   "metadata": {},
   "outputs": [
    {
     "data": {
      "text/plain": [
       "Country                            0\n",
       "Region                             0\n",
       "Population (millions)              0\n",
       "HDI                               16\n",
       "GDP per Capita                    15\n",
       "Cropland Footprint                15\n",
       "Grazing Footprint                 15\n",
       "Forest Footprint                  15\n",
       "Carbon Footprint                  15\n",
       "Fish Footprint                    15\n",
       "Total Ecological Footprint         0\n",
       "Cropland                          15\n",
       "Grazing Land                      15\n",
       "Forest Land                       15\n",
       "Fishing Water                     15\n",
       "Urban Land                        15\n",
       "Total Biocapacity                  0\n",
       "Biocapacity Deficit or Reserve     0\n",
       "Earths Required                    0\n",
       "Countries Required                 0\n",
       "Data Quality                       0\n",
       "dtype: int64"
      ]
     },
     "execution_count": 13,
     "metadata": {},
     "output_type": "execute_result"
    }
   ],
   "source": [
    "#Check for null values\n",
    "data.isnull().sum()"
   ]
  },
  {
   "cell_type": "markdown",
   "metadata": {},
   "source": [
    "hecking for duplicated values"
   ]
  },
  {
   "cell_type": "code",
   "execution_count": 14,
   "metadata": {},
   "outputs": [
    {
     "data": {
      "text/plain": [
       "0"
      ]
     },
     "execution_count": 14,
     "metadata": {},
     "output_type": "execute_result"
    }
   ],
   "source": [
    "data.duplicated().sum()"
   ]
  },
  {
   "cell_type": "markdown",
   "metadata": {},
   "source": [
    "Dealing with missing values"
   ]
  },
  {
   "cell_type": "markdown",
   "metadata": {},
   "source": [
    "5) Data Visualization"
   ]
  },
  {
   "cell_type": "code",
   "execution_count": 15,
   "metadata": {},
   "outputs": [
    {
     "name": "stdout",
     "output_type": "stream",
     "text": [
      "        Category   Value\n",
      "0       Cropland   92.01\n",
      "1   Grazing Land   78.99\n",
      "2    Forest Land  425.44\n",
      "3  Fishing Water  102.96\n",
      "4     Urban Land   11.61\n"
     ]
    },
    {
     "data": {
      "application/vnd.plotly.v1+json": {
       "config": {
        "plotlyServerURL": "https://plot.ly"
       },
       "data": [
        {
         "domain": {
          "x": [
           0,
           1
          ],
          "y": [
           0,
           1
          ]
         },
         "hovertemplate": "Category=%{label}<br>Value=%{value}<extra></extra>",
         "labels": [
          "Cropland",
          "Grazing Land",
          "Forest Land",
          "Fishing Water",
          "Urban Land"
         ],
         "legendgroup": "",
         "name": "",
         "showlegend": true,
         "type": "pie",
         "values": [
          92.00999999999999,
          78.99000000000001,
          425.44,
          102.96000000000001,
          11.61
         ]
        }
       ],
       "layout": {
        "legend": {
         "tracegroupgap": 0
        },
        "template": {
         "data": {
          "bar": [
           {
            "error_x": {
             "color": "#2a3f5f"
            },
            "error_y": {
             "color": "#2a3f5f"
            },
            "marker": {
             "line": {
              "color": "#E5ECF6",
              "width": 0.5
             },
             "pattern": {
              "fillmode": "overlay",
              "size": 10,
              "solidity": 0.2
             }
            },
            "type": "bar"
           }
          ],
          "barpolar": [
           {
            "marker": {
             "line": {
              "color": "#E5ECF6",
              "width": 0.5
             },
             "pattern": {
              "fillmode": "overlay",
              "size": 10,
              "solidity": 0.2
             }
            },
            "type": "barpolar"
           }
          ],
          "carpet": [
           {
            "aaxis": {
             "endlinecolor": "#2a3f5f",
             "gridcolor": "white",
             "linecolor": "white",
             "minorgridcolor": "white",
             "startlinecolor": "#2a3f5f"
            },
            "baxis": {
             "endlinecolor": "#2a3f5f",
             "gridcolor": "white",
             "linecolor": "white",
             "minorgridcolor": "white",
             "startlinecolor": "#2a3f5f"
            },
            "type": "carpet"
           }
          ],
          "choropleth": [
           {
            "colorbar": {
             "outlinewidth": 0,
             "ticks": ""
            },
            "type": "choropleth"
           }
          ],
          "contour": [
           {
            "colorbar": {
             "outlinewidth": 0,
             "ticks": ""
            },
            "colorscale": [
             [
              0,
              "#0d0887"
             ],
             [
              0.1111111111111111,
              "#46039f"
             ],
             [
              0.2222222222222222,
              "#7201a8"
             ],
             [
              0.3333333333333333,
              "#9c179e"
             ],
             [
              0.4444444444444444,
              "#bd3786"
             ],
             [
              0.5555555555555556,
              "#d8576b"
             ],
             [
              0.6666666666666666,
              "#ed7953"
             ],
             [
              0.7777777777777778,
              "#fb9f3a"
             ],
             [
              0.8888888888888888,
              "#fdca26"
             ],
             [
              1,
              "#f0f921"
             ]
            ],
            "type": "contour"
           }
          ],
          "contourcarpet": [
           {
            "colorbar": {
             "outlinewidth": 0,
             "ticks": ""
            },
            "type": "contourcarpet"
           }
          ],
          "heatmap": [
           {
            "colorbar": {
             "outlinewidth": 0,
             "ticks": ""
            },
            "colorscale": [
             [
              0,
              "#0d0887"
             ],
             [
              0.1111111111111111,
              "#46039f"
             ],
             [
              0.2222222222222222,
              "#7201a8"
             ],
             [
              0.3333333333333333,
              "#9c179e"
             ],
             [
              0.4444444444444444,
              "#bd3786"
             ],
             [
              0.5555555555555556,
              "#d8576b"
             ],
             [
              0.6666666666666666,
              "#ed7953"
             ],
             [
              0.7777777777777778,
              "#fb9f3a"
             ],
             [
              0.8888888888888888,
              "#fdca26"
             ],
             [
              1,
              "#f0f921"
             ]
            ],
            "type": "heatmap"
           }
          ],
          "heatmapgl": [
           {
            "colorbar": {
             "outlinewidth": 0,
             "ticks": ""
            },
            "colorscale": [
             [
              0,
              "#0d0887"
             ],
             [
              0.1111111111111111,
              "#46039f"
             ],
             [
              0.2222222222222222,
              "#7201a8"
             ],
             [
              0.3333333333333333,
              "#9c179e"
             ],
             [
              0.4444444444444444,
              "#bd3786"
             ],
             [
              0.5555555555555556,
              "#d8576b"
             ],
             [
              0.6666666666666666,
              "#ed7953"
             ],
             [
              0.7777777777777778,
              "#fb9f3a"
             ],
             [
              0.8888888888888888,
              "#fdca26"
             ],
             [
              1,
              "#f0f921"
             ]
            ],
            "type": "heatmapgl"
           }
          ],
          "histogram": [
           {
            "marker": {
             "pattern": {
              "fillmode": "overlay",
              "size": 10,
              "solidity": 0.2
             }
            },
            "type": "histogram"
           }
          ],
          "histogram2d": [
           {
            "colorbar": {
             "outlinewidth": 0,
             "ticks": ""
            },
            "colorscale": [
             [
              0,
              "#0d0887"
             ],
             [
              0.1111111111111111,
              "#46039f"
             ],
             [
              0.2222222222222222,
              "#7201a8"
             ],
             [
              0.3333333333333333,
              "#9c179e"
             ],
             [
              0.4444444444444444,
              "#bd3786"
             ],
             [
              0.5555555555555556,
              "#d8576b"
             ],
             [
              0.6666666666666666,
              "#ed7953"
             ],
             [
              0.7777777777777778,
              "#fb9f3a"
             ],
             [
              0.8888888888888888,
              "#fdca26"
             ],
             [
              1,
              "#f0f921"
             ]
            ],
            "type": "histogram2d"
           }
          ],
          "histogram2dcontour": [
           {
            "colorbar": {
             "outlinewidth": 0,
             "ticks": ""
            },
            "colorscale": [
             [
              0,
              "#0d0887"
             ],
             [
              0.1111111111111111,
              "#46039f"
             ],
             [
              0.2222222222222222,
              "#7201a8"
             ],
             [
              0.3333333333333333,
              "#9c179e"
             ],
             [
              0.4444444444444444,
              "#bd3786"
             ],
             [
              0.5555555555555556,
              "#d8576b"
             ],
             [
              0.6666666666666666,
              "#ed7953"
             ],
             [
              0.7777777777777778,
              "#fb9f3a"
             ],
             [
              0.8888888888888888,
              "#fdca26"
             ],
             [
              1,
              "#f0f921"
             ]
            ],
            "type": "histogram2dcontour"
           }
          ],
          "mesh3d": [
           {
            "colorbar": {
             "outlinewidth": 0,
             "ticks": ""
            },
            "type": "mesh3d"
           }
          ],
          "parcoords": [
           {
            "line": {
             "colorbar": {
              "outlinewidth": 0,
              "ticks": ""
             }
            },
            "type": "parcoords"
           }
          ],
          "pie": [
           {
            "automargin": true,
            "type": "pie"
           }
          ],
          "scatter": [
           {
            "fillpattern": {
             "fillmode": "overlay",
             "size": 10,
             "solidity": 0.2
            },
            "type": "scatter"
           }
          ],
          "scatter3d": [
           {
            "line": {
             "colorbar": {
              "outlinewidth": 0,
              "ticks": ""
             }
            },
            "marker": {
             "colorbar": {
              "outlinewidth": 0,
              "ticks": ""
             }
            },
            "type": "scatter3d"
           }
          ],
          "scattercarpet": [
           {
            "marker": {
             "colorbar": {
              "outlinewidth": 0,
              "ticks": ""
             }
            },
            "type": "scattercarpet"
           }
          ],
          "scattergeo": [
           {
            "marker": {
             "colorbar": {
              "outlinewidth": 0,
              "ticks": ""
             }
            },
            "type": "scattergeo"
           }
          ],
          "scattergl": [
           {
            "marker": {
             "colorbar": {
              "outlinewidth": 0,
              "ticks": ""
             }
            },
            "type": "scattergl"
           }
          ],
          "scattermapbox": [
           {
            "marker": {
             "colorbar": {
              "outlinewidth": 0,
              "ticks": ""
             }
            },
            "type": "scattermapbox"
           }
          ],
          "scatterpolar": [
           {
            "marker": {
             "colorbar": {
              "outlinewidth": 0,
              "ticks": ""
             }
            },
            "type": "scatterpolar"
           }
          ],
          "scatterpolargl": [
           {
            "marker": {
             "colorbar": {
              "outlinewidth": 0,
              "ticks": ""
             }
            },
            "type": "scatterpolargl"
           }
          ],
          "scatterternary": [
           {
            "marker": {
             "colorbar": {
              "outlinewidth": 0,
              "ticks": ""
             }
            },
            "type": "scatterternary"
           }
          ],
          "surface": [
           {
            "colorbar": {
             "outlinewidth": 0,
             "ticks": ""
            },
            "colorscale": [
             [
              0,
              "#0d0887"
             ],
             [
              0.1111111111111111,
              "#46039f"
             ],
             [
              0.2222222222222222,
              "#7201a8"
             ],
             [
              0.3333333333333333,
              "#9c179e"
             ],
             [
              0.4444444444444444,
              "#bd3786"
             ],
             [
              0.5555555555555556,
              "#d8576b"
             ],
             [
              0.6666666666666666,
              "#ed7953"
             ],
             [
              0.7777777777777778,
              "#fb9f3a"
             ],
             [
              0.8888888888888888,
              "#fdca26"
             ],
             [
              1,
              "#f0f921"
             ]
            ],
            "type": "surface"
           }
          ],
          "table": [
           {
            "cells": {
             "fill": {
              "color": "#EBF0F8"
             },
             "line": {
              "color": "white"
             }
            },
            "header": {
             "fill": {
              "color": "#C8D4E3"
             },
             "line": {
              "color": "white"
             }
            },
            "type": "table"
           }
          ]
         },
         "layout": {
          "annotationdefaults": {
           "arrowcolor": "#2a3f5f",
           "arrowhead": 0,
           "arrowwidth": 1
          },
          "autotypenumbers": "strict",
          "coloraxis": {
           "colorbar": {
            "outlinewidth": 0,
            "ticks": ""
           }
          },
          "colorscale": {
           "diverging": [
            [
             0,
             "#8e0152"
            ],
            [
             0.1,
             "#c51b7d"
            ],
            [
             0.2,
             "#de77ae"
            ],
            [
             0.3,
             "#f1b6da"
            ],
            [
             0.4,
             "#fde0ef"
            ],
            [
             0.5,
             "#f7f7f7"
            ],
            [
             0.6,
             "#e6f5d0"
            ],
            [
             0.7,
             "#b8e186"
            ],
            [
             0.8,
             "#7fbc41"
            ],
            [
             0.9,
             "#4d9221"
            ],
            [
             1,
             "#276419"
            ]
           ],
           "sequential": [
            [
             0,
             "#0d0887"
            ],
            [
             0.1111111111111111,
             "#46039f"
            ],
            [
             0.2222222222222222,
             "#7201a8"
            ],
            [
             0.3333333333333333,
             "#9c179e"
            ],
            [
             0.4444444444444444,
             "#bd3786"
            ],
            [
             0.5555555555555556,
             "#d8576b"
            ],
            [
             0.6666666666666666,
             "#ed7953"
            ],
            [
             0.7777777777777778,
             "#fb9f3a"
            ],
            [
             0.8888888888888888,
             "#fdca26"
            ],
            [
             1,
             "#f0f921"
            ]
           ],
           "sequentialminus": [
            [
             0,
             "#0d0887"
            ],
            [
             0.1111111111111111,
             "#46039f"
            ],
            [
             0.2222222222222222,
             "#7201a8"
            ],
            [
             0.3333333333333333,
             "#9c179e"
            ],
            [
             0.4444444444444444,
             "#bd3786"
            ],
            [
             0.5555555555555556,
             "#d8576b"
            ],
            [
             0.6666666666666666,
             "#ed7953"
            ],
            [
             0.7777777777777778,
             "#fb9f3a"
            ],
            [
             0.8888888888888888,
             "#fdca26"
            ],
            [
             1,
             "#f0f921"
            ]
           ]
          },
          "colorway": [
           "#636efa",
           "#EF553B",
           "#00cc96",
           "#ab63fa",
           "#FFA15A",
           "#19d3f3",
           "#FF6692",
           "#B6E880",
           "#FF97FF",
           "#FECB52"
          ],
          "font": {
           "color": "#2a3f5f"
          },
          "geo": {
           "bgcolor": "white",
           "lakecolor": "white",
           "landcolor": "#E5ECF6",
           "showlakes": true,
           "showland": true,
           "subunitcolor": "white"
          },
          "hoverlabel": {
           "align": "left"
          },
          "hovermode": "closest",
          "mapbox": {
           "style": "light"
          },
          "paper_bgcolor": "white",
          "plot_bgcolor": "#E5ECF6",
          "polar": {
           "angularaxis": {
            "gridcolor": "white",
            "linecolor": "white",
            "ticks": ""
           },
           "bgcolor": "#E5ECF6",
           "radialaxis": {
            "gridcolor": "white",
            "linecolor": "white",
            "ticks": ""
           }
          },
          "scene": {
           "xaxis": {
            "backgroundcolor": "#E5ECF6",
            "gridcolor": "white",
            "gridwidth": 2,
            "linecolor": "white",
            "showbackground": true,
            "ticks": "",
            "zerolinecolor": "white"
           },
           "yaxis": {
            "backgroundcolor": "#E5ECF6",
            "gridcolor": "white",
            "gridwidth": 2,
            "linecolor": "white",
            "showbackground": true,
            "ticks": "",
            "zerolinecolor": "white"
           },
           "zaxis": {
            "backgroundcolor": "#E5ECF6",
            "gridcolor": "white",
            "gridwidth": 2,
            "linecolor": "white",
            "showbackground": true,
            "ticks": "",
            "zerolinecolor": "white"
           }
          },
          "shapedefaults": {
           "line": {
            "color": "#2a3f5f"
           }
          },
          "ternary": {
           "aaxis": {
            "gridcolor": "white",
            "linecolor": "white",
            "ticks": ""
           },
           "baxis": {
            "gridcolor": "white",
            "linecolor": "white",
            "ticks": ""
           },
           "bgcolor": "#E5ECF6",
           "caxis": {
            "gridcolor": "white",
            "linecolor": "white",
            "ticks": ""
           }
          },
          "title": {
           "x": 0.05
          },
          "xaxis": {
           "automargin": true,
           "gridcolor": "white",
           "linecolor": "white",
           "ticks": "",
           "title": {
            "standoff": 15
           },
           "zerolinecolor": "white",
           "zerolinewidth": 2
          },
          "yaxis": {
           "automargin": true,
           "gridcolor": "white",
           "linecolor": "white",
           "ticks": "",
           "title": {
            "standoff": 15
           },
           "zerolinecolor": "white",
           "zerolinewidth": 2
          }
         }
        },
        "title": {
         "text": "Percentage of land available"
        }
       }
      }
     },
     "metadata": {},
     "output_type": "display_data"
    }
   ],
   "source": [
    "import plotly.express as px\n",
    "#Define specific columns to include in the pie chart\n",
    "columns_to_plot = ['Cropland', 'Grazing Land', 'Forest Land','Fishing Water', 'Urban Land']\n",
    "\n",
    "#Extract the specific columns for plotting from the dataframe\n",
    "plot_data = data[columns_to_plot]\n",
    "\n",
    "#Calculate sum of each column\n",
    "sum_values = plot_data.sum()\n",
    "\n",
    "#prepare data for plotly pie chart\n",
    "pie_data = pd.DataFrame({'Category': sum_values.index, 'Value': sum_values.values})\n",
    "\n",
    "#Display the summed values\n",
    "print(pie_data)\n",
    "#plotting an interractive pie chart with plotly express\n",
    "fig = px.pie(pie_data, values='Value', names='Category', title='Percentage of land available')\n",
    "fig.show()\n",
    "#Customize layout\n",
    "#fig.update_traces(textposition='inside', textinfo='percent+label')"
   ]
  },
  {
   "cell_type": "code",
   "execution_count": 16,
   "metadata": {},
   "outputs": [
    {
     "data": {
      "application/vnd.plotly.v1+json": {
       "config": {
        "plotlyServerURL": "https://plot.ly"
       },
       "data": [
        {
         "coloraxis": "coloraxis",
         "geo": "geo",
         "hovertemplate": "<b>%{hovertext}</b><br><br>Country=%{location}<br>Population (millions)=%{z}<extra></extra>",
         "hovertext": [
          "Afghanistan",
          "Albania",
          "Algeria",
          "Angola",
          "Antigua and Barbuda",
          "Argentina",
          "Armenia",
          "Aruba",
          "Australia",
          "Austria",
          "Azerbaijan",
          "Bahamas",
          "Bahrain",
          "Bangladesh",
          "Barbados",
          "Belarus",
          "Belgium",
          "Benin",
          "Bermuda",
          "Bhutan",
          "Bolivia",
          "Bosnia and Herzegovina",
          "Botswana",
          "Brazil",
          "British Virgin Islands",
          "Brunei Darussalam",
          "Bulgaria",
          "Burkina Faso",
          "Burundi",
          "Cabo Verde",
          "Cambodia",
          "Cameroon",
          "Canada",
          "Cayman Islands",
          "Central African Republic",
          "Chad",
          "Chile",
          "China",
          "Colombia",
          "Comoros",
          "Congo",
          "Congo, Democratic Republic of",
          "Costa Rica",
          "Côte d'Ivoire",
          "Croatia",
          "Cuba",
          "Cyprus",
          "Czech Republic",
          "Denmark",
          "Djibouti",
          "Dominica",
          "Dominican Republic",
          "Ecuador",
          "Egypt",
          "El Salvador",
          "Equatorial Guinea",
          "Eritrea",
          "Estonia",
          "Ethiopia",
          "Fiji",
          "Finland",
          "France",
          "French Guiana",
          "French Polynesia",
          "Gabon",
          "Gambia",
          "Georgia",
          "Germany",
          "Ghana",
          "Greece",
          "Grenada",
          "Guadeloupe",
          "Guatemala",
          "Guinea",
          "Guinea-Bissau",
          "Guyana",
          "Haiti",
          "Honduras",
          "Hungary",
          "India",
          "Indonesia",
          "Iran, Islamic Republic of",
          "Iraq",
          "Ireland",
          "Israel",
          "Italy",
          "Jamaica",
          "Japan",
          "Jordan",
          "Kazakhstan",
          "Kenya",
          "Korea, Democratic People's Republic of",
          "Korea, Republic of",
          "Kuwait",
          "Kyrgyzstan",
          "Lao People's Democratic Republic",
          "Latvia",
          "Lebanon",
          "Lesotho",
          "Liberia",
          "Libyan Arab Jamahiriya",
          "Lithuania",
          "Luxembourg",
          "Macedonia TFYR",
          "Madagascar",
          "Malawi",
          "Malaysia",
          "Mali",
          "Martinique",
          "Mauritania",
          "Mauritius",
          "Mexico",
          "Moldova",
          "Mongolia",
          "Montenegro",
          "Montserrat",
          "Morocco",
          "Mozambique",
          "Myanmar",
          "Namibia",
          "Nauru",
          "Nepal",
          "Netherlands",
          "New Caledonia",
          "New Zealand",
          "Nicaragua",
          "Niger",
          "Nigeria",
          "Norway",
          "Oman",
          "Pakistan",
          "Panama",
          "Papua New Guinea",
          "Paraguay",
          "Peru",
          "Philippines",
          "Poland",
          "Portugal",
          "Qatar",
          "Réunion",
          "Romania",
          "Russian Federation",
          "Rwanda",
          "Saint Kitts and Nevis",
          "Saint Lucia",
          "Saint Vincent and Grenadines",
          "Samoa",
          "Sao Tome and Principe",
          "Saudi Arabia",
          "Senegal",
          "Serbia",
          "Sierra Leone",
          "Singapore",
          "Slovakia",
          "Slovenia",
          "Solomon Islands",
          "Somalia",
          "South Africa",
          "Spain",
          "Sri Lanka",
          "Suriname",
          "Swaziland",
          "Sweden",
          "Switzerland",
          "Syrian Arab Republic",
          "Tajikistan",
          "Tanzania, United Republic of",
          "Thailand",
          "Timor-Leste",
          "Togo",
          "Tonga",
          "Trinidad and Tobago",
          "Tunisia",
          "Turkey",
          "Turkmenistan",
          "Uganda",
          "Ukraine",
          "United Kingdom",
          "United Arab Emirates",
          "United States of America",
          "Uruguay",
          "Uzbekistan",
          "Venezuela, Bolivarian Republic of",
          "Viet Nam",
          "Wallis and Futuna Islands",
          "Yemen",
          "Zambia",
          "Zimbabwe"
         ],
         "locationmode": "country names",
         "locations": [
          "Afghanistan",
          "Albania",
          "Algeria",
          "Angola",
          "Antigua and Barbuda",
          "Argentina",
          "Armenia",
          "Aruba",
          "Australia",
          "Austria",
          "Azerbaijan",
          "Bahamas",
          "Bahrain",
          "Bangladesh",
          "Barbados",
          "Belarus",
          "Belgium",
          "Benin",
          "Bermuda",
          "Bhutan",
          "Bolivia",
          "Bosnia and Herzegovina",
          "Botswana",
          "Brazil",
          "British Virgin Islands",
          "Brunei Darussalam",
          "Bulgaria",
          "Burkina Faso",
          "Burundi",
          "Cabo Verde",
          "Cambodia",
          "Cameroon",
          "Canada",
          "Cayman Islands",
          "Central African Republic",
          "Chad",
          "Chile",
          "China",
          "Colombia",
          "Comoros",
          "Congo",
          "Congo, Democratic Republic of",
          "Costa Rica",
          "Côte d'Ivoire",
          "Croatia",
          "Cuba",
          "Cyprus",
          "Czech Republic",
          "Denmark",
          "Djibouti",
          "Dominica",
          "Dominican Republic",
          "Ecuador",
          "Egypt",
          "El Salvador",
          "Equatorial Guinea",
          "Eritrea",
          "Estonia",
          "Ethiopia",
          "Fiji",
          "Finland",
          "France",
          "French Guiana",
          "French Polynesia",
          "Gabon",
          "Gambia",
          "Georgia",
          "Germany",
          "Ghana",
          "Greece",
          "Grenada",
          "Guadeloupe",
          "Guatemala",
          "Guinea",
          "Guinea-Bissau",
          "Guyana",
          "Haiti",
          "Honduras",
          "Hungary",
          "India",
          "Indonesia",
          "Iran, Islamic Republic of",
          "Iraq",
          "Ireland",
          "Israel",
          "Italy",
          "Jamaica",
          "Japan",
          "Jordan",
          "Kazakhstan",
          "Kenya",
          "Korea, Democratic People's Republic of",
          "Korea, Republic of",
          "Kuwait",
          "Kyrgyzstan",
          "Lao People's Democratic Republic",
          "Latvia",
          "Lebanon",
          "Lesotho",
          "Liberia",
          "Libyan Arab Jamahiriya",
          "Lithuania",
          "Luxembourg",
          "Macedonia TFYR",
          "Madagascar",
          "Malawi",
          "Malaysia",
          "Mali",
          "Martinique",
          "Mauritania",
          "Mauritius",
          "Mexico",
          "Moldova",
          "Mongolia",
          "Montenegro",
          "Montserrat",
          "Morocco",
          "Mozambique",
          "Myanmar",
          "Namibia",
          "Nauru",
          "Nepal",
          "Netherlands",
          "New Caledonia",
          "New Zealand",
          "Nicaragua",
          "Niger",
          "Nigeria",
          "Norway",
          "Oman",
          "Pakistan",
          "Panama",
          "Papua New Guinea",
          "Paraguay",
          "Peru",
          "Philippines",
          "Poland",
          "Portugal",
          "Qatar",
          "Réunion",
          "Romania",
          "Russian Federation",
          "Rwanda",
          "Saint Kitts and Nevis",
          "Saint Lucia",
          "Saint Vincent and Grenadines",
          "Samoa",
          "Sao Tome and Principe",
          "Saudi Arabia",
          "Senegal",
          "Serbia",
          "Sierra Leone",
          "Singapore",
          "Slovakia",
          "Slovenia",
          "Solomon Islands",
          "Somalia",
          "South Africa",
          "Spain",
          "Sri Lanka",
          "Suriname",
          "Swaziland",
          "Sweden",
          "Switzerland",
          "Syrian Arab Republic",
          "Tajikistan",
          "Tanzania, United Republic of",
          "Thailand",
          "Timor-Leste",
          "Togo",
          "Tonga",
          "Trinidad and Tobago",
          "Tunisia",
          "Turkey",
          "Turkmenistan",
          "Uganda",
          "Ukraine",
          "United Kingdom",
          "United Arab Emirates",
          "United States of America",
          "Uruguay",
          "Uzbekistan",
          "Venezuela, Bolivarian Republic of",
          "Viet Nam",
          "Wallis and Futuna Islands",
          "Yemen",
          "Zambia",
          "Zimbabwe"
         ],
         "name": "",
         "type": "choropleth",
         "z": [
          29.82,
          3.16,
          38.48,
          20.82,
          0.09,
          41.09,
          2.97,
          0.1,
          23.05,
          8.46,
          9.31,
          0.37,
          1.32,
          154.7,
          0.28,
          9.4,
          11.06,
          10.05,
          0.06,
          0.74,
          10.5,
          3.83,
          2,
          198.66,
          0.03,
          0.41,
          7.28,
          16.46,
          9.85,
          0.49,
          14.86,
          21.7,
          34.84,
          0.06,
          4.53,
          12.45,
          17.46,
          1408.04,
          47.7,
          0.72,
          4.34,
          65.7,
          4.8,
          19.84,
          4.31,
          11.27,
          1.13,
          10.66,
          5.6,
          0.86,
          0.07,
          10.28,
          15.49,
          80.72,
          6.3,
          0.74,
          6.13,
          1.29,
          91.73,
          0.88,
          5.41,
          63.98,
          0.24,
          0.27,
          1.63,
          1.79,
          4.36,
          82.8,
          25.37,
          11.12,
          0.1,
          0.46,
          15.08,
          11.45,
          1.66,
          0.8,
          10.17,
          7.94,
          9.98,
          1236.69,
          246.86,
          76.42,
          32.78,
          4.58,
          7.64,
          60.92,
          2.77,
          127.25,
          7.01,
          16.27,
          43.18,
          24.76,
          49,
          3.25,
          5.47,
          6.65,
          2.06,
          4.65,
          2.05,
          4.19,
          6.16,
          3.03,
          0.52,
          2.11,
          22.29,
          15.91,
          29.24,
          14.85,
          0.4,
          3.8,
          1.24,
          120.85,
          3.51,
          2.8,
          0.62,
          0,
          32.52,
          25.2,
          52.8,
          2.26,
          0.01,
          27.47,
          16.71,
          0.25,
          4.46,
          5.99,
          17.16,
          168.83,
          4.99,
          3.31,
          179.16,
          3.8,
          7.17,
          6.69,
          29.99,
          96.71,
          38.21,
          10.6,
          2.05,
          0.86,
          21.76,
          143.17,
          11.46,
          0.05,
          0.18,
          0.11,
          0.19,
          0.19,
          28.29,
          13.73,
          9.55,
          5.98,
          5.3,
          5.45,
          2.07,
          0.55,
          10.2,
          52.39,
          46.76,
          21.1,
          0.54,
          1.23,
          9.51,
          8,
          21.89,
          8.01,
          47.78,
          66.78,
          1.11,
          6.64,
          0.1,
          1.34,
          10.88,
          74,
          5.17,
          36.35,
          45.53,
          63.03,
          9.206,
          317.5,
          3.4,
          28.54,
          29.96,
          90.8,
          0.01,
          23.85,
          14.08,
          13.72
         ]
        }
       ],
       "layout": {
        "coloraxis": {
         "colorbar": {
          "title": {
           "text": "Population (millions)"
          }
         },
         "colorscale": [
          [
           0,
           "#0d0887"
          ],
          [
           0.1111111111111111,
           "#46039f"
          ],
          [
           0.2222222222222222,
           "#7201a8"
          ],
          [
           0.3333333333333333,
           "#9c179e"
          ],
          [
           0.4444444444444444,
           "#bd3786"
          ],
          [
           0.5555555555555556,
           "#d8576b"
          ],
          [
           0.6666666666666666,
           "#ed7953"
          ],
          [
           0.7777777777777778,
           "#fb9f3a"
          ],
          [
           0.8888888888888888,
           "#fdca26"
          ],
          [
           1,
           "#f0f921"
          ]
         ]
        },
        "geo": {
         "center": {},
         "domain": {
          "x": [
           0,
           1
          ],
          "y": [
           0,
           1
          ]
         }
        },
        "legend": {
         "tracegroupgap": 0
        },
        "template": {
         "data": {
          "bar": [
           {
            "error_x": {
             "color": "#2a3f5f"
            },
            "error_y": {
             "color": "#2a3f5f"
            },
            "marker": {
             "line": {
              "color": "#E5ECF6",
              "width": 0.5
             },
             "pattern": {
              "fillmode": "overlay",
              "size": 10,
              "solidity": 0.2
             }
            },
            "type": "bar"
           }
          ],
          "barpolar": [
           {
            "marker": {
             "line": {
              "color": "#E5ECF6",
              "width": 0.5
             },
             "pattern": {
              "fillmode": "overlay",
              "size": 10,
              "solidity": 0.2
             }
            },
            "type": "barpolar"
           }
          ],
          "carpet": [
           {
            "aaxis": {
             "endlinecolor": "#2a3f5f",
             "gridcolor": "white",
             "linecolor": "white",
             "minorgridcolor": "white",
             "startlinecolor": "#2a3f5f"
            },
            "baxis": {
             "endlinecolor": "#2a3f5f",
             "gridcolor": "white",
             "linecolor": "white",
             "minorgridcolor": "white",
             "startlinecolor": "#2a3f5f"
            },
            "type": "carpet"
           }
          ],
          "choropleth": [
           {
            "colorbar": {
             "outlinewidth": 0,
             "ticks": ""
            },
            "type": "choropleth"
           }
          ],
          "contour": [
           {
            "colorbar": {
             "outlinewidth": 0,
             "ticks": ""
            },
            "colorscale": [
             [
              0,
              "#0d0887"
             ],
             [
              0.1111111111111111,
              "#46039f"
             ],
             [
              0.2222222222222222,
              "#7201a8"
             ],
             [
              0.3333333333333333,
              "#9c179e"
             ],
             [
              0.4444444444444444,
              "#bd3786"
             ],
             [
              0.5555555555555556,
              "#d8576b"
             ],
             [
              0.6666666666666666,
              "#ed7953"
             ],
             [
              0.7777777777777778,
              "#fb9f3a"
             ],
             [
              0.8888888888888888,
              "#fdca26"
             ],
             [
              1,
              "#f0f921"
             ]
            ],
            "type": "contour"
           }
          ],
          "contourcarpet": [
           {
            "colorbar": {
             "outlinewidth": 0,
             "ticks": ""
            },
            "type": "contourcarpet"
           }
          ],
          "heatmap": [
           {
            "colorbar": {
             "outlinewidth": 0,
             "ticks": ""
            },
            "colorscale": [
             [
              0,
              "#0d0887"
             ],
             [
              0.1111111111111111,
              "#46039f"
             ],
             [
              0.2222222222222222,
              "#7201a8"
             ],
             [
              0.3333333333333333,
              "#9c179e"
             ],
             [
              0.4444444444444444,
              "#bd3786"
             ],
             [
              0.5555555555555556,
              "#d8576b"
             ],
             [
              0.6666666666666666,
              "#ed7953"
             ],
             [
              0.7777777777777778,
              "#fb9f3a"
             ],
             [
              0.8888888888888888,
              "#fdca26"
             ],
             [
              1,
              "#f0f921"
             ]
            ],
            "type": "heatmap"
           }
          ],
          "heatmapgl": [
           {
            "colorbar": {
             "outlinewidth": 0,
             "ticks": ""
            },
            "colorscale": [
             [
              0,
              "#0d0887"
             ],
             [
              0.1111111111111111,
              "#46039f"
             ],
             [
              0.2222222222222222,
              "#7201a8"
             ],
             [
              0.3333333333333333,
              "#9c179e"
             ],
             [
              0.4444444444444444,
              "#bd3786"
             ],
             [
              0.5555555555555556,
              "#d8576b"
             ],
             [
              0.6666666666666666,
              "#ed7953"
             ],
             [
              0.7777777777777778,
              "#fb9f3a"
             ],
             [
              0.8888888888888888,
              "#fdca26"
             ],
             [
              1,
              "#f0f921"
             ]
            ],
            "type": "heatmapgl"
           }
          ],
          "histogram": [
           {
            "marker": {
             "pattern": {
              "fillmode": "overlay",
              "size": 10,
              "solidity": 0.2
             }
            },
            "type": "histogram"
           }
          ],
          "histogram2d": [
           {
            "colorbar": {
             "outlinewidth": 0,
             "ticks": ""
            },
            "colorscale": [
             [
              0,
              "#0d0887"
             ],
             [
              0.1111111111111111,
              "#46039f"
             ],
             [
              0.2222222222222222,
              "#7201a8"
             ],
             [
              0.3333333333333333,
              "#9c179e"
             ],
             [
              0.4444444444444444,
              "#bd3786"
             ],
             [
              0.5555555555555556,
              "#d8576b"
             ],
             [
              0.6666666666666666,
              "#ed7953"
             ],
             [
              0.7777777777777778,
              "#fb9f3a"
             ],
             [
              0.8888888888888888,
              "#fdca26"
             ],
             [
              1,
              "#f0f921"
             ]
            ],
            "type": "histogram2d"
           }
          ],
          "histogram2dcontour": [
           {
            "colorbar": {
             "outlinewidth": 0,
             "ticks": ""
            },
            "colorscale": [
             [
              0,
              "#0d0887"
             ],
             [
              0.1111111111111111,
              "#46039f"
             ],
             [
              0.2222222222222222,
              "#7201a8"
             ],
             [
              0.3333333333333333,
              "#9c179e"
             ],
             [
              0.4444444444444444,
              "#bd3786"
             ],
             [
              0.5555555555555556,
              "#d8576b"
             ],
             [
              0.6666666666666666,
              "#ed7953"
             ],
             [
              0.7777777777777778,
              "#fb9f3a"
             ],
             [
              0.8888888888888888,
              "#fdca26"
             ],
             [
              1,
              "#f0f921"
             ]
            ],
            "type": "histogram2dcontour"
           }
          ],
          "mesh3d": [
           {
            "colorbar": {
             "outlinewidth": 0,
             "ticks": ""
            },
            "type": "mesh3d"
           }
          ],
          "parcoords": [
           {
            "line": {
             "colorbar": {
              "outlinewidth": 0,
              "ticks": ""
             }
            },
            "type": "parcoords"
           }
          ],
          "pie": [
           {
            "automargin": true,
            "type": "pie"
           }
          ],
          "scatter": [
           {
            "fillpattern": {
             "fillmode": "overlay",
             "size": 10,
             "solidity": 0.2
            },
            "type": "scatter"
           }
          ],
          "scatter3d": [
           {
            "line": {
             "colorbar": {
              "outlinewidth": 0,
              "ticks": ""
             }
            },
            "marker": {
             "colorbar": {
              "outlinewidth": 0,
              "ticks": ""
             }
            },
            "type": "scatter3d"
           }
          ],
          "scattercarpet": [
           {
            "marker": {
             "colorbar": {
              "outlinewidth": 0,
              "ticks": ""
             }
            },
            "type": "scattercarpet"
           }
          ],
          "scattergeo": [
           {
            "marker": {
             "colorbar": {
              "outlinewidth": 0,
              "ticks": ""
             }
            },
            "type": "scattergeo"
           }
          ],
          "scattergl": [
           {
            "marker": {
             "colorbar": {
              "outlinewidth": 0,
              "ticks": ""
             }
            },
            "type": "scattergl"
           }
          ],
          "scattermapbox": [
           {
            "marker": {
             "colorbar": {
              "outlinewidth": 0,
              "ticks": ""
             }
            },
            "type": "scattermapbox"
           }
          ],
          "scatterpolar": [
           {
            "marker": {
             "colorbar": {
              "outlinewidth": 0,
              "ticks": ""
             }
            },
            "type": "scatterpolar"
           }
          ],
          "scatterpolargl": [
           {
            "marker": {
             "colorbar": {
              "outlinewidth": 0,
              "ticks": ""
             }
            },
            "type": "scatterpolargl"
           }
          ],
          "scatterternary": [
           {
            "marker": {
             "colorbar": {
              "outlinewidth": 0,
              "ticks": ""
             }
            },
            "type": "scatterternary"
           }
          ],
          "surface": [
           {
            "colorbar": {
             "outlinewidth": 0,
             "ticks": ""
            },
            "colorscale": [
             [
              0,
              "#0d0887"
             ],
             [
              0.1111111111111111,
              "#46039f"
             ],
             [
              0.2222222222222222,
              "#7201a8"
             ],
             [
              0.3333333333333333,
              "#9c179e"
             ],
             [
              0.4444444444444444,
              "#bd3786"
             ],
             [
              0.5555555555555556,
              "#d8576b"
             ],
             [
              0.6666666666666666,
              "#ed7953"
             ],
             [
              0.7777777777777778,
              "#fb9f3a"
             ],
             [
              0.8888888888888888,
              "#fdca26"
             ],
             [
              1,
              "#f0f921"
             ]
            ],
            "type": "surface"
           }
          ],
          "table": [
           {
            "cells": {
             "fill": {
              "color": "#EBF0F8"
             },
             "line": {
              "color": "white"
             }
            },
            "header": {
             "fill": {
              "color": "#C8D4E3"
             },
             "line": {
              "color": "white"
             }
            },
            "type": "table"
           }
          ]
         },
         "layout": {
          "annotationdefaults": {
           "arrowcolor": "#2a3f5f",
           "arrowhead": 0,
           "arrowwidth": 1
          },
          "autotypenumbers": "strict",
          "coloraxis": {
           "colorbar": {
            "outlinewidth": 0,
            "ticks": ""
           }
          },
          "colorscale": {
           "diverging": [
            [
             0,
             "#8e0152"
            ],
            [
             0.1,
             "#c51b7d"
            ],
            [
             0.2,
             "#de77ae"
            ],
            [
             0.3,
             "#f1b6da"
            ],
            [
             0.4,
             "#fde0ef"
            ],
            [
             0.5,
             "#f7f7f7"
            ],
            [
             0.6,
             "#e6f5d0"
            ],
            [
             0.7,
             "#b8e186"
            ],
            [
             0.8,
             "#7fbc41"
            ],
            [
             0.9,
             "#4d9221"
            ],
            [
             1,
             "#276419"
            ]
           ],
           "sequential": [
            [
             0,
             "#0d0887"
            ],
            [
             0.1111111111111111,
             "#46039f"
            ],
            [
             0.2222222222222222,
             "#7201a8"
            ],
            [
             0.3333333333333333,
             "#9c179e"
            ],
            [
             0.4444444444444444,
             "#bd3786"
            ],
            [
             0.5555555555555556,
             "#d8576b"
            ],
            [
             0.6666666666666666,
             "#ed7953"
            ],
            [
             0.7777777777777778,
             "#fb9f3a"
            ],
            [
             0.8888888888888888,
             "#fdca26"
            ],
            [
             1,
             "#f0f921"
            ]
           ],
           "sequentialminus": [
            [
             0,
             "#0d0887"
            ],
            [
             0.1111111111111111,
             "#46039f"
            ],
            [
             0.2222222222222222,
             "#7201a8"
            ],
            [
             0.3333333333333333,
             "#9c179e"
            ],
            [
             0.4444444444444444,
             "#bd3786"
            ],
            [
             0.5555555555555556,
             "#d8576b"
            ],
            [
             0.6666666666666666,
             "#ed7953"
            ],
            [
             0.7777777777777778,
             "#fb9f3a"
            ],
            [
             0.8888888888888888,
             "#fdca26"
            ],
            [
             1,
             "#f0f921"
            ]
           ]
          },
          "colorway": [
           "#636efa",
           "#EF553B",
           "#00cc96",
           "#ab63fa",
           "#FFA15A",
           "#19d3f3",
           "#FF6692",
           "#B6E880",
           "#FF97FF",
           "#FECB52"
          ],
          "font": {
           "color": "#2a3f5f"
          },
          "geo": {
           "bgcolor": "white",
           "lakecolor": "white",
           "landcolor": "#E5ECF6",
           "showlakes": true,
           "showland": true,
           "subunitcolor": "white"
          },
          "hoverlabel": {
           "align": "left"
          },
          "hovermode": "closest",
          "mapbox": {
           "style": "light"
          },
          "paper_bgcolor": "white",
          "plot_bgcolor": "#E5ECF6",
          "polar": {
           "angularaxis": {
            "gridcolor": "white",
            "linecolor": "white",
            "ticks": ""
           },
           "bgcolor": "#E5ECF6",
           "radialaxis": {
            "gridcolor": "white",
            "linecolor": "white",
            "ticks": ""
           }
          },
          "scene": {
           "xaxis": {
            "backgroundcolor": "#E5ECF6",
            "gridcolor": "white",
            "gridwidth": 2,
            "linecolor": "white",
            "showbackground": true,
            "ticks": "",
            "zerolinecolor": "white"
           },
           "yaxis": {
            "backgroundcolor": "#E5ECF6",
            "gridcolor": "white",
            "gridwidth": 2,
            "linecolor": "white",
            "showbackground": true,
            "ticks": "",
            "zerolinecolor": "white"
           },
           "zaxis": {
            "backgroundcolor": "#E5ECF6",
            "gridcolor": "white",
            "gridwidth": 2,
            "linecolor": "white",
            "showbackground": true,
            "ticks": "",
            "zerolinecolor": "white"
           }
          },
          "shapedefaults": {
           "line": {
            "color": "#2a3f5f"
           }
          },
          "ternary": {
           "aaxis": {
            "gridcolor": "white",
            "linecolor": "white",
            "ticks": ""
           },
           "baxis": {
            "gridcolor": "white",
            "linecolor": "white",
            "ticks": ""
           },
           "bgcolor": "#E5ECF6",
           "caxis": {
            "gridcolor": "white",
            "linecolor": "white",
            "ticks": ""
           }
          },
          "title": {
           "x": 0.05
          },
          "xaxis": {
           "automargin": true,
           "gridcolor": "white",
           "linecolor": "white",
           "ticks": "",
           "title": {
            "standoff": 15
           },
           "zerolinecolor": "white",
           "zerolinewidth": 2
          },
          "yaxis": {
           "automargin": true,
           "gridcolor": "white",
           "linecolor": "white",
           "ticks": "",
           "title": {
            "standoff": 15
           },
           "zerolinecolor": "white",
           "zerolinewidth": 2
          }
         }
        },
        "title": {
         "text": "Population Across Countries"
        }
       }
      }
     },
     "metadata": {},
     "output_type": "display_data"
    }
   ],
   "source": [
    "#create a choropleth map for population(millions)\n",
    "fig = px.choropleth(data,\n",
    "                    locations='Country',\n",
    "                    locationmode='country names',\n",
    "                    color='Population (millions)',\n",
    "                    hover_name='Country',\n",
    "                    title='Population Across Countries')\n",
    "#Show the plot\n",
    "fig.show()\n",
    "\n"
   ]
  },
  {
   "cell_type": "code",
   "execution_count": 17,
   "metadata": {},
   "outputs": [
    {
     "data": {
      "application/vnd.plotly.v1+json": {
       "config": {
        "plotlyServerURL": "https://plot.ly"
       },
       "data": [
        {
         "coloraxis": "coloraxis",
         "geo": "geo",
         "hovertemplate": "<b>%{hovertext}</b><br><br>Country=%{location}<br>GDP per Capita=%{z}<extra></extra>",
         "hovertext": [
          "Afghanistan",
          "Albania",
          "Algeria",
          "Angola",
          "Antigua and Barbuda",
          "Argentina",
          "Armenia",
          "Aruba",
          "Australia",
          "Austria",
          "Azerbaijan",
          "Bahamas",
          "Bahrain",
          "Bangladesh",
          "Barbados",
          "Belarus",
          "Belgium",
          "Benin",
          "Bermuda",
          "Bhutan",
          "Bolivia",
          "Bosnia and Herzegovina",
          "Botswana",
          "Brazil",
          "British Virgin Islands",
          "Brunei Darussalam",
          "Bulgaria",
          "Burkina Faso",
          "Burundi",
          "Cabo Verde",
          "Cambodia",
          "Cameroon",
          "Canada",
          "Cayman Islands",
          "Central African Republic",
          "Chad",
          "Chile",
          "China",
          "Colombia",
          "Comoros",
          "Congo",
          "Congo, Democratic Republic of",
          "Costa Rica",
          "Côte d'Ivoire",
          "Croatia",
          "Cuba",
          "Cyprus",
          "Czech Republic",
          "Denmark",
          "Djibouti",
          "Dominica",
          "Dominican Republic",
          "Ecuador",
          "Egypt",
          "El Salvador",
          "Equatorial Guinea",
          "Eritrea",
          "Estonia",
          "Ethiopia",
          "Fiji",
          "Finland",
          "France",
          "French Guiana",
          "French Polynesia",
          "Gabon",
          "Gambia",
          "Georgia",
          "Germany",
          "Ghana",
          "Greece",
          "Grenada",
          "Guadeloupe",
          "Guatemala",
          "Guinea",
          "Guinea-Bissau",
          "Guyana",
          "Haiti",
          "Honduras",
          "Hungary",
          "India",
          "Indonesia",
          "Iran, Islamic Republic of",
          "Iraq",
          "Ireland",
          "Israel",
          "Italy",
          "Jamaica",
          "Japan",
          "Jordan",
          "Kazakhstan",
          "Kenya",
          "Korea, Democratic People's Republic of",
          "Korea, Republic of",
          "Kuwait",
          "Kyrgyzstan",
          "Lao People's Democratic Republic",
          "Latvia",
          "Lebanon",
          "Lesotho",
          "Liberia",
          "Libyan Arab Jamahiriya",
          "Lithuania",
          "Luxembourg",
          "Macedonia TFYR",
          "Madagascar",
          "Malawi",
          "Malaysia",
          "Mali",
          "Martinique",
          "Mauritania",
          "Mauritius",
          "Mexico",
          "Moldova",
          "Mongolia",
          "Montenegro",
          "Montserrat",
          "Morocco",
          "Mozambique",
          "Myanmar",
          "Namibia",
          "Nauru",
          "Nepal",
          "Netherlands",
          "New Caledonia",
          "New Zealand",
          "Nicaragua",
          "Niger",
          "Nigeria",
          "Norway",
          "Oman",
          "Pakistan",
          "Panama",
          "Papua New Guinea",
          "Paraguay",
          "Peru",
          "Philippines",
          "Poland",
          "Portugal",
          "Qatar",
          "Réunion",
          "Romania",
          "Russian Federation",
          "Rwanda",
          "Saint Kitts and Nevis",
          "Saint Lucia",
          "Saint Vincent and Grenadines",
          "Samoa",
          "Sao Tome and Principe",
          "Saudi Arabia",
          "Senegal",
          "Serbia",
          "Sierra Leone",
          "Singapore",
          "Slovakia",
          "Slovenia",
          "Solomon Islands",
          "Somalia",
          "South Africa",
          "Spain",
          "Sri Lanka",
          "Suriname",
          "Swaziland",
          "Sweden",
          "Switzerland",
          "Syrian Arab Republic",
          "Tajikistan",
          "Tanzania, United Republic of",
          "Thailand",
          "Timor-Leste",
          "Togo",
          "Tonga",
          "Trinidad and Tobago",
          "Tunisia",
          "Turkey",
          "Turkmenistan",
          "Uganda",
          "Ukraine",
          "United Kingdom",
          "United Arab Emirates",
          "United States of America",
          "Uruguay",
          "Uzbekistan",
          "Venezuela, Bolivarian Republic of",
          "Viet Nam",
          "Wallis and Futuna Islands",
          "Yemen",
          "Zambia",
          "Zimbabwe"
         ],
         "locationmode": "country names",
         "locations": [
          "Afghanistan",
          "Albania",
          "Algeria",
          "Angola",
          "Antigua and Barbuda",
          "Argentina",
          "Armenia",
          "Aruba",
          "Australia",
          "Austria",
          "Azerbaijan",
          "Bahamas",
          "Bahrain",
          "Bangladesh",
          "Barbados",
          "Belarus",
          "Belgium",
          "Benin",
          "Bermuda",
          "Bhutan",
          "Bolivia",
          "Bosnia and Herzegovina",
          "Botswana",
          "Brazil",
          "British Virgin Islands",
          "Brunei Darussalam",
          "Bulgaria",
          "Burkina Faso",
          "Burundi",
          "Cabo Verde",
          "Cambodia",
          "Cameroon",
          "Canada",
          "Cayman Islands",
          "Central African Republic",
          "Chad",
          "Chile",
          "China",
          "Colombia",
          "Comoros",
          "Congo",
          "Congo, Democratic Republic of",
          "Costa Rica",
          "Côte d'Ivoire",
          "Croatia",
          "Cuba",
          "Cyprus",
          "Czech Republic",
          "Denmark",
          "Djibouti",
          "Dominica",
          "Dominican Republic",
          "Ecuador",
          "Egypt",
          "El Salvador",
          "Equatorial Guinea",
          "Eritrea",
          "Estonia",
          "Ethiopia",
          "Fiji",
          "Finland",
          "France",
          "French Guiana",
          "French Polynesia",
          "Gabon",
          "Gambia",
          "Georgia",
          "Germany",
          "Ghana",
          "Greece",
          "Grenada",
          "Guadeloupe",
          "Guatemala",
          "Guinea",
          "Guinea-Bissau",
          "Guyana",
          "Haiti",
          "Honduras",
          "Hungary",
          "India",
          "Indonesia",
          "Iran, Islamic Republic of",
          "Iraq",
          "Ireland",
          "Israel",
          "Italy",
          "Jamaica",
          "Japan",
          "Jordan",
          "Kazakhstan",
          "Kenya",
          "Korea, Democratic People's Republic of",
          "Korea, Republic of",
          "Kuwait",
          "Kyrgyzstan",
          "Lao People's Democratic Republic",
          "Latvia",
          "Lebanon",
          "Lesotho",
          "Liberia",
          "Libyan Arab Jamahiriya",
          "Lithuania",
          "Luxembourg",
          "Macedonia TFYR",
          "Madagascar",
          "Malawi",
          "Malaysia",
          "Mali",
          "Martinique",
          "Mauritania",
          "Mauritius",
          "Mexico",
          "Moldova",
          "Mongolia",
          "Montenegro",
          "Montserrat",
          "Morocco",
          "Mozambique",
          "Myanmar",
          "Namibia",
          "Nauru",
          "Nepal",
          "Netherlands",
          "New Caledonia",
          "New Zealand",
          "Nicaragua",
          "Niger",
          "Nigeria",
          "Norway",
          "Oman",
          "Pakistan",
          "Panama",
          "Papua New Guinea",
          "Paraguay",
          "Peru",
          "Philippines",
          "Poland",
          "Portugal",
          "Qatar",
          "Réunion",
          "Romania",
          "Russian Federation",
          "Rwanda",
          "Saint Kitts and Nevis",
          "Saint Lucia",
          "Saint Vincent and Grenadines",
          "Samoa",
          "Sao Tome and Principe",
          "Saudi Arabia",
          "Senegal",
          "Serbia",
          "Sierra Leone",
          "Singapore",
          "Slovakia",
          "Slovenia",
          "Solomon Islands",
          "Somalia",
          "South Africa",
          "Spain",
          "Sri Lanka",
          "Suriname",
          "Swaziland",
          "Sweden",
          "Switzerland",
          "Syrian Arab Republic",
          "Tajikistan",
          "Tanzania, United Republic of",
          "Thailand",
          "Timor-Leste",
          "Togo",
          "Tonga",
          "Trinidad and Tobago",
          "Tunisia",
          "Turkey",
          "Turkmenistan",
          "Uganda",
          "Ukraine",
          "United Kingdom",
          "United Arab Emirates",
          "United States of America",
          "Uruguay",
          "Uzbekistan",
          "Venezuela, Bolivarian Republic of",
          "Viet Nam",
          "Wallis and Futuna Islands",
          "Yemen",
          "Zambia",
          "Zimbabwe"
         ],
         "name": "",
         "type": "choropleth",
         "z": [
          614.66,
          4534.37,
          5430.57,
          4665.91,
          13205.1,
          13540,
          3426.39,
          null,
          66604.2,
          51274.1,
          7106.04,
          22647.3,
          24299,
          857.5,
          15722.8,
          6300.45,
          48053.3,
          746.83,
          70626.3,
          2395,
          2253.09,
          4708.85,
          7743.5,
          13237.6,
          null,
          47097.4,
          7615.28,
          671.07,
          276.69,
          3801.45,
          877.64,
          1271.21,
          52145.4,
          null,
          495.04,
          1161.22,
          14525.8,
          5560.94,
          7305.22,
          860.24,
          1943.69,
          338.63,
          8979.96,
          1016.83,
          14522.8,
          5175.94,
          31454.7,
          21676.3,
          61413.6,
          1433.17,
          7088.01,
          6085.89,
          5192.88,
          2930.33,
          3696.33,
          24064,
          439.73,
          17304.4,
          379.38,
          4201.37,
          50960.2,
          45430.3,
          null,
          null,
          11989,
          505.76,
          3710.7,
          46822.4,
          1627.9,
          25987.4,
          7410.48,
          null,
          3233.8,
          459.09,
          681.25,
          3269.46,
          749.13,
          2269.51,
          13964.2,
          1513.85,
          3688.53,
          7511.1,
          5848.54,
          52853.6,
          33718.9,
          38412,
          5226.3,
          46201.6,
          4615.17,
          11278,
          1062.11,
          null,
          24155.8,
          41830.5,
          1116.37,
          1236.24,
          13732,
          9143.86,
          1338.42,
          397.38,
          5859.43,
          14373.7,
          114665,
          5174.89,
          456.33,
          493.84,
          10252.6,
          741.22,
          null,
          1524.39,
          8811.15,
          10123.9,
          1971.03,
          3736.07,
          7251.6,
          null,
          3149.43,
          538.82,
          1117.58,
          5880.8,
          null,
          700.07,
          53589.9,
          null,
          37488.3,
          1626.85,
          410.91,
          2612.12,
          100172,
          22622.8,
          1218.6,
          8410.77,
          1871.21,
          3557.31,
          5684.73,
          2379.44,
          13769.5,
          23217.3,
          99431.5,
          null,
          9213.94,
          13320.2,
          628.08,
          12952.5,
          7737.2,
          6171.48,
          4067.15,
          1384.53,
          23593.8,
          1079.27,
          6426.18,
          499.89,
          53122.4,
          18103.1,
          25040.5,
          1647.86,
          null,
          8089.87,
          32008.7,
          2880.03,
          8190.7,
          4657.48,
          59381.9,
          88506.2,
          null,
          836.17,
          765.33,
          5479.29,
          5167.86,
          580.86,
          4330.9,
          18310.8,
          4305.07,
          10437.7,
          5290.14,
          601.35,
          3589.63,
          40980.5,
          40817.4,
          49725,
          14238.1,
          1560.85,
          10237.8,
          1532.31,
          null,
          1302.3,
          1740.64,
          865.91
         ]
        }
       ],
       "layout": {
        "coloraxis": {
         "colorbar": {
          "title": {
           "text": "GDP per Capita"
          }
         },
         "colorscale": [
          [
           0,
           "#0d0887"
          ],
          [
           0.1111111111111111,
           "#46039f"
          ],
          [
           0.2222222222222222,
           "#7201a8"
          ],
          [
           0.3333333333333333,
           "#9c179e"
          ],
          [
           0.4444444444444444,
           "#bd3786"
          ],
          [
           0.5555555555555556,
           "#d8576b"
          ],
          [
           0.6666666666666666,
           "#ed7953"
          ],
          [
           0.7777777777777778,
           "#fb9f3a"
          ],
          [
           0.8888888888888888,
           "#fdca26"
          ],
          [
           1,
           "#f0f921"
          ]
         ]
        },
        "geo": {
         "center": {},
         "domain": {
          "x": [
           0,
           1
          ],
          "y": [
           0,
           1
          ]
         }
        },
        "legend": {
         "tracegroupgap": 0
        },
        "template": {
         "data": {
          "bar": [
           {
            "error_x": {
             "color": "#2a3f5f"
            },
            "error_y": {
             "color": "#2a3f5f"
            },
            "marker": {
             "line": {
              "color": "#E5ECF6",
              "width": 0.5
             },
             "pattern": {
              "fillmode": "overlay",
              "size": 10,
              "solidity": 0.2
             }
            },
            "type": "bar"
           }
          ],
          "barpolar": [
           {
            "marker": {
             "line": {
              "color": "#E5ECF6",
              "width": 0.5
             },
             "pattern": {
              "fillmode": "overlay",
              "size": 10,
              "solidity": 0.2
             }
            },
            "type": "barpolar"
           }
          ],
          "carpet": [
           {
            "aaxis": {
             "endlinecolor": "#2a3f5f",
             "gridcolor": "white",
             "linecolor": "white",
             "minorgridcolor": "white",
             "startlinecolor": "#2a3f5f"
            },
            "baxis": {
             "endlinecolor": "#2a3f5f",
             "gridcolor": "white",
             "linecolor": "white",
             "minorgridcolor": "white",
             "startlinecolor": "#2a3f5f"
            },
            "type": "carpet"
           }
          ],
          "choropleth": [
           {
            "colorbar": {
             "outlinewidth": 0,
             "ticks": ""
            },
            "type": "choropleth"
           }
          ],
          "contour": [
           {
            "colorbar": {
             "outlinewidth": 0,
             "ticks": ""
            },
            "colorscale": [
             [
              0,
              "#0d0887"
             ],
             [
              0.1111111111111111,
              "#46039f"
             ],
             [
              0.2222222222222222,
              "#7201a8"
             ],
             [
              0.3333333333333333,
              "#9c179e"
             ],
             [
              0.4444444444444444,
              "#bd3786"
             ],
             [
              0.5555555555555556,
              "#d8576b"
             ],
             [
              0.6666666666666666,
              "#ed7953"
             ],
             [
              0.7777777777777778,
              "#fb9f3a"
             ],
             [
              0.8888888888888888,
              "#fdca26"
             ],
             [
              1,
              "#f0f921"
             ]
            ],
            "type": "contour"
           }
          ],
          "contourcarpet": [
           {
            "colorbar": {
             "outlinewidth": 0,
             "ticks": ""
            },
            "type": "contourcarpet"
           }
          ],
          "heatmap": [
           {
            "colorbar": {
             "outlinewidth": 0,
             "ticks": ""
            },
            "colorscale": [
             [
              0,
              "#0d0887"
             ],
             [
              0.1111111111111111,
              "#46039f"
             ],
             [
              0.2222222222222222,
              "#7201a8"
             ],
             [
              0.3333333333333333,
              "#9c179e"
             ],
             [
              0.4444444444444444,
              "#bd3786"
             ],
             [
              0.5555555555555556,
              "#d8576b"
             ],
             [
              0.6666666666666666,
              "#ed7953"
             ],
             [
              0.7777777777777778,
              "#fb9f3a"
             ],
             [
              0.8888888888888888,
              "#fdca26"
             ],
             [
              1,
              "#f0f921"
             ]
            ],
            "type": "heatmap"
           }
          ],
          "heatmapgl": [
           {
            "colorbar": {
             "outlinewidth": 0,
             "ticks": ""
            },
            "colorscale": [
             [
              0,
              "#0d0887"
             ],
             [
              0.1111111111111111,
              "#46039f"
             ],
             [
              0.2222222222222222,
              "#7201a8"
             ],
             [
              0.3333333333333333,
              "#9c179e"
             ],
             [
              0.4444444444444444,
              "#bd3786"
             ],
             [
              0.5555555555555556,
              "#d8576b"
             ],
             [
              0.6666666666666666,
              "#ed7953"
             ],
             [
              0.7777777777777778,
              "#fb9f3a"
             ],
             [
              0.8888888888888888,
              "#fdca26"
             ],
             [
              1,
              "#f0f921"
             ]
            ],
            "type": "heatmapgl"
           }
          ],
          "histogram": [
           {
            "marker": {
             "pattern": {
              "fillmode": "overlay",
              "size": 10,
              "solidity": 0.2
             }
            },
            "type": "histogram"
           }
          ],
          "histogram2d": [
           {
            "colorbar": {
             "outlinewidth": 0,
             "ticks": ""
            },
            "colorscale": [
             [
              0,
              "#0d0887"
             ],
             [
              0.1111111111111111,
              "#46039f"
             ],
             [
              0.2222222222222222,
              "#7201a8"
             ],
             [
              0.3333333333333333,
              "#9c179e"
             ],
             [
              0.4444444444444444,
              "#bd3786"
             ],
             [
              0.5555555555555556,
              "#d8576b"
             ],
             [
              0.6666666666666666,
              "#ed7953"
             ],
             [
              0.7777777777777778,
              "#fb9f3a"
             ],
             [
              0.8888888888888888,
              "#fdca26"
             ],
             [
              1,
              "#f0f921"
             ]
            ],
            "type": "histogram2d"
           }
          ],
          "histogram2dcontour": [
           {
            "colorbar": {
             "outlinewidth": 0,
             "ticks": ""
            },
            "colorscale": [
             [
              0,
              "#0d0887"
             ],
             [
              0.1111111111111111,
              "#46039f"
             ],
             [
              0.2222222222222222,
              "#7201a8"
             ],
             [
              0.3333333333333333,
              "#9c179e"
             ],
             [
              0.4444444444444444,
              "#bd3786"
             ],
             [
              0.5555555555555556,
              "#d8576b"
             ],
             [
              0.6666666666666666,
              "#ed7953"
             ],
             [
              0.7777777777777778,
              "#fb9f3a"
             ],
             [
              0.8888888888888888,
              "#fdca26"
             ],
             [
              1,
              "#f0f921"
             ]
            ],
            "type": "histogram2dcontour"
           }
          ],
          "mesh3d": [
           {
            "colorbar": {
             "outlinewidth": 0,
             "ticks": ""
            },
            "type": "mesh3d"
           }
          ],
          "parcoords": [
           {
            "line": {
             "colorbar": {
              "outlinewidth": 0,
              "ticks": ""
             }
            },
            "type": "parcoords"
           }
          ],
          "pie": [
           {
            "automargin": true,
            "type": "pie"
           }
          ],
          "scatter": [
           {
            "fillpattern": {
             "fillmode": "overlay",
             "size": 10,
             "solidity": 0.2
            },
            "type": "scatter"
           }
          ],
          "scatter3d": [
           {
            "line": {
             "colorbar": {
              "outlinewidth": 0,
              "ticks": ""
             }
            },
            "marker": {
             "colorbar": {
              "outlinewidth": 0,
              "ticks": ""
             }
            },
            "type": "scatter3d"
           }
          ],
          "scattercarpet": [
           {
            "marker": {
             "colorbar": {
              "outlinewidth": 0,
              "ticks": ""
             }
            },
            "type": "scattercarpet"
           }
          ],
          "scattergeo": [
           {
            "marker": {
             "colorbar": {
              "outlinewidth": 0,
              "ticks": ""
             }
            },
            "type": "scattergeo"
           }
          ],
          "scattergl": [
           {
            "marker": {
             "colorbar": {
              "outlinewidth": 0,
              "ticks": ""
             }
            },
            "type": "scattergl"
           }
          ],
          "scattermapbox": [
           {
            "marker": {
             "colorbar": {
              "outlinewidth": 0,
              "ticks": ""
             }
            },
            "type": "scattermapbox"
           }
          ],
          "scatterpolar": [
           {
            "marker": {
             "colorbar": {
              "outlinewidth": 0,
              "ticks": ""
             }
            },
            "type": "scatterpolar"
           }
          ],
          "scatterpolargl": [
           {
            "marker": {
             "colorbar": {
              "outlinewidth": 0,
              "ticks": ""
             }
            },
            "type": "scatterpolargl"
           }
          ],
          "scatterternary": [
           {
            "marker": {
             "colorbar": {
              "outlinewidth": 0,
              "ticks": ""
             }
            },
            "type": "scatterternary"
           }
          ],
          "surface": [
           {
            "colorbar": {
             "outlinewidth": 0,
             "ticks": ""
            },
            "colorscale": [
             [
              0,
              "#0d0887"
             ],
             [
              0.1111111111111111,
              "#46039f"
             ],
             [
              0.2222222222222222,
              "#7201a8"
             ],
             [
              0.3333333333333333,
              "#9c179e"
             ],
             [
              0.4444444444444444,
              "#bd3786"
             ],
             [
              0.5555555555555556,
              "#d8576b"
             ],
             [
              0.6666666666666666,
              "#ed7953"
             ],
             [
              0.7777777777777778,
              "#fb9f3a"
             ],
             [
              0.8888888888888888,
              "#fdca26"
             ],
             [
              1,
              "#f0f921"
             ]
            ],
            "type": "surface"
           }
          ],
          "table": [
           {
            "cells": {
             "fill": {
              "color": "#EBF0F8"
             },
             "line": {
              "color": "white"
             }
            },
            "header": {
             "fill": {
              "color": "#C8D4E3"
             },
             "line": {
              "color": "white"
             }
            },
            "type": "table"
           }
          ]
         },
         "layout": {
          "annotationdefaults": {
           "arrowcolor": "#2a3f5f",
           "arrowhead": 0,
           "arrowwidth": 1
          },
          "autotypenumbers": "strict",
          "coloraxis": {
           "colorbar": {
            "outlinewidth": 0,
            "ticks": ""
           }
          },
          "colorscale": {
           "diverging": [
            [
             0,
             "#8e0152"
            ],
            [
             0.1,
             "#c51b7d"
            ],
            [
             0.2,
             "#de77ae"
            ],
            [
             0.3,
             "#f1b6da"
            ],
            [
             0.4,
             "#fde0ef"
            ],
            [
             0.5,
             "#f7f7f7"
            ],
            [
             0.6,
             "#e6f5d0"
            ],
            [
             0.7,
             "#b8e186"
            ],
            [
             0.8,
             "#7fbc41"
            ],
            [
             0.9,
             "#4d9221"
            ],
            [
             1,
             "#276419"
            ]
           ],
           "sequential": [
            [
             0,
             "#0d0887"
            ],
            [
             0.1111111111111111,
             "#46039f"
            ],
            [
             0.2222222222222222,
             "#7201a8"
            ],
            [
             0.3333333333333333,
             "#9c179e"
            ],
            [
             0.4444444444444444,
             "#bd3786"
            ],
            [
             0.5555555555555556,
             "#d8576b"
            ],
            [
             0.6666666666666666,
             "#ed7953"
            ],
            [
             0.7777777777777778,
             "#fb9f3a"
            ],
            [
             0.8888888888888888,
             "#fdca26"
            ],
            [
             1,
             "#f0f921"
            ]
           ],
           "sequentialminus": [
            [
             0,
             "#0d0887"
            ],
            [
             0.1111111111111111,
             "#46039f"
            ],
            [
             0.2222222222222222,
             "#7201a8"
            ],
            [
             0.3333333333333333,
             "#9c179e"
            ],
            [
             0.4444444444444444,
             "#bd3786"
            ],
            [
             0.5555555555555556,
             "#d8576b"
            ],
            [
             0.6666666666666666,
             "#ed7953"
            ],
            [
             0.7777777777777778,
             "#fb9f3a"
            ],
            [
             0.8888888888888888,
             "#fdca26"
            ],
            [
             1,
             "#f0f921"
            ]
           ]
          },
          "colorway": [
           "#636efa",
           "#EF553B",
           "#00cc96",
           "#ab63fa",
           "#FFA15A",
           "#19d3f3",
           "#FF6692",
           "#B6E880",
           "#FF97FF",
           "#FECB52"
          ],
          "font": {
           "color": "#2a3f5f"
          },
          "geo": {
           "bgcolor": "white",
           "lakecolor": "white",
           "landcolor": "#E5ECF6",
           "showlakes": true,
           "showland": true,
           "subunitcolor": "white"
          },
          "hoverlabel": {
           "align": "left"
          },
          "hovermode": "closest",
          "mapbox": {
           "style": "light"
          },
          "paper_bgcolor": "white",
          "plot_bgcolor": "#E5ECF6",
          "polar": {
           "angularaxis": {
            "gridcolor": "white",
            "linecolor": "white",
            "ticks": ""
           },
           "bgcolor": "#E5ECF6",
           "radialaxis": {
            "gridcolor": "white",
            "linecolor": "white",
            "ticks": ""
           }
          },
          "scene": {
           "xaxis": {
            "backgroundcolor": "#E5ECF6",
            "gridcolor": "white",
            "gridwidth": 2,
            "linecolor": "white",
            "showbackground": true,
            "ticks": "",
            "zerolinecolor": "white"
           },
           "yaxis": {
            "backgroundcolor": "#E5ECF6",
            "gridcolor": "white",
            "gridwidth": 2,
            "linecolor": "white",
            "showbackground": true,
            "ticks": "",
            "zerolinecolor": "white"
           },
           "zaxis": {
            "backgroundcolor": "#E5ECF6",
            "gridcolor": "white",
            "gridwidth": 2,
            "linecolor": "white",
            "showbackground": true,
            "ticks": "",
            "zerolinecolor": "white"
           }
          },
          "shapedefaults": {
           "line": {
            "color": "#2a3f5f"
           }
          },
          "ternary": {
           "aaxis": {
            "gridcolor": "white",
            "linecolor": "white",
            "ticks": ""
           },
           "baxis": {
            "gridcolor": "white",
            "linecolor": "white",
            "ticks": ""
           },
           "bgcolor": "#E5ECF6",
           "caxis": {
            "gridcolor": "white",
            "linecolor": "white",
            "ticks": ""
           }
          },
          "title": {
           "x": 0.05
          },
          "xaxis": {
           "automargin": true,
           "gridcolor": "white",
           "linecolor": "white",
           "ticks": "",
           "title": {
            "standoff": 15
           },
           "zerolinecolor": "white",
           "zerolinewidth": 2
          },
          "yaxis": {
           "automargin": true,
           "gridcolor": "white",
           "linecolor": "white",
           "ticks": "",
           "title": {
            "standoff": 15
           },
           "zerolinecolor": "white",
           "zerolinewidth": 2
          }
         }
        },
        "title": {
         "text": "GDP per Capita Across Countries"
        }
       }
      }
     },
     "metadata": {},
     "output_type": "display_data"
    }
   ],
   "source": [
    "#Create a choropleth map for GDP per Capita\n",
    "fig = px.choropleth(data,\n",
    "                    locations='Country',\n",
    "                    locationmode='country names',\n",
    "                    color='GDP per Capita',\n",
    "                    hover_name='Country',\n",
    "                    title='GDP per Capita Across Countries')\n",
    "#Show the plot\n",
    "fig.show()"
   ]
  },
  {
   "cell_type": "code",
   "execution_count": 18,
   "metadata": {},
   "outputs": [
    {
     "data": {
      "application/vnd.plotly.v1+json": {
       "config": {
        "plotlyServerURL": "https://plot.ly"
       },
       "data": [
        {
         "coloraxis": "coloraxis",
         "geo": "geo",
         "hovertemplate": "<b>%{hovertext}</b><br><br>Country=%{location}<br>HDI=%{z}<extra></extra>",
         "hovertext": [
          "Afghanistan",
          "Albania",
          "Algeria",
          "Angola",
          "Antigua and Barbuda",
          "Argentina",
          "Armenia",
          "Aruba",
          "Australia",
          "Austria",
          "Azerbaijan",
          "Bahamas",
          "Bahrain",
          "Bangladesh",
          "Barbados",
          "Belarus",
          "Belgium",
          "Benin",
          "Bermuda",
          "Bhutan",
          "Bolivia",
          "Bosnia and Herzegovina",
          "Botswana",
          "Brazil",
          "British Virgin Islands",
          "Brunei Darussalam",
          "Bulgaria",
          "Burkina Faso",
          "Burundi",
          "Cabo Verde",
          "Cambodia",
          "Cameroon",
          "Canada",
          "Cayman Islands",
          "Central African Republic",
          "Chad",
          "Chile",
          "China",
          "Colombia",
          "Comoros",
          "Congo",
          "Congo, Democratic Republic of",
          "Costa Rica",
          "Côte d'Ivoire",
          "Croatia",
          "Cuba",
          "Cyprus",
          "Czech Republic",
          "Denmark",
          "Djibouti",
          "Dominica",
          "Dominican Republic",
          "Ecuador",
          "Egypt",
          "El Salvador",
          "Equatorial Guinea",
          "Eritrea",
          "Estonia",
          "Ethiopia",
          "Fiji",
          "Finland",
          "France",
          "French Guiana",
          "French Polynesia",
          "Gabon",
          "Gambia",
          "Georgia",
          "Germany",
          "Ghana",
          "Greece",
          "Grenada",
          "Guadeloupe",
          "Guatemala",
          "Guinea",
          "Guinea-Bissau",
          "Guyana",
          "Haiti",
          "Honduras",
          "Hungary",
          "India",
          "Indonesia",
          "Iran, Islamic Republic of",
          "Iraq",
          "Ireland",
          "Israel",
          "Italy",
          "Jamaica",
          "Japan",
          "Jordan",
          "Kazakhstan",
          "Kenya",
          "Korea, Democratic People's Republic of",
          "Korea, Republic of",
          "Kuwait",
          "Kyrgyzstan",
          "Lao People's Democratic Republic",
          "Latvia",
          "Lebanon",
          "Lesotho",
          "Liberia",
          "Libyan Arab Jamahiriya",
          "Lithuania",
          "Luxembourg",
          "Macedonia TFYR",
          "Madagascar",
          "Malawi",
          "Malaysia",
          "Mali",
          "Martinique",
          "Mauritania",
          "Mauritius",
          "Mexico",
          "Moldova",
          "Mongolia",
          "Montenegro",
          "Montserrat",
          "Morocco",
          "Mozambique",
          "Myanmar",
          "Namibia",
          "Nauru",
          "Nepal",
          "Netherlands",
          "New Caledonia",
          "New Zealand",
          "Nicaragua",
          "Niger",
          "Nigeria",
          "Norway",
          "Oman",
          "Pakistan",
          "Panama",
          "Papua New Guinea",
          "Paraguay",
          "Peru",
          "Philippines",
          "Poland",
          "Portugal",
          "Qatar",
          "Réunion",
          "Romania",
          "Russian Federation",
          "Rwanda",
          "Saint Kitts and Nevis",
          "Saint Lucia",
          "Saint Vincent and Grenadines",
          "Samoa",
          "Sao Tome and Principe",
          "Saudi Arabia",
          "Senegal",
          "Serbia",
          "Sierra Leone",
          "Singapore",
          "Slovakia",
          "Slovenia",
          "Solomon Islands",
          "Somalia",
          "South Africa",
          "Spain",
          "Sri Lanka",
          "Suriname",
          "Swaziland",
          "Sweden",
          "Switzerland",
          "Syrian Arab Republic",
          "Tajikistan",
          "Tanzania, United Republic of",
          "Thailand",
          "Timor-Leste",
          "Togo",
          "Tonga",
          "Trinidad and Tobago",
          "Tunisia",
          "Turkey",
          "Turkmenistan",
          "Uganda",
          "Ukraine",
          "United Kingdom",
          "United Arab Emirates",
          "United States of America",
          "Uruguay",
          "Uzbekistan",
          "Venezuela, Bolivarian Republic of",
          "Viet Nam",
          "Wallis and Futuna Islands",
          "Yemen",
          "Zambia",
          "Zimbabwe"
         ],
         "locationmode": "country names",
         "locations": [
          "Afghanistan",
          "Albania",
          "Algeria",
          "Angola",
          "Antigua and Barbuda",
          "Argentina",
          "Armenia",
          "Aruba",
          "Australia",
          "Austria",
          "Azerbaijan",
          "Bahamas",
          "Bahrain",
          "Bangladesh",
          "Barbados",
          "Belarus",
          "Belgium",
          "Benin",
          "Bermuda",
          "Bhutan",
          "Bolivia",
          "Bosnia and Herzegovina",
          "Botswana",
          "Brazil",
          "British Virgin Islands",
          "Brunei Darussalam",
          "Bulgaria",
          "Burkina Faso",
          "Burundi",
          "Cabo Verde",
          "Cambodia",
          "Cameroon",
          "Canada",
          "Cayman Islands",
          "Central African Republic",
          "Chad",
          "Chile",
          "China",
          "Colombia",
          "Comoros",
          "Congo",
          "Congo, Democratic Republic of",
          "Costa Rica",
          "Côte d'Ivoire",
          "Croatia",
          "Cuba",
          "Cyprus",
          "Czech Republic",
          "Denmark",
          "Djibouti",
          "Dominica",
          "Dominican Republic",
          "Ecuador",
          "Egypt",
          "El Salvador",
          "Equatorial Guinea",
          "Eritrea",
          "Estonia",
          "Ethiopia",
          "Fiji",
          "Finland",
          "France",
          "French Guiana",
          "French Polynesia",
          "Gabon",
          "Gambia",
          "Georgia",
          "Germany",
          "Ghana",
          "Greece",
          "Grenada",
          "Guadeloupe",
          "Guatemala",
          "Guinea",
          "Guinea-Bissau",
          "Guyana",
          "Haiti",
          "Honduras",
          "Hungary",
          "India",
          "Indonesia",
          "Iran, Islamic Republic of",
          "Iraq",
          "Ireland",
          "Israel",
          "Italy",
          "Jamaica",
          "Japan",
          "Jordan",
          "Kazakhstan",
          "Kenya",
          "Korea, Democratic People's Republic of",
          "Korea, Republic of",
          "Kuwait",
          "Kyrgyzstan",
          "Lao People's Democratic Republic",
          "Latvia",
          "Lebanon",
          "Lesotho",
          "Liberia",
          "Libyan Arab Jamahiriya",
          "Lithuania",
          "Luxembourg",
          "Macedonia TFYR",
          "Madagascar",
          "Malawi",
          "Malaysia",
          "Mali",
          "Martinique",
          "Mauritania",
          "Mauritius",
          "Mexico",
          "Moldova",
          "Mongolia",
          "Montenegro",
          "Montserrat",
          "Morocco",
          "Mozambique",
          "Myanmar",
          "Namibia",
          "Nauru",
          "Nepal",
          "Netherlands",
          "New Caledonia",
          "New Zealand",
          "Nicaragua",
          "Niger",
          "Nigeria",
          "Norway",
          "Oman",
          "Pakistan",
          "Panama",
          "Papua New Guinea",
          "Paraguay",
          "Peru",
          "Philippines",
          "Poland",
          "Portugal",
          "Qatar",
          "Réunion",
          "Romania",
          "Russian Federation",
          "Rwanda",
          "Saint Kitts and Nevis",
          "Saint Lucia",
          "Saint Vincent and Grenadines",
          "Samoa",
          "Sao Tome and Principe",
          "Saudi Arabia",
          "Senegal",
          "Serbia",
          "Sierra Leone",
          "Singapore",
          "Slovakia",
          "Slovenia",
          "Solomon Islands",
          "Somalia",
          "South Africa",
          "Spain",
          "Sri Lanka",
          "Suriname",
          "Swaziland",
          "Sweden",
          "Switzerland",
          "Syrian Arab Republic",
          "Tajikistan",
          "Tanzania, United Republic of",
          "Thailand",
          "Timor-Leste",
          "Togo",
          "Tonga",
          "Trinidad and Tobago",
          "Tunisia",
          "Turkey",
          "Turkmenistan",
          "Uganda",
          "Ukraine",
          "United Kingdom",
          "United Arab Emirates",
          "United States of America",
          "Uruguay",
          "Uzbekistan",
          "Venezuela, Bolivarian Republic of",
          "Viet Nam",
          "Wallis and Futuna Islands",
          "Yemen",
          "Zambia",
          "Zimbabwe"
         ],
         "name": "",
         "type": "choropleth",
         "z": [
          0.46,
          0.73,
          0.73,
          0.52,
          0.78,
          0.83,
          0.73,
          null,
          0.93,
          0.88,
          0.75,
          0.78,
          0.82,
          0.56,
          0.79,
          0.8,
          0.89,
          0.48,
          null,
          0.59,
          0.65,
          0.73,
          0.69,
          0.75,
          null,
          0.85,
          0.78,
          0.39,
          0.39,
          0.64,
          0.55,
          0.5,
          0.91,
          null,
          0.37,
          0.39,
          0.83,
          0.72,
          0.72,
          0.5,
          0.57,
          0.42,
          0.76,
          null,
          0.82,
          0.77,
          0.85,
          0.87,
          0.92,
          0.46,
          0.72,
          0.71,
          0.73,
          0.69,
          0.66,
          0.58,
          0.39,
          0.85,
          0.43,
          0.72,
          0.88,
          0.89,
          null,
          null,
          0.67,
          0.44,
          0.75,
          0.91,
          0.57,
          0.86,
          0.74,
          null,
          0.62,
          0.41,
          0.42,
          0.63,
          0.48,
          0.61,
          0.82,
          0.6,
          0.68,
          0.76,
          0.65,
          0.91,
          0.89,
          0.87,
          0.72,
          0.89,
          0.75,
          0.78,
          0.54,
          null,
          0.89,
          0.82,
          0.65,
          0.56,
          0.81,
          0.76,
          0.48,
          0.42,
          0.74,
          0.83,
          0.89,
          0.74,
          0.51,
          0.43,
          0.77,
          0.41,
          null,
          0.5,
          0.77,
          0.75,
          0.68,
          0.71,
          0.8,
          null,
          0.62,
          0.41,
          0.53,
          0.62,
          null,
          0.54,
          0.92,
          null,
          0.91,
          0.63,
          0.34,
          0.5,
          0.94,
          0.79,
          0.53,
          0.77,
          0.5,
          0.67,
          0.73,
          0.66,
          0.84,
          0.83,
          0.85,
          null,
          0.79,
          0.79,
          0.48,
          0.74,
          0.73,
          0.72,
          0.7,
          0.55,
          0.83,
          0.46,
          0.76,
          0.4,
          0.91,
          0.84,
          0.88,
          0.5,
          null,
          0.66,
          0.87,
          0.75,
          0.71,
          0.53,
          0.9,
          0.93,
          0.62,
          0.62,
          0.51,
          0.72,
          0.6,
          0.47,
          0.72,
          0.77,
          0.72,
          0.76,
          0.68,
          0.48,
          0.74,
          0.9,
          0.83,
          0.91,
          0.79,
          0.67,
          0.763846,
          0.66,
          null,
          0.5,
          0.58,
          0.49
         ]
        }
       ],
       "layout": {
        "coloraxis": {
         "colorbar": {
          "title": {
           "text": "HDI"
          }
         },
         "colorscale": [
          [
           0,
           "#0d0887"
          ],
          [
           0.1111111111111111,
           "#46039f"
          ],
          [
           0.2222222222222222,
           "#7201a8"
          ],
          [
           0.3333333333333333,
           "#9c179e"
          ],
          [
           0.4444444444444444,
           "#bd3786"
          ],
          [
           0.5555555555555556,
           "#d8576b"
          ],
          [
           0.6666666666666666,
           "#ed7953"
          ],
          [
           0.7777777777777778,
           "#fb9f3a"
          ],
          [
           0.8888888888888888,
           "#fdca26"
          ],
          [
           1,
           "#f0f921"
          ]
         ]
        },
        "geo": {
         "center": {},
         "domain": {
          "x": [
           0,
           1
          ],
          "y": [
           0,
           1
          ]
         }
        },
        "legend": {
         "tracegroupgap": 0
        },
        "template": {
         "data": {
          "bar": [
           {
            "error_x": {
             "color": "#2a3f5f"
            },
            "error_y": {
             "color": "#2a3f5f"
            },
            "marker": {
             "line": {
              "color": "#E5ECF6",
              "width": 0.5
             },
             "pattern": {
              "fillmode": "overlay",
              "size": 10,
              "solidity": 0.2
             }
            },
            "type": "bar"
           }
          ],
          "barpolar": [
           {
            "marker": {
             "line": {
              "color": "#E5ECF6",
              "width": 0.5
             },
             "pattern": {
              "fillmode": "overlay",
              "size": 10,
              "solidity": 0.2
             }
            },
            "type": "barpolar"
           }
          ],
          "carpet": [
           {
            "aaxis": {
             "endlinecolor": "#2a3f5f",
             "gridcolor": "white",
             "linecolor": "white",
             "minorgridcolor": "white",
             "startlinecolor": "#2a3f5f"
            },
            "baxis": {
             "endlinecolor": "#2a3f5f",
             "gridcolor": "white",
             "linecolor": "white",
             "minorgridcolor": "white",
             "startlinecolor": "#2a3f5f"
            },
            "type": "carpet"
           }
          ],
          "choropleth": [
           {
            "colorbar": {
             "outlinewidth": 0,
             "ticks": ""
            },
            "type": "choropleth"
           }
          ],
          "contour": [
           {
            "colorbar": {
             "outlinewidth": 0,
             "ticks": ""
            },
            "colorscale": [
             [
              0,
              "#0d0887"
             ],
             [
              0.1111111111111111,
              "#46039f"
             ],
             [
              0.2222222222222222,
              "#7201a8"
             ],
             [
              0.3333333333333333,
              "#9c179e"
             ],
             [
              0.4444444444444444,
              "#bd3786"
             ],
             [
              0.5555555555555556,
              "#d8576b"
             ],
             [
              0.6666666666666666,
              "#ed7953"
             ],
             [
              0.7777777777777778,
              "#fb9f3a"
             ],
             [
              0.8888888888888888,
              "#fdca26"
             ],
             [
              1,
              "#f0f921"
             ]
            ],
            "type": "contour"
           }
          ],
          "contourcarpet": [
           {
            "colorbar": {
             "outlinewidth": 0,
             "ticks": ""
            },
            "type": "contourcarpet"
           }
          ],
          "heatmap": [
           {
            "colorbar": {
             "outlinewidth": 0,
             "ticks": ""
            },
            "colorscale": [
             [
              0,
              "#0d0887"
             ],
             [
              0.1111111111111111,
              "#46039f"
             ],
             [
              0.2222222222222222,
              "#7201a8"
             ],
             [
              0.3333333333333333,
              "#9c179e"
             ],
             [
              0.4444444444444444,
              "#bd3786"
             ],
             [
              0.5555555555555556,
              "#d8576b"
             ],
             [
              0.6666666666666666,
              "#ed7953"
             ],
             [
              0.7777777777777778,
              "#fb9f3a"
             ],
             [
              0.8888888888888888,
              "#fdca26"
             ],
             [
              1,
              "#f0f921"
             ]
            ],
            "type": "heatmap"
           }
          ],
          "heatmapgl": [
           {
            "colorbar": {
             "outlinewidth": 0,
             "ticks": ""
            },
            "colorscale": [
             [
              0,
              "#0d0887"
             ],
             [
              0.1111111111111111,
              "#46039f"
             ],
             [
              0.2222222222222222,
              "#7201a8"
             ],
             [
              0.3333333333333333,
              "#9c179e"
             ],
             [
              0.4444444444444444,
              "#bd3786"
             ],
             [
              0.5555555555555556,
              "#d8576b"
             ],
             [
              0.6666666666666666,
              "#ed7953"
             ],
             [
              0.7777777777777778,
              "#fb9f3a"
             ],
             [
              0.8888888888888888,
              "#fdca26"
             ],
             [
              1,
              "#f0f921"
             ]
            ],
            "type": "heatmapgl"
           }
          ],
          "histogram": [
           {
            "marker": {
             "pattern": {
              "fillmode": "overlay",
              "size": 10,
              "solidity": 0.2
             }
            },
            "type": "histogram"
           }
          ],
          "histogram2d": [
           {
            "colorbar": {
             "outlinewidth": 0,
             "ticks": ""
            },
            "colorscale": [
             [
              0,
              "#0d0887"
             ],
             [
              0.1111111111111111,
              "#46039f"
             ],
             [
              0.2222222222222222,
              "#7201a8"
             ],
             [
              0.3333333333333333,
              "#9c179e"
             ],
             [
              0.4444444444444444,
              "#bd3786"
             ],
             [
              0.5555555555555556,
              "#d8576b"
             ],
             [
              0.6666666666666666,
              "#ed7953"
             ],
             [
              0.7777777777777778,
              "#fb9f3a"
             ],
             [
              0.8888888888888888,
              "#fdca26"
             ],
             [
              1,
              "#f0f921"
             ]
            ],
            "type": "histogram2d"
           }
          ],
          "histogram2dcontour": [
           {
            "colorbar": {
             "outlinewidth": 0,
             "ticks": ""
            },
            "colorscale": [
             [
              0,
              "#0d0887"
             ],
             [
              0.1111111111111111,
              "#46039f"
             ],
             [
              0.2222222222222222,
              "#7201a8"
             ],
             [
              0.3333333333333333,
              "#9c179e"
             ],
             [
              0.4444444444444444,
              "#bd3786"
             ],
             [
              0.5555555555555556,
              "#d8576b"
             ],
             [
              0.6666666666666666,
              "#ed7953"
             ],
             [
              0.7777777777777778,
              "#fb9f3a"
             ],
             [
              0.8888888888888888,
              "#fdca26"
             ],
             [
              1,
              "#f0f921"
             ]
            ],
            "type": "histogram2dcontour"
           }
          ],
          "mesh3d": [
           {
            "colorbar": {
             "outlinewidth": 0,
             "ticks": ""
            },
            "type": "mesh3d"
           }
          ],
          "parcoords": [
           {
            "line": {
             "colorbar": {
              "outlinewidth": 0,
              "ticks": ""
             }
            },
            "type": "parcoords"
           }
          ],
          "pie": [
           {
            "automargin": true,
            "type": "pie"
           }
          ],
          "scatter": [
           {
            "fillpattern": {
             "fillmode": "overlay",
             "size": 10,
             "solidity": 0.2
            },
            "type": "scatter"
           }
          ],
          "scatter3d": [
           {
            "line": {
             "colorbar": {
              "outlinewidth": 0,
              "ticks": ""
             }
            },
            "marker": {
             "colorbar": {
              "outlinewidth": 0,
              "ticks": ""
             }
            },
            "type": "scatter3d"
           }
          ],
          "scattercarpet": [
           {
            "marker": {
             "colorbar": {
              "outlinewidth": 0,
              "ticks": ""
             }
            },
            "type": "scattercarpet"
           }
          ],
          "scattergeo": [
           {
            "marker": {
             "colorbar": {
              "outlinewidth": 0,
              "ticks": ""
             }
            },
            "type": "scattergeo"
           }
          ],
          "scattergl": [
           {
            "marker": {
             "colorbar": {
              "outlinewidth": 0,
              "ticks": ""
             }
            },
            "type": "scattergl"
           }
          ],
          "scattermapbox": [
           {
            "marker": {
             "colorbar": {
              "outlinewidth": 0,
              "ticks": ""
             }
            },
            "type": "scattermapbox"
           }
          ],
          "scatterpolar": [
           {
            "marker": {
             "colorbar": {
              "outlinewidth": 0,
              "ticks": ""
             }
            },
            "type": "scatterpolar"
           }
          ],
          "scatterpolargl": [
           {
            "marker": {
             "colorbar": {
              "outlinewidth": 0,
              "ticks": ""
             }
            },
            "type": "scatterpolargl"
           }
          ],
          "scatterternary": [
           {
            "marker": {
             "colorbar": {
              "outlinewidth": 0,
              "ticks": ""
             }
            },
            "type": "scatterternary"
           }
          ],
          "surface": [
           {
            "colorbar": {
             "outlinewidth": 0,
             "ticks": ""
            },
            "colorscale": [
             [
              0,
              "#0d0887"
             ],
             [
              0.1111111111111111,
              "#46039f"
             ],
             [
              0.2222222222222222,
              "#7201a8"
             ],
             [
              0.3333333333333333,
              "#9c179e"
             ],
             [
              0.4444444444444444,
              "#bd3786"
             ],
             [
              0.5555555555555556,
              "#d8576b"
             ],
             [
              0.6666666666666666,
              "#ed7953"
             ],
             [
              0.7777777777777778,
              "#fb9f3a"
             ],
             [
              0.8888888888888888,
              "#fdca26"
             ],
             [
              1,
              "#f0f921"
             ]
            ],
            "type": "surface"
           }
          ],
          "table": [
           {
            "cells": {
             "fill": {
              "color": "#EBF0F8"
             },
             "line": {
              "color": "white"
             }
            },
            "header": {
             "fill": {
              "color": "#C8D4E3"
             },
             "line": {
              "color": "white"
             }
            },
            "type": "table"
           }
          ]
         },
         "layout": {
          "annotationdefaults": {
           "arrowcolor": "#2a3f5f",
           "arrowhead": 0,
           "arrowwidth": 1
          },
          "autotypenumbers": "strict",
          "coloraxis": {
           "colorbar": {
            "outlinewidth": 0,
            "ticks": ""
           }
          },
          "colorscale": {
           "diverging": [
            [
             0,
             "#8e0152"
            ],
            [
             0.1,
             "#c51b7d"
            ],
            [
             0.2,
             "#de77ae"
            ],
            [
             0.3,
             "#f1b6da"
            ],
            [
             0.4,
             "#fde0ef"
            ],
            [
             0.5,
             "#f7f7f7"
            ],
            [
             0.6,
             "#e6f5d0"
            ],
            [
             0.7,
             "#b8e186"
            ],
            [
             0.8,
             "#7fbc41"
            ],
            [
             0.9,
             "#4d9221"
            ],
            [
             1,
             "#276419"
            ]
           ],
           "sequential": [
            [
             0,
             "#0d0887"
            ],
            [
             0.1111111111111111,
             "#46039f"
            ],
            [
             0.2222222222222222,
             "#7201a8"
            ],
            [
             0.3333333333333333,
             "#9c179e"
            ],
            [
             0.4444444444444444,
             "#bd3786"
            ],
            [
             0.5555555555555556,
             "#d8576b"
            ],
            [
             0.6666666666666666,
             "#ed7953"
            ],
            [
             0.7777777777777778,
             "#fb9f3a"
            ],
            [
             0.8888888888888888,
             "#fdca26"
            ],
            [
             1,
             "#f0f921"
            ]
           ],
           "sequentialminus": [
            [
             0,
             "#0d0887"
            ],
            [
             0.1111111111111111,
             "#46039f"
            ],
            [
             0.2222222222222222,
             "#7201a8"
            ],
            [
             0.3333333333333333,
             "#9c179e"
            ],
            [
             0.4444444444444444,
             "#bd3786"
            ],
            [
             0.5555555555555556,
             "#d8576b"
            ],
            [
             0.6666666666666666,
             "#ed7953"
            ],
            [
             0.7777777777777778,
             "#fb9f3a"
            ],
            [
             0.8888888888888888,
             "#fdca26"
            ],
            [
             1,
             "#f0f921"
            ]
           ]
          },
          "colorway": [
           "#636efa",
           "#EF553B",
           "#00cc96",
           "#ab63fa",
           "#FFA15A",
           "#19d3f3",
           "#FF6692",
           "#B6E880",
           "#FF97FF",
           "#FECB52"
          ],
          "font": {
           "color": "#2a3f5f"
          },
          "geo": {
           "bgcolor": "white",
           "lakecolor": "white",
           "landcolor": "#E5ECF6",
           "showlakes": true,
           "showland": true,
           "subunitcolor": "white"
          },
          "hoverlabel": {
           "align": "left"
          },
          "hovermode": "closest",
          "mapbox": {
           "style": "light"
          },
          "paper_bgcolor": "white",
          "plot_bgcolor": "#E5ECF6",
          "polar": {
           "angularaxis": {
            "gridcolor": "white",
            "linecolor": "white",
            "ticks": ""
           },
           "bgcolor": "#E5ECF6",
           "radialaxis": {
            "gridcolor": "white",
            "linecolor": "white",
            "ticks": ""
           }
          },
          "scene": {
           "xaxis": {
            "backgroundcolor": "#E5ECF6",
            "gridcolor": "white",
            "gridwidth": 2,
            "linecolor": "white",
            "showbackground": true,
            "ticks": "",
            "zerolinecolor": "white"
           },
           "yaxis": {
            "backgroundcolor": "#E5ECF6",
            "gridcolor": "white",
            "gridwidth": 2,
            "linecolor": "white",
            "showbackground": true,
            "ticks": "",
            "zerolinecolor": "white"
           },
           "zaxis": {
            "backgroundcolor": "#E5ECF6",
            "gridcolor": "white",
            "gridwidth": 2,
            "linecolor": "white",
            "showbackground": true,
            "ticks": "",
            "zerolinecolor": "white"
           }
          },
          "shapedefaults": {
           "line": {
            "color": "#2a3f5f"
           }
          },
          "ternary": {
           "aaxis": {
            "gridcolor": "white",
            "linecolor": "white",
            "ticks": ""
           },
           "baxis": {
            "gridcolor": "white",
            "linecolor": "white",
            "ticks": ""
           },
           "bgcolor": "#E5ECF6",
           "caxis": {
            "gridcolor": "white",
            "linecolor": "white",
            "ticks": ""
           }
          },
          "title": {
           "x": 0.05
          },
          "xaxis": {
           "automargin": true,
           "gridcolor": "white",
           "linecolor": "white",
           "ticks": "",
           "title": {
            "standoff": 15
           },
           "zerolinecolor": "white",
           "zerolinewidth": 2
          },
          "yaxis": {
           "automargin": true,
           "gridcolor": "white",
           "linecolor": "white",
           "ticks": "",
           "title": {
            "standoff": 15
           },
           "zerolinecolor": "white",
           "zerolinewidth": 2
          }
         }
        },
        "title": {
         "text": "HDI Across Countries"
        }
       }
      }
     },
     "metadata": {},
     "output_type": "display_data"
    }
   ],
   "source": [
    "#Create a chloropleth map for HDI\n",
    "fig = px.choropleth(data,\n",
    "                    locations='Country',\n",
    "                    locationmode='country names',\n",
    "                    color='HDI',\n",
    "                    hover_name='Country',\n",
    "                    title='HDI Across Countries')\n",
    "#Show the plot\n",
    "fig.show()"
   ]
  },
  {
   "cell_type": "code",
   "execution_count": 19,
   "metadata": {},
   "outputs": [
    {
     "data": {
      "application/vnd.plotly.v1+json": {
       "config": {
        "plotlyServerURL": "https://plot.ly"
       },
       "data": [
        {
         "alignmentgroup": "True",
         "hovertemplate": "variable=Cropland Footprint<br>Country=%{x}<br>Ecological Footprint=%{y}<extra></extra>",
         "legendgroup": "Cropland Footprint",
         "marker": {
          "color": "#636efa",
          "pattern": {
           "shape": ""
          }
         },
         "name": "Cropland Footprint",
         "offsetgroup": "Cropland Footprint",
         "orientation": "v",
         "showlegend": true,
         "textposition": "auto",
         "type": "bar",
         "x": [
          "Afghanistan",
          "Albania",
          "Algeria",
          "Angola",
          "Antigua and Barbuda",
          "Argentina",
          "Armenia",
          "Aruba",
          "Australia",
          "Austria",
          "Azerbaijan",
          "Bahamas",
          "Bahrain",
          "Bangladesh",
          "Barbados",
          "Belarus",
          "Belgium",
          "Benin",
          "Bermuda",
          "Bhutan",
          "Bolivia",
          "Bosnia and Herzegovina",
          "Botswana",
          "Brazil",
          "British Virgin Islands",
          "Brunei Darussalam",
          "Bulgaria",
          "Burkina Faso",
          "Burundi",
          "Cabo Verde",
          "Cambodia",
          "Cameroon",
          "Canada",
          "Cayman Islands",
          "Central African Republic",
          "Chad",
          "Chile",
          "China",
          "Colombia",
          "Comoros",
          "Congo",
          "Congo, Democratic Republic of",
          "Costa Rica",
          "Côte d'Ivoire",
          "Croatia",
          "Cuba",
          "Cyprus",
          "Czech Republic",
          "Denmark",
          "Djibouti",
          "Dominica",
          "Dominican Republic",
          "Ecuador",
          "Egypt",
          "El Salvador",
          "Equatorial Guinea",
          "Eritrea",
          "Estonia",
          "Ethiopia",
          "Fiji",
          "Finland",
          "France",
          "French Guiana",
          "French Polynesia",
          "Gabon",
          "Gambia",
          "Georgia",
          "Germany",
          "Ghana",
          "Greece",
          "Grenada",
          "Guadeloupe",
          "Guatemala",
          "Guinea",
          "Guinea-Bissau",
          "Guyana",
          "Haiti",
          "Honduras",
          "Hungary",
          "India",
          "Indonesia",
          "Iran, Islamic Republic of",
          "Iraq",
          "Ireland",
          "Israel",
          "Italy",
          "Jamaica",
          "Japan",
          "Jordan",
          "Kazakhstan",
          "Kenya",
          "Korea, Democratic People's Republic of",
          "Korea, Republic of",
          "Kuwait",
          "Kyrgyzstan",
          "Lao People's Democratic Republic",
          "Latvia",
          "Lebanon",
          "Lesotho",
          "Liberia",
          "Libyan Arab Jamahiriya",
          "Lithuania",
          "Luxembourg",
          "Macedonia TFYR",
          "Madagascar",
          "Malawi",
          "Malaysia",
          "Mali",
          "Martinique",
          "Mauritania",
          "Mauritius",
          "Mexico",
          "Moldova",
          "Mongolia",
          "Montenegro",
          "Montserrat",
          "Morocco",
          "Mozambique",
          "Myanmar",
          "Namibia",
          "Nauru",
          "Nepal",
          "Netherlands",
          "New Caledonia",
          "New Zealand",
          "Nicaragua",
          "Niger",
          "Nigeria",
          "Norway",
          "Oman",
          "Pakistan",
          "Panama",
          "Papua New Guinea",
          "Paraguay",
          "Peru",
          "Philippines",
          "Poland",
          "Portugal",
          "Qatar",
          "Réunion",
          "Romania",
          "Russian Federation",
          "Rwanda",
          "Saint Kitts and Nevis",
          "Saint Lucia",
          "Saint Vincent and Grenadines",
          "Samoa",
          "Sao Tome and Principe",
          "Saudi Arabia",
          "Senegal",
          "Serbia",
          "Sierra Leone",
          "Singapore",
          "Slovakia",
          "Slovenia",
          "Solomon Islands",
          "Somalia",
          "South Africa",
          "Spain",
          "Sri Lanka",
          "Suriname",
          "Swaziland",
          "Sweden",
          "Switzerland",
          "Syrian Arab Republic",
          "Tajikistan",
          "Tanzania, United Republic of",
          "Thailand",
          "Timor-Leste",
          "Togo",
          "Tonga",
          "Trinidad and Tobago",
          "Tunisia",
          "Turkey",
          "Turkmenistan",
          "Uganda",
          "Ukraine",
          "United Kingdom",
          "United Arab Emirates",
          "United States of America",
          "Uruguay",
          "Uzbekistan",
          "Venezuela, Bolivarian Republic of",
          "Viet Nam",
          "Wallis and Futuna Islands",
          "Yemen",
          "Zambia",
          "Zimbabwe"
         ],
         "xaxis": "x",
         "y": [
          0.3,
          0.78,
          0.6,
          0.33,
          null,
          0.78,
          0.74,
          null,
          2.68,
          0.82,
          0.66,
          0.97,
          0.52,
          0.29,
          0.56,
          1.32,
          1.15,
          0.49,
          null,
          0.5,
          0.37,
          0.63,
          0.3,
          0.62,
          null,
          0.31,
          0.6,
          0.47,
          0.21,
          null,
          null,
          0.54,
          1.46,
          0.36,
          0.3,
          0.36,
          0.61,
          0.55,
          0.35,
          0.33,
          0.22,
          0.15,
          0.4,
          0.51,
          0.74,
          0.48,
          0.77,
          0.62,
          1.18,
          null,
          0.64,
          0.35,
          0.3,
          0.68,
          0.44,
          0.27,
          0.1,
          null,
          0.31,
          0.55,
          null,
          1.23,
          0.07,
          0.75,
          0.53,
          0.46,
          0.39,
          1.1,
          0.56,
          1.07,
          null,
          0.11,
          0.37,
          0.39,
          0.35,
          0.7,
          0.27,
          0.28,
          0.42,
          0.34,
          0.44,
          0.69,
          0.43,
          1.08,
          0.89,
          0.91,
          0.41,
          0.53,
          0.54,
          0.58,
          0.25,
          0.28,
          0.71,
          0.55,
          0.59,
          0.57,
          2.28,
          0.67,
          0.22,
          0.23,
          0.79,
          1.89,
          1.1,
          0.62,
          0.27,
          0.43,
          0.67,
          0.52,
          0.13,
          0.39,
          0.52,
          0.55,
          0.43,
          0.29,
          0.64,
          null,
          0.6,
          0.31,
          0.8,
          0.33,
          null,
          0.43,
          0.76,
          0.68,
          0.63,
          0.34,
          0.67,
          0.53,
          null,
          0.57,
          0.27,
          0.36,
          0.3,
          1.11,
          0.5,
          0.36,
          0.84,
          1.03,
          0.57,
          0.14,
          0.72,
          0.77,
          0.43,
          0.51,
          0.38,
          null,
          0.97,
          0.36,
          0.74,
          0.34,
          0.49,
          0.47,
          0.67,
          0.31,
          0.64,
          0.47,
          0.16,
          0.44,
          0.78,
          0.31,
          0.43,
          0.35,
          1.47,
          0.75,
          0.52,
          0.46,
          0.44,
          0.67,
          0.25,
          0.34,
          1.19,
          0.46,
          0.76,
          0.87,
          0.73,
          0.34,
          0.62,
          0.82,
          0.8,
          1.13,
          0.19,
          0.62,
          0.45,
          0.5,
          null,
          0.34,
          0.19,
          0.2
         ],
         "yaxis": "y"
        },
        {
         "alignmentgroup": "True",
         "hovertemplate": "variable=Grazing Footprint<br>Country=%{x}<br>Ecological Footprint=%{y}<extra></extra>",
         "legendgroup": "Grazing Footprint",
         "marker": {
          "color": "#EF553B",
          "pattern": {
           "shape": ""
          }
         },
         "name": "Grazing Footprint",
         "offsetgroup": "Grazing Footprint",
         "orientation": "v",
         "showlegend": true,
         "textposition": "auto",
         "type": "bar",
         "x": [
          "Afghanistan",
          "Albania",
          "Algeria",
          "Angola",
          "Antigua and Barbuda",
          "Argentina",
          "Armenia",
          "Aruba",
          "Australia",
          "Austria",
          "Azerbaijan",
          "Bahamas",
          "Bahrain",
          "Bangladesh",
          "Barbados",
          "Belarus",
          "Belgium",
          "Benin",
          "Bermuda",
          "Bhutan",
          "Bolivia",
          "Bosnia and Herzegovina",
          "Botswana",
          "Brazil",
          "British Virgin Islands",
          "Brunei Darussalam",
          "Bulgaria",
          "Burkina Faso",
          "Burundi",
          "Cabo Verde",
          "Cambodia",
          "Cameroon",
          "Canada",
          "Cayman Islands",
          "Central African Republic",
          "Chad",
          "Chile",
          "China",
          "Colombia",
          "Comoros",
          "Congo",
          "Congo, Democratic Republic of",
          "Costa Rica",
          "Côte d'Ivoire",
          "Croatia",
          "Cuba",
          "Cyprus",
          "Czech Republic",
          "Denmark",
          "Djibouti",
          "Dominica",
          "Dominican Republic",
          "Ecuador",
          "Egypt",
          "El Salvador",
          "Equatorial Guinea",
          "Eritrea",
          "Estonia",
          "Ethiopia",
          "Fiji",
          "Finland",
          "France",
          "French Guiana",
          "French Polynesia",
          "Gabon",
          "Gambia",
          "Georgia",
          "Germany",
          "Ghana",
          "Greece",
          "Grenada",
          "Guadeloupe",
          "Guatemala",
          "Guinea",
          "Guinea-Bissau",
          "Guyana",
          "Haiti",
          "Honduras",
          "Hungary",
          "India",
          "Indonesia",
          "Iran, Islamic Republic of",
          "Iraq",
          "Ireland",
          "Israel",
          "Italy",
          "Jamaica",
          "Japan",
          "Jordan",
          "Kazakhstan",
          "Kenya",
          "Korea, Democratic People's Republic of",
          "Korea, Republic of",
          "Kuwait",
          "Kyrgyzstan",
          "Lao People's Democratic Republic",
          "Latvia",
          "Lebanon",
          "Lesotho",
          "Liberia",
          "Libyan Arab Jamahiriya",
          "Lithuania",
          "Luxembourg",
          "Macedonia TFYR",
          "Madagascar",
          "Malawi",
          "Malaysia",
          "Mali",
          "Martinique",
          "Mauritania",
          "Mauritius",
          "Mexico",
          "Moldova",
          "Mongolia",
          "Montenegro",
          "Montserrat",
          "Morocco",
          "Mozambique",
          "Myanmar",
          "Namibia",
          "Nauru",
          "Nepal",
          "Netherlands",
          "New Caledonia",
          "New Zealand",
          "Nicaragua",
          "Niger",
          "Nigeria",
          "Norway",
          "Oman",
          "Pakistan",
          "Panama",
          "Papua New Guinea",
          "Paraguay",
          "Peru",
          "Philippines",
          "Poland",
          "Portugal",
          "Qatar",
          "Réunion",
          "Romania",
          "Russian Federation",
          "Rwanda",
          "Saint Kitts and Nevis",
          "Saint Lucia",
          "Saint Vincent and Grenadines",
          "Samoa",
          "Sao Tome and Principe",
          "Saudi Arabia",
          "Senegal",
          "Serbia",
          "Sierra Leone",
          "Singapore",
          "Slovakia",
          "Slovenia",
          "Solomon Islands",
          "Somalia",
          "South Africa",
          "Spain",
          "Sri Lanka",
          "Suriname",
          "Swaziland",
          "Sweden",
          "Switzerland",
          "Syrian Arab Republic",
          "Tajikistan",
          "Tanzania, United Republic of",
          "Thailand",
          "Timor-Leste",
          "Togo",
          "Tonga",
          "Trinidad and Tobago",
          "Tunisia",
          "Turkey",
          "Turkmenistan",
          "Uganda",
          "Ukraine",
          "United Kingdom",
          "United Arab Emirates",
          "United States of America",
          "Uruguay",
          "Uzbekistan",
          "Venezuela, Bolivarian Republic of",
          "Viet Nam",
          "Wallis and Futuna Islands",
          "Yemen",
          "Zambia",
          "Zimbabwe"
         ],
         "xaxis": "x",
         "y": [
          0.2,
          0.22,
          0.16,
          0.15,
          null,
          0.79,
          0.18,
          null,
          0.63,
          0.27,
          0.22,
          1.05,
          0.45,
          0,
          0.24,
          0.12,
          0.48,
          0.04,
          null,
          0.42,
          1.69,
          0.27,
          0.89,
          0.85,
          null,
          0.13,
          0.13,
          0.17,
          0.07,
          null,
          null,
          0.1,
          0.33,
          0.45,
          0.55,
          0.75,
          0.33,
          0.13,
          0.58,
          0.03,
          0.09,
          0.01,
          0.21,
          0.06,
          0.13,
          0.11,
          0.08,
          0.24,
          0.47,
          null,
          0.15,
          0.12,
          0.3,
          0.08,
          0.21,
          0.02,
          0.18,
          null,
          0.12,
          0.2,
          null,
          0.27,
          0.06,
          0.65,
          0.13,
          0.05,
          0.2,
          0.14,
          0.07,
          0.35,
          null,
          0.03,
          0.16,
          0.32,
          0.36,
          0.22,
          0.04,
          0.25,
          0.08,
          0.01,
          0.03,
          0.09,
          0.03,
          0.49,
          0.22,
          0.32,
          0.09,
          0.1,
          0.18,
          0.19,
          0.23,
          0,
          0.12,
          0.24,
          0.18,
          0.08,
          0.09,
          0.3,
          0.49,
          0.03,
          0.32,
          0.21,
          0.76,
          0.21,
          0.34,
          0.05,
          0.12,
          0.66,
          0.02,
          1.2,
          0.22,
          0.24,
          0.08,
          3.47,
          0.33,
          null,
          0.17,
          0.03,
          0.01,
          0.23,
          null,
          0.07,
          0.58,
          0.62,
          0.23,
          0.12,
          0.48,
          0.1,
          null,
          0.4,
          0.01,
          0.4,
          0.05,
          1.1,
          0.51,
          0.03,
          0.04,
          0.25,
          0.27,
          0.01,
          0.05,
          0.15,
          0.05,
          0.18,
          0.1,
          null,
          0.16,
          0.02,
          0.27,
          0.21,
          0.02,
          0.11,
          0.24,
          0.08,
          0.17,
          0.03,
          0.43,
          0.11,
          0.15,
          0.01,
          0.06,
          0.41,
          0.27,
          0.22,
          0.09,
          0.14,
          0.34,
          0.02,
          0.07,
          0.1,
          0.32,
          0.19,
          0.09,
          0.12,
          0.44,
          0.15,
          0.01,
          0.28,
          0.19,
          0.3,
          0.98,
          0.13,
          0.74,
          0.01,
          null,
          0.14,
          0.18,
          0.32
         ],
         "yaxis": "y"
        },
        {
         "alignmentgroup": "True",
         "hovertemplate": "variable=Forest Footprint<br>Country=%{x}<br>Ecological Footprint=%{y}<extra></extra>",
         "legendgroup": "Forest Footprint",
         "marker": {
          "color": "#00cc96",
          "pattern": {
           "shape": ""
          }
         },
         "name": "Forest Footprint",
         "offsetgroup": "Forest Footprint",
         "orientation": "v",
         "showlegend": true,
         "textposition": "auto",
         "type": "bar",
         "x": [
          "Afghanistan",
          "Albania",
          "Algeria",
          "Angola",
          "Antigua and Barbuda",
          "Argentina",
          "Armenia",
          "Aruba",
          "Australia",
          "Austria",
          "Azerbaijan",
          "Bahamas",
          "Bahrain",
          "Bangladesh",
          "Barbados",
          "Belarus",
          "Belgium",
          "Benin",
          "Bermuda",
          "Bhutan",
          "Bolivia",
          "Bosnia and Herzegovina",
          "Botswana",
          "Brazil",
          "British Virgin Islands",
          "Brunei Darussalam",
          "Bulgaria",
          "Burkina Faso",
          "Burundi",
          "Cabo Verde",
          "Cambodia",
          "Cameroon",
          "Canada",
          "Cayman Islands",
          "Central African Republic",
          "Chad",
          "Chile",
          "China",
          "Colombia",
          "Comoros",
          "Congo",
          "Congo, Democratic Republic of",
          "Costa Rica",
          "Côte d'Ivoire",
          "Croatia",
          "Cuba",
          "Cyprus",
          "Czech Republic",
          "Denmark",
          "Djibouti",
          "Dominica",
          "Dominican Republic",
          "Ecuador",
          "Egypt",
          "El Salvador",
          "Equatorial Guinea",
          "Eritrea",
          "Estonia",
          "Ethiopia",
          "Fiji",
          "Finland",
          "France",
          "French Guiana",
          "French Polynesia",
          "Gabon",
          "Gambia",
          "Georgia",
          "Germany",
          "Ghana",
          "Greece",
          "Grenada",
          "Guadeloupe",
          "Guatemala",
          "Guinea",
          "Guinea-Bissau",
          "Guyana",
          "Haiti",
          "Honduras",
          "Hungary",
          "India",
          "Indonesia",
          "Iran, Islamic Republic of",
          "Iraq",
          "Ireland",
          "Israel",
          "Italy",
          "Jamaica",
          "Japan",
          "Jordan",
          "Kazakhstan",
          "Kenya",
          "Korea, Democratic People's Republic of",
          "Korea, Republic of",
          "Kuwait",
          "Kyrgyzstan",
          "Lao People's Democratic Republic",
          "Latvia",
          "Lebanon",
          "Lesotho",
          "Liberia",
          "Libyan Arab Jamahiriya",
          "Lithuania",
          "Luxembourg",
          "Macedonia TFYR",
          "Madagascar",
          "Malawi",
          "Malaysia",
          "Mali",
          "Martinique",
          "Mauritania",
          "Mauritius",
          "Mexico",
          "Moldova",
          "Mongolia",
          "Montenegro",
          "Montserrat",
          "Morocco",
          "Mozambique",
          "Myanmar",
          "Namibia",
          "Nauru",
          "Nepal",
          "Netherlands",
          "New Caledonia",
          "New Zealand",
          "Nicaragua",
          "Niger",
          "Nigeria",
          "Norway",
          "Oman",
          "Pakistan",
          "Panama",
          "Papua New Guinea",
          "Paraguay",
          "Peru",
          "Philippines",
          "Poland",
          "Portugal",
          "Qatar",
          "Réunion",
          "Romania",
          "Russian Federation",
          "Rwanda",
          "Saint Kitts and Nevis",
          "Saint Lucia",
          "Saint Vincent and Grenadines",
          "Samoa",
          "Sao Tome and Principe",
          "Saudi Arabia",
          "Senegal",
          "Serbia",
          "Sierra Leone",
          "Singapore",
          "Slovakia",
          "Slovenia",
          "Solomon Islands",
          "Somalia",
          "South Africa",
          "Spain",
          "Sri Lanka",
          "Suriname",
          "Swaziland",
          "Sweden",
          "Switzerland",
          "Syrian Arab Republic",
          "Tajikistan",
          "Tanzania, United Republic of",
          "Thailand",
          "Timor-Leste",
          "Togo",
          "Tonga",
          "Trinidad and Tobago",
          "Tunisia",
          "Turkey",
          "Turkmenistan",
          "Uganda",
          "Ukraine",
          "United Kingdom",
          "United Arab Emirates",
          "United States of America",
          "Uruguay",
          "Uzbekistan",
          "Venezuela, Bolivarian Republic of",
          "Viet Nam",
          "Wallis and Futuna Islands",
          "Yemen",
          "Zambia",
          "Zimbabwe"
         ],
         "xaxis": "x",
         "y": [
          0.08,
          0.25,
          0.17,
          0.12,
          null,
          0.29,
          0.34,
          null,
          0.89,
          0.63,
          0.11,
          0.19,
          0.16,
          0.08,
          0.14,
          0.91,
          0.99,
          0.26,
          null,
          3.03,
          0.17,
          0.44,
          0.24,
          0.6,
          null,
          0.26,
          0.35,
          0.36,
          0.45,
          null,
          null,
          0.21,
          1.2,
          1.23,
          0.26,
          0.27,
          0.99,
          0.19,
          0.16,
          0.18,
          0.38,
          0.51,
          0.68,
          0.22,
          0.72,
          0.09,
          0.23,
          0.74,
          0.77,
          null,
          0.14,
          0.12,
          0.24,
          0.17,
          0.4,
          0.26,
          0.06,
          null,
          0.46,
          0.42,
          null,
          0.53,
          0.46,
          0.12,
          0.79,
          0.2,
          0.1,
          0.48,
          0.65,
          0.24,
          null,
          0.16,
          0.58,
          0.45,
          0.67,
          0.77,
          0.1,
          0.5,
          0.36,
          0.14,
          0.2,
          0.07,
          0.01,
          0.46,
          0.36,
          0.42,
          0.18,
          0.27,
          0.17,
          0.12,
          0.27,
          0.14,
          0.21,
          0.21,
          0.09,
          0.36,
          2.02,
          0.25,
          0.42,
          0.75,
          0.14,
          1.28,
          1.03,
          0.31,
          0.24,
          0.2,
          0.38,
          0.17,
          0.12,
          0.21,
          0.18,
          0.25,
          0.15,
          0.17,
          0.62,
          null,
          0.14,
          0.29,
          0.32,
          0.17,
          null,
          0.21,
          0.38,
          0.18,
          1.08,
          0.42,
          0.26,
          0.19,
          null,
          0.15,
          0.08,
          0.19,
          0.36,
          0.83,
          0.19,
          0.09,
          0.78,
          0.09,
          0.15,
          0.15,
          0.33,
          0.67,
          0.25,
          0.09,
          0.17,
          null,
          0.27,
          0.27,
          0.27,
          0.21,
          0.46,
          0.38,
          0.91,
          0.72,
          0.65,
          0.09,
          0.52,
          0.29,
          0.17,
          0.16,
          0.52,
          0.52,
          1.3,
          0.38,
          0.04,
          0.1,
          0.23,
          0.24,
          0.04,
          0.27,
          0.14,
          0.27,
          0.28,
          0.34,
          0.08,
          0.54,
          0.16,
          0.45,
          0.38,
          0.67,
          0.55,
          0.08,
          0.12,
          0.19,
          null,
          0.04,
          0.33,
          0.29
         ],
         "yaxis": "y"
        },
        {
         "alignmentgroup": "True",
         "hovertemplate": "variable=Carbon Footprint<br>Country=%{x}<br>Ecological Footprint=%{y}<extra></extra>",
         "legendgroup": "Carbon Footprint",
         "marker": {
          "color": "#ab63fa",
          "pattern": {
           "shape": ""
          }
         },
         "name": "Carbon Footprint",
         "offsetgroup": "Carbon Footprint",
         "orientation": "v",
         "showlegend": true,
         "textposition": "auto",
         "type": "bar",
         "x": [
          "Afghanistan",
          "Albania",
          "Algeria",
          "Angola",
          "Antigua and Barbuda",
          "Argentina",
          "Armenia",
          "Aruba",
          "Australia",
          "Austria",
          "Azerbaijan",
          "Bahamas",
          "Bahrain",
          "Bangladesh",
          "Barbados",
          "Belarus",
          "Belgium",
          "Benin",
          "Bermuda",
          "Bhutan",
          "Bolivia",
          "Bosnia and Herzegovina",
          "Botswana",
          "Brazil",
          "British Virgin Islands",
          "Brunei Darussalam",
          "Bulgaria",
          "Burkina Faso",
          "Burundi",
          "Cabo Verde",
          "Cambodia",
          "Cameroon",
          "Canada",
          "Cayman Islands",
          "Central African Republic",
          "Chad",
          "Chile",
          "China",
          "Colombia",
          "Comoros",
          "Congo",
          "Congo, Democratic Republic of",
          "Costa Rica",
          "Côte d'Ivoire",
          "Croatia",
          "Cuba",
          "Cyprus",
          "Czech Republic",
          "Denmark",
          "Djibouti",
          "Dominica",
          "Dominican Republic",
          "Ecuador",
          "Egypt",
          "El Salvador",
          "Equatorial Guinea",
          "Eritrea",
          "Estonia",
          "Ethiopia",
          "Fiji",
          "Finland",
          "France",
          "French Guiana",
          "French Polynesia",
          "Gabon",
          "Gambia",
          "Georgia",
          "Germany",
          "Ghana",
          "Greece",
          "Grenada",
          "Guadeloupe",
          "Guatemala",
          "Guinea",
          "Guinea-Bissau",
          "Guyana",
          "Haiti",
          "Honduras",
          "Hungary",
          "India",
          "Indonesia",
          "Iran, Islamic Republic of",
          "Iraq",
          "Ireland",
          "Israel",
          "Italy",
          "Jamaica",
          "Japan",
          "Jordan",
          "Kazakhstan",
          "Kenya",
          "Korea, Democratic People's Republic of",
          "Korea, Republic of",
          "Kuwait",
          "Kyrgyzstan",
          "Lao People's Democratic Republic",
          "Latvia",
          "Lebanon",
          "Lesotho",
          "Liberia",
          "Libyan Arab Jamahiriya",
          "Lithuania",
          "Luxembourg",
          "Macedonia TFYR",
          "Madagascar",
          "Malawi",
          "Malaysia",
          "Mali",
          "Martinique",
          "Mauritania",
          "Mauritius",
          "Mexico",
          "Moldova",
          "Mongolia",
          "Montenegro",
          "Montserrat",
          "Morocco",
          "Mozambique",
          "Myanmar",
          "Namibia",
          "Nauru",
          "Nepal",
          "Netherlands",
          "New Caledonia",
          "New Zealand",
          "Nicaragua",
          "Niger",
          "Nigeria",
          "Norway",
          "Oman",
          "Pakistan",
          "Panama",
          "Papua New Guinea",
          "Paraguay",
          "Peru",
          "Philippines",
          "Poland",
          "Portugal",
          "Qatar",
          "Réunion",
          "Romania",
          "Russian Federation",
          "Rwanda",
          "Saint Kitts and Nevis",
          "Saint Lucia",
          "Saint Vincent and Grenadines",
          "Samoa",
          "Sao Tome and Principe",
          "Saudi Arabia",
          "Senegal",
          "Serbia",
          "Sierra Leone",
          "Singapore",
          "Slovakia",
          "Slovenia",
          "Solomon Islands",
          "Somalia",
          "South Africa",
          "Spain",
          "Sri Lanka",
          "Suriname",
          "Swaziland",
          "Sweden",
          "Switzerland",
          "Syrian Arab Republic",
          "Tajikistan",
          "Tanzania, United Republic of",
          "Thailand",
          "Timor-Leste",
          "Togo",
          "Tonga",
          "Trinidad and Tobago",
          "Tunisia",
          "Turkey",
          "Turkmenistan",
          "Uganda",
          "Ukraine",
          "United Kingdom",
          "United Arab Emirates",
          "United States of America",
          "Uruguay",
          "Uzbekistan",
          "Venezuela, Bolivarian Republic of",
          "Viet Nam",
          "Wallis and Futuna Islands",
          "Yemen",
          "Zambia",
          "Zimbabwe"
         ],
         "xaxis": "x",
         "y": [
          0.18,
          0.87,
          1.14,
          0.2,
          null,
          1.08,
          0.89,
          null,
          4.85,
          4.14,
          1.25,
          4.46,
          6.19,
          0.26,
          3.28,
          2.57,
          4.43,
          0.51,
          null,
          0.63,
          0.67,
          1.74,
          2.36,
          0.91,
          null,
          3.24,
          2.08,
          0.12,
          0.04,
          null,
          null,
          0.19,
          5,
          3.56,
          0.08,
          0.01,
          2.04,
          2.32,
          0.67,
          0.25,
          0.47,
          0.07,
          1.37,
          0.26,
          2.21,
          1.23,
          2.94,
          3.42,
          2.6,
          null,
          1.47,
          0.86,
          1.08,
          1.02,
          0.84,
          3.17,
          0.03,
          null,
          0.07,
          1.06,
          null,
          2.71,
          1.58,
          2.39,
          0.43,
          0.21,
          0.83,
          3.28,
          0.43,
          2.58,
          null,
          2.61,
          0.7,
          0.16,
          0.09,
          1.25,
          0.15,
          0.6,
          1.9,
          0.61,
          0.64,
          1.72,
          1.36,
          3.22,
          4.59,
          2.77,
          1.09,
          3.69,
          1.09,
          4.59,
          0.2,
          0.68,
          4.17,
          6.89,
          0.95,
          0.09,
          1.66,
          2.52,
          0.51,
          0.14,
          2.33,
          2.15,
          12.65,
          2.06,
          0.07,
          0.07,
          2.1,
          0.1,
          1.73,
          0.55,
          1.99,
          1.74,
          1.03,
          2.09,
          2.13,
          null,
          0.67,
          0.17,
          0.09,
          1.02,
          null,
          0.16,
          3.23,
          1.78,
          2.84,
          0.45,
          0.1,
          0.21,
          null,
          5.8,
          0.38,
          1.44,
          0.35,
          0.97,
          0.67,
          0.34,
          2.64,
          2.15,
          9.57,
          3.27,
          1.46,
          3.87,
          0.07,
          3.34,
          1.56,
          null,
          0.96,
          0.37,
          4.21,
          0.3,
          1.66,
          0.07,
          5.91,
          2.82,
          4.27,
          0,
          0.07,
          2.34,
          2.22,
          0.52,
          3.01,
          0.67,
          3.88,
          4.26,
          0.81,
          0.13,
          0.17,
          1.54,
          0.06,
          0.31,
          0.88,
          6.89,
          1.11,
          1.92,
          4.13,
          0.08,
          1.92,
          3.14,
          6.37,
          5.9,
          0.98,
          1.41,
          2.13,
          0.79,
          null,
          0.42,
          0.24,
          0.53
         ],
         "yaxis": "y"
        },
        {
         "alignmentgroup": "True",
         "hovertemplate": "variable=Fish Footprint<br>Country=%{x}<br>Ecological Footprint=%{y}<extra></extra>",
         "legendgroup": "Fish Footprint",
         "marker": {
          "color": "#FFA15A",
          "pattern": {
           "shape": ""
          }
         },
         "name": "Fish Footprint",
         "offsetgroup": "Fish Footprint",
         "orientation": "v",
         "showlegend": true,
         "textposition": "auto",
         "type": "bar",
         "x": [
          "Afghanistan",
          "Albania",
          "Algeria",
          "Angola",
          "Antigua and Barbuda",
          "Argentina",
          "Armenia",
          "Aruba",
          "Australia",
          "Austria",
          "Azerbaijan",
          "Bahamas",
          "Bahrain",
          "Bangladesh",
          "Barbados",
          "Belarus",
          "Belgium",
          "Benin",
          "Bermuda",
          "Bhutan",
          "Bolivia",
          "Bosnia and Herzegovina",
          "Botswana",
          "Brazil",
          "British Virgin Islands",
          "Brunei Darussalam",
          "Bulgaria",
          "Burkina Faso",
          "Burundi",
          "Cabo Verde",
          "Cambodia",
          "Cameroon",
          "Canada",
          "Cayman Islands",
          "Central African Republic",
          "Chad",
          "Chile",
          "China",
          "Colombia",
          "Comoros",
          "Congo",
          "Congo, Democratic Republic of",
          "Costa Rica",
          "Côte d'Ivoire",
          "Croatia",
          "Cuba",
          "Cyprus",
          "Czech Republic",
          "Denmark",
          "Djibouti",
          "Dominica",
          "Dominican Republic",
          "Ecuador",
          "Egypt",
          "El Salvador",
          "Equatorial Guinea",
          "Eritrea",
          "Estonia",
          "Ethiopia",
          "Fiji",
          "Finland",
          "France",
          "French Guiana",
          "French Polynesia",
          "Gabon",
          "Gambia",
          "Georgia",
          "Germany",
          "Ghana",
          "Greece",
          "Grenada",
          "Guadeloupe",
          "Guatemala",
          "Guinea",
          "Guinea-Bissau",
          "Guyana",
          "Haiti",
          "Honduras",
          "Hungary",
          "India",
          "Indonesia",
          "Iran, Islamic Republic of",
          "Iraq",
          "Ireland",
          "Israel",
          "Italy",
          "Jamaica",
          "Japan",
          "Jordan",
          "Kazakhstan",
          "Kenya",
          "Korea, Democratic People's Republic of",
          "Korea, Republic of",
          "Kuwait",
          "Kyrgyzstan",
          "Lao People's Democratic Republic",
          "Latvia",
          "Lebanon",
          "Lesotho",
          "Liberia",
          "Libyan Arab Jamahiriya",
          "Lithuania",
          "Luxembourg",
          "Macedonia TFYR",
          "Madagascar",
          "Malawi",
          "Malaysia",
          "Mali",
          "Martinique",
          "Mauritania",
          "Mauritius",
          "Mexico",
          "Moldova",
          "Mongolia",
          "Montenegro",
          "Montserrat",
          "Morocco",
          "Mozambique",
          "Myanmar",
          "Namibia",
          "Nauru",
          "Nepal",
          "Netherlands",
          "New Caledonia",
          "New Zealand",
          "Nicaragua",
          "Niger",
          "Nigeria",
          "Norway",
          "Oman",
          "Pakistan",
          "Panama",
          "Papua New Guinea",
          "Paraguay",
          "Peru",
          "Philippines",
          "Poland",
          "Portugal",
          "Qatar",
          "Réunion",
          "Romania",
          "Russian Federation",
          "Rwanda",
          "Saint Kitts and Nevis",
          "Saint Lucia",
          "Saint Vincent and Grenadines",
          "Samoa",
          "Sao Tome and Principe",
          "Saudi Arabia",
          "Senegal",
          "Serbia",
          "Sierra Leone",
          "Singapore",
          "Slovakia",
          "Slovenia",
          "Solomon Islands",
          "Somalia",
          "South Africa",
          "Spain",
          "Sri Lanka",
          "Suriname",
          "Swaziland",
          "Sweden",
          "Switzerland",
          "Syrian Arab Republic",
          "Tajikistan",
          "Tanzania, United Republic of",
          "Thailand",
          "Timor-Leste",
          "Togo",
          "Tonga",
          "Trinidad and Tobago",
          "Tunisia",
          "Turkey",
          "Turkmenistan",
          "Uganda",
          "Ukraine",
          "United Kingdom",
          "United Arab Emirates",
          "United States of America",
          "Uruguay",
          "Uzbekistan",
          "Venezuela, Bolivarian Republic of",
          "Viet Nam",
          "Wallis and Futuna Islands",
          "Yemen",
          "Zambia",
          "Zimbabwe"
         ],
         "xaxis": "x",
         "y": [
          0,
          0.02,
          0.01,
          0.09,
          null,
          0.1,
          0.01,
          null,
          0.11,
          0.06,
          0.01,
          0.14,
          0.07,
          0.02,
          0.22,
          0.08,
          0.12,
          0.08,
          null,
          0.02,
          0.01,
          0.02,
          0.01,
          0.04,
          null,
          0.09,
          0.03,
          0.03,
          0,
          null,
          null,
          0.08,
          0.12,
          0.05,
          0.02,
          0.01,
          0.25,
          0.08,
          0.03,
          0.25,
          0.1,
          0.01,
          0.08,
          0.14,
          0.06,
          0.02,
          0.14,
          0.03,
          0.24,
          null,
          0.17,
          0.04,
          0.18,
          0.04,
          0.14,
          0.22,
          0.01,
          null,
          0,
          0.62,
          null,
          0.19,
          0.17,
          0.82,
          0.11,
          0.08,
          0.02,
          0.05,
          0.19,
          0.08,
          null,
          0.31,
          0.01,
          0.05,
          0.01,
          0.06,
          0.01,
          0,
          0.02,
          0.02,
          0.21,
          0.12,
          0.01,
          0.18,
          0.07,
          0.12,
          0.07,
          0.33,
          0.03,
          0.03,
          0.05,
          0.02,
          0.41,
          0.09,
          0.01,
          0.01,
          0.11,
          0.05,
          0,
          0.03,
          0.1,
          0.16,
          0.13,
          0.03,
          0.02,
          0.01,
          0.36,
          0.03,
          0.04,
          0.15,
          0.55,
          0.06,
          0.06,
          0,
          0.05,
          null,
          0.06,
          0.03,
          0.1,
          0.72,
          null,
          0,
          0.16,
          0.32,
          0.7,
          0.03,
          0.02,
          0.08,
          null,
          0.4,
          0.02,
          0.37,
          0.73,
          0.01,
          0.33,
          0.23,
          0.05,
          0.31,
          0.19,
          0.09,
          0.03,
          0.19,
          0.01,
          0.81,
          0.23,
          null,
          0.42,
          0.47,
          0.08,
          0.12,
          0.02,
          0.15,
          0.22,
          0.03,
          0.05,
          0.46,
          0.01,
          0.08,
          0.32,
          0.27,
          0.14,
          0.01,
          0.09,
          0.07,
          0.01,
          0,
          0.09,
          0.13,
          0.02,
          0.08,
          0.18,
          0.11,
          0.06,
          0.04,
          0.01,
          0.11,
          0.06,
          0.08,
          0.19,
          0.12,
          0.05,
          0,
          0.09,
          0.05,
          null,
          0.04,
          0.01,
          0.01
         ],
         "yaxis": "y"
        }
       ],
       "layout": {
        "barmode": "stack",
        "height": 600,
        "legend": {
         "title": {
          "text": "variable"
         },
         "tracegroupgap": 0
        },
        "margin": {
         "b": 50,
         "l": 50,
         "r": 50,
         "t": 50
        },
        "template": {
         "data": {
          "bar": [
           {
            "error_x": {
             "color": "#2a3f5f"
            },
            "error_y": {
             "color": "#2a3f5f"
            },
            "marker": {
             "line": {
              "color": "#E5ECF6",
              "width": 0.5
             },
             "pattern": {
              "fillmode": "overlay",
              "size": 10,
              "solidity": 0.2
             }
            },
            "type": "bar"
           }
          ],
          "barpolar": [
           {
            "marker": {
             "line": {
              "color": "#E5ECF6",
              "width": 0.5
             },
             "pattern": {
              "fillmode": "overlay",
              "size": 10,
              "solidity": 0.2
             }
            },
            "type": "barpolar"
           }
          ],
          "carpet": [
           {
            "aaxis": {
             "endlinecolor": "#2a3f5f",
             "gridcolor": "white",
             "linecolor": "white",
             "minorgridcolor": "white",
             "startlinecolor": "#2a3f5f"
            },
            "baxis": {
             "endlinecolor": "#2a3f5f",
             "gridcolor": "white",
             "linecolor": "white",
             "minorgridcolor": "white",
             "startlinecolor": "#2a3f5f"
            },
            "type": "carpet"
           }
          ],
          "choropleth": [
           {
            "colorbar": {
             "outlinewidth": 0,
             "ticks": ""
            },
            "type": "choropleth"
           }
          ],
          "contour": [
           {
            "colorbar": {
             "outlinewidth": 0,
             "ticks": ""
            },
            "colorscale": [
             [
              0,
              "#0d0887"
             ],
             [
              0.1111111111111111,
              "#46039f"
             ],
             [
              0.2222222222222222,
              "#7201a8"
             ],
             [
              0.3333333333333333,
              "#9c179e"
             ],
             [
              0.4444444444444444,
              "#bd3786"
             ],
             [
              0.5555555555555556,
              "#d8576b"
             ],
             [
              0.6666666666666666,
              "#ed7953"
             ],
             [
              0.7777777777777778,
              "#fb9f3a"
             ],
             [
              0.8888888888888888,
              "#fdca26"
             ],
             [
              1,
              "#f0f921"
             ]
            ],
            "type": "contour"
           }
          ],
          "contourcarpet": [
           {
            "colorbar": {
             "outlinewidth": 0,
             "ticks": ""
            },
            "type": "contourcarpet"
           }
          ],
          "heatmap": [
           {
            "colorbar": {
             "outlinewidth": 0,
             "ticks": ""
            },
            "colorscale": [
             [
              0,
              "#0d0887"
             ],
             [
              0.1111111111111111,
              "#46039f"
             ],
             [
              0.2222222222222222,
              "#7201a8"
             ],
             [
              0.3333333333333333,
              "#9c179e"
             ],
             [
              0.4444444444444444,
              "#bd3786"
             ],
             [
              0.5555555555555556,
              "#d8576b"
             ],
             [
              0.6666666666666666,
              "#ed7953"
             ],
             [
              0.7777777777777778,
              "#fb9f3a"
             ],
             [
              0.8888888888888888,
              "#fdca26"
             ],
             [
              1,
              "#f0f921"
             ]
            ],
            "type": "heatmap"
           }
          ],
          "heatmapgl": [
           {
            "colorbar": {
             "outlinewidth": 0,
             "ticks": ""
            },
            "colorscale": [
             [
              0,
              "#0d0887"
             ],
             [
              0.1111111111111111,
              "#46039f"
             ],
             [
              0.2222222222222222,
              "#7201a8"
             ],
             [
              0.3333333333333333,
              "#9c179e"
             ],
             [
              0.4444444444444444,
              "#bd3786"
             ],
             [
              0.5555555555555556,
              "#d8576b"
             ],
             [
              0.6666666666666666,
              "#ed7953"
             ],
             [
              0.7777777777777778,
              "#fb9f3a"
             ],
             [
              0.8888888888888888,
              "#fdca26"
             ],
             [
              1,
              "#f0f921"
             ]
            ],
            "type": "heatmapgl"
           }
          ],
          "histogram": [
           {
            "marker": {
             "pattern": {
              "fillmode": "overlay",
              "size": 10,
              "solidity": 0.2
             }
            },
            "type": "histogram"
           }
          ],
          "histogram2d": [
           {
            "colorbar": {
             "outlinewidth": 0,
             "ticks": ""
            },
            "colorscale": [
             [
              0,
              "#0d0887"
             ],
             [
              0.1111111111111111,
              "#46039f"
             ],
             [
              0.2222222222222222,
              "#7201a8"
             ],
             [
              0.3333333333333333,
              "#9c179e"
             ],
             [
              0.4444444444444444,
              "#bd3786"
             ],
             [
              0.5555555555555556,
              "#d8576b"
             ],
             [
              0.6666666666666666,
              "#ed7953"
             ],
             [
              0.7777777777777778,
              "#fb9f3a"
             ],
             [
              0.8888888888888888,
              "#fdca26"
             ],
             [
              1,
              "#f0f921"
             ]
            ],
            "type": "histogram2d"
           }
          ],
          "histogram2dcontour": [
           {
            "colorbar": {
             "outlinewidth": 0,
             "ticks": ""
            },
            "colorscale": [
             [
              0,
              "#0d0887"
             ],
             [
              0.1111111111111111,
              "#46039f"
             ],
             [
              0.2222222222222222,
              "#7201a8"
             ],
             [
              0.3333333333333333,
              "#9c179e"
             ],
             [
              0.4444444444444444,
              "#bd3786"
             ],
             [
              0.5555555555555556,
              "#d8576b"
             ],
             [
              0.6666666666666666,
              "#ed7953"
             ],
             [
              0.7777777777777778,
              "#fb9f3a"
             ],
             [
              0.8888888888888888,
              "#fdca26"
             ],
             [
              1,
              "#f0f921"
             ]
            ],
            "type": "histogram2dcontour"
           }
          ],
          "mesh3d": [
           {
            "colorbar": {
             "outlinewidth": 0,
             "ticks": ""
            },
            "type": "mesh3d"
           }
          ],
          "parcoords": [
           {
            "line": {
             "colorbar": {
              "outlinewidth": 0,
              "ticks": ""
             }
            },
            "type": "parcoords"
           }
          ],
          "pie": [
           {
            "automargin": true,
            "type": "pie"
           }
          ],
          "scatter": [
           {
            "fillpattern": {
             "fillmode": "overlay",
             "size": 10,
             "solidity": 0.2
            },
            "type": "scatter"
           }
          ],
          "scatter3d": [
           {
            "line": {
             "colorbar": {
              "outlinewidth": 0,
              "ticks": ""
             }
            },
            "marker": {
             "colorbar": {
              "outlinewidth": 0,
              "ticks": ""
             }
            },
            "type": "scatter3d"
           }
          ],
          "scattercarpet": [
           {
            "marker": {
             "colorbar": {
              "outlinewidth": 0,
              "ticks": ""
             }
            },
            "type": "scattercarpet"
           }
          ],
          "scattergeo": [
           {
            "marker": {
             "colorbar": {
              "outlinewidth": 0,
              "ticks": ""
             }
            },
            "type": "scattergeo"
           }
          ],
          "scattergl": [
           {
            "marker": {
             "colorbar": {
              "outlinewidth": 0,
              "ticks": ""
             }
            },
            "type": "scattergl"
           }
          ],
          "scattermapbox": [
           {
            "marker": {
             "colorbar": {
              "outlinewidth": 0,
              "ticks": ""
             }
            },
            "type": "scattermapbox"
           }
          ],
          "scatterpolar": [
           {
            "marker": {
             "colorbar": {
              "outlinewidth": 0,
              "ticks": ""
             }
            },
            "type": "scatterpolar"
           }
          ],
          "scatterpolargl": [
           {
            "marker": {
             "colorbar": {
              "outlinewidth": 0,
              "ticks": ""
             }
            },
            "type": "scatterpolargl"
           }
          ],
          "scatterternary": [
           {
            "marker": {
             "colorbar": {
              "outlinewidth": 0,
              "ticks": ""
             }
            },
            "type": "scatterternary"
           }
          ],
          "surface": [
           {
            "colorbar": {
             "outlinewidth": 0,
             "ticks": ""
            },
            "colorscale": [
             [
              0,
              "#0d0887"
             ],
             [
              0.1111111111111111,
              "#46039f"
             ],
             [
              0.2222222222222222,
              "#7201a8"
             ],
             [
              0.3333333333333333,
              "#9c179e"
             ],
             [
              0.4444444444444444,
              "#bd3786"
             ],
             [
              0.5555555555555556,
              "#d8576b"
             ],
             [
              0.6666666666666666,
              "#ed7953"
             ],
             [
              0.7777777777777778,
              "#fb9f3a"
             ],
             [
              0.8888888888888888,
              "#fdca26"
             ],
             [
              1,
              "#f0f921"
             ]
            ],
            "type": "surface"
           }
          ],
          "table": [
           {
            "cells": {
             "fill": {
              "color": "#EBF0F8"
             },
             "line": {
              "color": "white"
             }
            },
            "header": {
             "fill": {
              "color": "#C8D4E3"
             },
             "line": {
              "color": "white"
             }
            },
            "type": "table"
           }
          ]
         },
         "layout": {
          "annotationdefaults": {
           "arrowcolor": "#2a3f5f",
           "arrowhead": 0,
           "arrowwidth": 1
          },
          "autotypenumbers": "strict",
          "coloraxis": {
           "colorbar": {
            "outlinewidth": 0,
            "ticks": ""
           }
          },
          "colorscale": {
           "diverging": [
            [
             0,
             "#8e0152"
            ],
            [
             0.1,
             "#c51b7d"
            ],
            [
             0.2,
             "#de77ae"
            ],
            [
             0.3,
             "#f1b6da"
            ],
            [
             0.4,
             "#fde0ef"
            ],
            [
             0.5,
             "#f7f7f7"
            ],
            [
             0.6,
             "#e6f5d0"
            ],
            [
             0.7,
             "#b8e186"
            ],
            [
             0.8,
             "#7fbc41"
            ],
            [
             0.9,
             "#4d9221"
            ],
            [
             1,
             "#276419"
            ]
           ],
           "sequential": [
            [
             0,
             "#0d0887"
            ],
            [
             0.1111111111111111,
             "#46039f"
            ],
            [
             0.2222222222222222,
             "#7201a8"
            ],
            [
             0.3333333333333333,
             "#9c179e"
            ],
            [
             0.4444444444444444,
             "#bd3786"
            ],
            [
             0.5555555555555556,
             "#d8576b"
            ],
            [
             0.6666666666666666,
             "#ed7953"
            ],
            [
             0.7777777777777778,
             "#fb9f3a"
            ],
            [
             0.8888888888888888,
             "#fdca26"
            ],
            [
             1,
             "#f0f921"
            ]
           ],
           "sequentialminus": [
            [
             0,
             "#0d0887"
            ],
            [
             0.1111111111111111,
             "#46039f"
            ],
            [
             0.2222222222222222,
             "#7201a8"
            ],
            [
             0.3333333333333333,
             "#9c179e"
            ],
            [
             0.4444444444444444,
             "#bd3786"
            ],
            [
             0.5555555555555556,
             "#d8576b"
            ],
            [
             0.6666666666666666,
             "#ed7953"
            ],
            [
             0.7777777777777778,
             "#fb9f3a"
            ],
            [
             0.8888888888888888,
             "#fdca26"
            ],
            [
             1,
             "#f0f921"
            ]
           ]
          },
          "colorway": [
           "#636efa",
           "#EF553B",
           "#00cc96",
           "#ab63fa",
           "#FFA15A",
           "#19d3f3",
           "#FF6692",
           "#B6E880",
           "#FF97FF",
           "#FECB52"
          ],
          "font": {
           "color": "#2a3f5f"
          },
          "geo": {
           "bgcolor": "white",
           "lakecolor": "white",
           "landcolor": "#E5ECF6",
           "showlakes": true,
           "showland": true,
           "subunitcolor": "white"
          },
          "hoverlabel": {
           "align": "left"
          },
          "hovermode": "closest",
          "mapbox": {
           "style": "light"
          },
          "paper_bgcolor": "white",
          "plot_bgcolor": "#E5ECF6",
          "polar": {
           "angularaxis": {
            "gridcolor": "white",
            "linecolor": "white",
            "ticks": ""
           },
           "bgcolor": "#E5ECF6",
           "radialaxis": {
            "gridcolor": "white",
            "linecolor": "white",
            "ticks": ""
           }
          },
          "scene": {
           "xaxis": {
            "backgroundcolor": "#E5ECF6",
            "gridcolor": "white",
            "gridwidth": 2,
            "linecolor": "white",
            "showbackground": true,
            "ticks": "",
            "zerolinecolor": "white"
           },
           "yaxis": {
            "backgroundcolor": "#E5ECF6",
            "gridcolor": "white",
            "gridwidth": 2,
            "linecolor": "white",
            "showbackground": true,
            "ticks": "",
            "zerolinecolor": "white"
           },
           "zaxis": {
            "backgroundcolor": "#E5ECF6",
            "gridcolor": "white",
            "gridwidth": 2,
            "linecolor": "white",
            "showbackground": true,
            "ticks": "",
            "zerolinecolor": "white"
           }
          },
          "shapedefaults": {
           "line": {
            "color": "#2a3f5f"
           }
          },
          "ternary": {
           "aaxis": {
            "gridcolor": "white",
            "linecolor": "white",
            "ticks": ""
           },
           "baxis": {
            "gridcolor": "white",
            "linecolor": "white",
            "ticks": ""
           },
           "bgcolor": "#E5ECF6",
           "caxis": {
            "gridcolor": "white",
            "linecolor": "white",
            "ticks": ""
           }
          },
          "title": {
           "x": 0.05
          },
          "xaxis": {
           "automargin": true,
           "gridcolor": "white",
           "linecolor": "white",
           "ticks": "",
           "title": {
            "standoff": 15
           },
           "zerolinecolor": "white",
           "zerolinewidth": 2
          },
          "yaxis": {
           "automargin": true,
           "gridcolor": "white",
           "linecolor": "white",
           "ticks": "",
           "title": {
            "standoff": 15
           },
           "zerolinecolor": "white",
           "zerolinewidth": 2
          }
         }
        },
        "title": {
         "text": "Ecological Footprints Across Countries"
        },
        "width": 1810,
        "xaxis": {
         "anchor": "y",
         "domain": [
          0,
          1
         ],
         "title": {
          "text": "Country"
         }
        },
        "yaxis": {
         "anchor": "x",
         "domain": [
          0,
          1
         ],
         "title": {
          "text": "Ecological Footprint"
         }
        }
       }
      }
     },
     "metadata": {},
     "output_type": "display_data"
    }
   ],
   "source": [
    "#Create a stacked bar chart\n",
    "fig = px.bar(data, x='Country',y=['Cropland Footprint', 'Grazing Footprint','Forest Footprint', 'Carbon Footprint', 'Fish Footprint'],\n",
    "             title='Ecological Footprints across Countries',\n",
    "             labels={'value': 'Ecological Footprint'},\n",
    "             barmode='stack')\n",
    "#Customize layout\n",
    "fig.update_layout(\n",
    "    title='Ecological Footprints Across Countries',\n",
    "    xaxis_title='Country', \n",
    "    yaxis_title='Ecological Footprint',\n",
    "    height=600,  # Adjust height of the plot\n",
    "    width=1810,  # Adjust width of the plot\n",
    "    margin=dict(l=50, r=50, t=50, b=50),  # Adjust margins)\n",
    ")\n",
    "#Show the plot\n",
    "fig.show()"
   ]
  },
  {
   "cell_type": "code",
   "execution_count": 20,
   "metadata": {},
   "outputs": [
    {
     "data": {
      "application/vnd.plotly.v1+json": {
       "config": {
        "plotlyServerURL": "https://plot.ly"
       },
       "data": [
        {
         "hovertemplate": "Country=%{x}<br>Total Ecological Footprint=%{y}<extra></extra>",
         "legendgroup": "",
         "line": {
          "color": "#636efa",
          "dash": "solid"
         },
         "marker": {
          "symbol": "circle"
         },
         "mode": "lines",
         "name": "",
         "orientation": "v",
         "showlegend": false,
         "type": "scatter",
         "x": [
          "Afghanistan",
          "Albania",
          "Algeria",
          "Angola",
          "Antigua and Barbuda",
          "Argentina",
          "Armenia",
          "Aruba",
          "Australia",
          "Austria",
          "Azerbaijan",
          "Bahamas",
          "Bahrain",
          "Bangladesh",
          "Barbados",
          "Belarus",
          "Belgium",
          "Benin",
          "Bermuda",
          "Bhutan",
          "Bolivia",
          "Bosnia and Herzegovina",
          "Botswana",
          "Brazil",
          "British Virgin Islands",
          "Brunei Darussalam",
          "Bulgaria",
          "Burkina Faso",
          "Burundi",
          "Cabo Verde",
          "Cambodia",
          "Cameroon",
          "Canada",
          "Cayman Islands",
          "Central African Republic",
          "Chad",
          "Chile",
          "China",
          "Colombia",
          "Comoros",
          "Congo",
          "Congo, Democratic Republic of",
          "Costa Rica",
          "Côte d'Ivoire",
          "Croatia",
          "Cuba",
          "Cyprus",
          "Czech Republic",
          "Denmark",
          "Djibouti",
          "Dominica",
          "Dominican Republic",
          "Ecuador",
          "Egypt",
          "El Salvador",
          "Equatorial Guinea",
          "Eritrea",
          "Estonia",
          "Ethiopia",
          "Fiji",
          "Finland",
          "France",
          "French Guiana",
          "French Polynesia",
          "Gabon",
          "Gambia",
          "Georgia",
          "Germany",
          "Ghana",
          "Greece",
          "Grenada",
          "Guadeloupe",
          "Guatemala",
          "Guinea",
          "Guinea-Bissau",
          "Guyana",
          "Haiti",
          "Honduras",
          "Hungary",
          "India",
          "Indonesia",
          "Iran, Islamic Republic of",
          "Iraq",
          "Ireland",
          "Israel",
          "Italy",
          "Jamaica",
          "Japan",
          "Jordan",
          "Kazakhstan",
          "Kenya",
          "Korea, Democratic People's Republic of",
          "Korea, Republic of",
          "Kuwait",
          "Kyrgyzstan",
          "Lao People's Democratic Republic",
          "Latvia",
          "Lebanon",
          "Lesotho",
          "Liberia",
          "Libyan Arab Jamahiriya",
          "Lithuania",
          "Luxembourg",
          "Macedonia TFYR",
          "Madagascar",
          "Malawi",
          "Malaysia",
          "Mali",
          "Martinique",
          "Mauritania",
          "Mauritius",
          "Mexico",
          "Moldova",
          "Mongolia",
          "Montenegro",
          "Montserrat",
          "Morocco",
          "Mozambique",
          "Myanmar",
          "Namibia",
          "Nauru",
          "Nepal",
          "Netherlands",
          "New Caledonia",
          "New Zealand",
          "Nicaragua",
          "Niger",
          "Nigeria",
          "Norway",
          "Oman",
          "Pakistan",
          "Panama",
          "Papua New Guinea",
          "Paraguay",
          "Peru",
          "Philippines",
          "Poland",
          "Portugal",
          "Qatar",
          "Réunion",
          "Romania",
          "Russian Federation",
          "Rwanda",
          "Saint Kitts and Nevis",
          "Saint Lucia",
          "Saint Vincent and Grenadines",
          "Samoa",
          "Sao Tome and Principe",
          "Saudi Arabia",
          "Senegal",
          "Serbia",
          "Sierra Leone",
          "Singapore",
          "Slovakia",
          "Slovenia",
          "Solomon Islands",
          "Somalia",
          "South Africa",
          "Spain",
          "Sri Lanka",
          "Suriname",
          "Swaziland",
          "Sweden",
          "Switzerland",
          "Syrian Arab Republic",
          "Tajikistan",
          "Tanzania, United Republic of",
          "Thailand",
          "Timor-Leste",
          "Togo",
          "Tonga",
          "Trinidad and Tobago",
          "Tunisia",
          "Turkey",
          "Turkmenistan",
          "Uganda",
          "Ukraine",
          "United Kingdom",
          "United Arab Emirates",
          "United States of America",
          "Uruguay",
          "Uzbekistan",
          "Venezuela, Bolivarian Republic of",
          "Viet Nam",
          "Wallis and Futuna Islands",
          "Yemen",
          "Zambia",
          "Zimbabwe"
         ],
         "xaxis": "x",
         "y": [
          0.79,
          2.21,
          2.12,
          0.93,
          5.38,
          3.14,
          2.23,
          11.88,
          9.31,
          6.06,
          2.31,
          6.84,
          7.49,
          0.72,
          4.48,
          5.09,
          7.44,
          1.41,
          5.77,
          4.84,
          2.96,
          3.12,
          3.83,
          3.11,
          2.86,
          4.06,
          3.32,
          1.21,
          0.8,
          2.52,
          1.21,
          1.17,
          8.17,
          5.65,
          1.24,
          1.46,
          4.36,
          3.38,
          1.87,
          1.03,
          1.29,
          0.82,
          2.84,
          1.27,
          3.92,
          1.95,
          4.21,
          5.19,
          5.51,
          2.19,
          2.57,
          1.53,
          2.17,
          2.15,
          2.07,
          3.97,
          0.42,
          6.86,
          1.02,
          2.9,
          5.87,
          5.14,
          2.34,
          4.73,
          2.02,
          1.03,
          1.58,
          5.3,
          1.97,
          4.38,
          2.98,
          3.23,
          1.89,
          1.41,
          1.53,
          3.07,
          0.61,
          1.68,
          2.92,
          1.16,
          1.58,
          2.79,
          1.88,
          5.57,
          6.22,
          4.61,
          1.89,
          5.02,
          2.1,
          5.55,
          1.03,
          1.17,
          5.69,
          8.13,
          1.91,
          1.22,
          6.29,
          3.84,
          1.66,
          1.21,
          3.69,
          5.83,
          15.82,
          3.26,
          0.99,
          0.81,
          3.71,
          1.53,
          2.08,
          2.54,
          3.46,
          2.89,
          1.78,
          6.08,
          3.78,
          7.78,
          1.68,
          0.87,
          1.43,
          2.48,
          2.94,
          0.98,
          5.28,
          3.58,
          5.6,
          1.39,
          1.56,
          1.16,
          4.98,
          7.52,
          0.79,
          2.79,
          1.91,
          4.16,
          2.28,
          1.1,
          4.44,
          3.88,
          10.8,
          3.65,
          2.71,
          5.69,
          0.87,
          4.94,
          2.45,
          3.11,
          2.77,
          1.49,
          5.61,
          1.21,
          2.7,
          1.24,
          7.97,
          4.06,
          5.81,
          1.29,
          1.24,
          3.31,
          3.67,
          1.32,
          4.25,
          2.01,
          7.25,
          5.79,
          1.51,
          0.91,
          1.32,
          2.66,
          0.48,
          1.13,
          2.7,
          7.92,
          2.34,
          3.33,
          5.47,
          1.24,
          2.84,
          4.94,
          7.93,
          8.22,
          2.91,
          2.32,
          3.57,
          1.65,
          2.07,
          1.03,
          0.99,
          1.37
         ],
         "yaxis": "y"
        }
       ],
       "layout": {
        "height": 500,
        "legend": {
         "tracegroupgap": 0
        },
        "margin": {
         "b": 50,
         "l": 50,
         "r": 50,
         "t": 50
        },
        "template": {
         "data": {
          "bar": [
           {
            "error_x": {
             "color": "#2a3f5f"
            },
            "error_y": {
             "color": "#2a3f5f"
            },
            "marker": {
             "line": {
              "color": "#E5ECF6",
              "width": 0.5
             },
             "pattern": {
              "fillmode": "overlay",
              "size": 10,
              "solidity": 0.2
             }
            },
            "type": "bar"
           }
          ],
          "barpolar": [
           {
            "marker": {
             "line": {
              "color": "#E5ECF6",
              "width": 0.5
             },
             "pattern": {
              "fillmode": "overlay",
              "size": 10,
              "solidity": 0.2
             }
            },
            "type": "barpolar"
           }
          ],
          "carpet": [
           {
            "aaxis": {
             "endlinecolor": "#2a3f5f",
             "gridcolor": "white",
             "linecolor": "white",
             "minorgridcolor": "white",
             "startlinecolor": "#2a3f5f"
            },
            "baxis": {
             "endlinecolor": "#2a3f5f",
             "gridcolor": "white",
             "linecolor": "white",
             "minorgridcolor": "white",
             "startlinecolor": "#2a3f5f"
            },
            "type": "carpet"
           }
          ],
          "choropleth": [
           {
            "colorbar": {
             "outlinewidth": 0,
             "ticks": ""
            },
            "type": "choropleth"
           }
          ],
          "contour": [
           {
            "colorbar": {
             "outlinewidth": 0,
             "ticks": ""
            },
            "colorscale": [
             [
              0,
              "#0d0887"
             ],
             [
              0.1111111111111111,
              "#46039f"
             ],
             [
              0.2222222222222222,
              "#7201a8"
             ],
             [
              0.3333333333333333,
              "#9c179e"
             ],
             [
              0.4444444444444444,
              "#bd3786"
             ],
             [
              0.5555555555555556,
              "#d8576b"
             ],
             [
              0.6666666666666666,
              "#ed7953"
             ],
             [
              0.7777777777777778,
              "#fb9f3a"
             ],
             [
              0.8888888888888888,
              "#fdca26"
             ],
             [
              1,
              "#f0f921"
             ]
            ],
            "type": "contour"
           }
          ],
          "contourcarpet": [
           {
            "colorbar": {
             "outlinewidth": 0,
             "ticks": ""
            },
            "type": "contourcarpet"
           }
          ],
          "heatmap": [
           {
            "colorbar": {
             "outlinewidth": 0,
             "ticks": ""
            },
            "colorscale": [
             [
              0,
              "#0d0887"
             ],
             [
              0.1111111111111111,
              "#46039f"
             ],
             [
              0.2222222222222222,
              "#7201a8"
             ],
             [
              0.3333333333333333,
              "#9c179e"
             ],
             [
              0.4444444444444444,
              "#bd3786"
             ],
             [
              0.5555555555555556,
              "#d8576b"
             ],
             [
              0.6666666666666666,
              "#ed7953"
             ],
             [
              0.7777777777777778,
              "#fb9f3a"
             ],
             [
              0.8888888888888888,
              "#fdca26"
             ],
             [
              1,
              "#f0f921"
             ]
            ],
            "type": "heatmap"
           }
          ],
          "heatmapgl": [
           {
            "colorbar": {
             "outlinewidth": 0,
             "ticks": ""
            },
            "colorscale": [
             [
              0,
              "#0d0887"
             ],
             [
              0.1111111111111111,
              "#46039f"
             ],
             [
              0.2222222222222222,
              "#7201a8"
             ],
             [
              0.3333333333333333,
              "#9c179e"
             ],
             [
              0.4444444444444444,
              "#bd3786"
             ],
             [
              0.5555555555555556,
              "#d8576b"
             ],
             [
              0.6666666666666666,
              "#ed7953"
             ],
             [
              0.7777777777777778,
              "#fb9f3a"
             ],
             [
              0.8888888888888888,
              "#fdca26"
             ],
             [
              1,
              "#f0f921"
             ]
            ],
            "type": "heatmapgl"
           }
          ],
          "histogram": [
           {
            "marker": {
             "pattern": {
              "fillmode": "overlay",
              "size": 10,
              "solidity": 0.2
             }
            },
            "type": "histogram"
           }
          ],
          "histogram2d": [
           {
            "colorbar": {
             "outlinewidth": 0,
             "ticks": ""
            },
            "colorscale": [
             [
              0,
              "#0d0887"
             ],
             [
              0.1111111111111111,
              "#46039f"
             ],
             [
              0.2222222222222222,
              "#7201a8"
             ],
             [
              0.3333333333333333,
              "#9c179e"
             ],
             [
              0.4444444444444444,
              "#bd3786"
             ],
             [
              0.5555555555555556,
              "#d8576b"
             ],
             [
              0.6666666666666666,
              "#ed7953"
             ],
             [
              0.7777777777777778,
              "#fb9f3a"
             ],
             [
              0.8888888888888888,
              "#fdca26"
             ],
             [
              1,
              "#f0f921"
             ]
            ],
            "type": "histogram2d"
           }
          ],
          "histogram2dcontour": [
           {
            "colorbar": {
             "outlinewidth": 0,
             "ticks": ""
            },
            "colorscale": [
             [
              0,
              "#0d0887"
             ],
             [
              0.1111111111111111,
              "#46039f"
             ],
             [
              0.2222222222222222,
              "#7201a8"
             ],
             [
              0.3333333333333333,
              "#9c179e"
             ],
             [
              0.4444444444444444,
              "#bd3786"
             ],
             [
              0.5555555555555556,
              "#d8576b"
             ],
             [
              0.6666666666666666,
              "#ed7953"
             ],
             [
              0.7777777777777778,
              "#fb9f3a"
             ],
             [
              0.8888888888888888,
              "#fdca26"
             ],
             [
              1,
              "#f0f921"
             ]
            ],
            "type": "histogram2dcontour"
           }
          ],
          "mesh3d": [
           {
            "colorbar": {
             "outlinewidth": 0,
             "ticks": ""
            },
            "type": "mesh3d"
           }
          ],
          "parcoords": [
           {
            "line": {
             "colorbar": {
              "outlinewidth": 0,
              "ticks": ""
             }
            },
            "type": "parcoords"
           }
          ],
          "pie": [
           {
            "automargin": true,
            "type": "pie"
           }
          ],
          "scatter": [
           {
            "fillpattern": {
             "fillmode": "overlay",
             "size": 10,
             "solidity": 0.2
            },
            "type": "scatter"
           }
          ],
          "scatter3d": [
           {
            "line": {
             "colorbar": {
              "outlinewidth": 0,
              "ticks": ""
             }
            },
            "marker": {
             "colorbar": {
              "outlinewidth": 0,
              "ticks": ""
             }
            },
            "type": "scatter3d"
           }
          ],
          "scattercarpet": [
           {
            "marker": {
             "colorbar": {
              "outlinewidth": 0,
              "ticks": ""
             }
            },
            "type": "scattercarpet"
           }
          ],
          "scattergeo": [
           {
            "marker": {
             "colorbar": {
              "outlinewidth": 0,
              "ticks": ""
             }
            },
            "type": "scattergeo"
           }
          ],
          "scattergl": [
           {
            "marker": {
             "colorbar": {
              "outlinewidth": 0,
              "ticks": ""
             }
            },
            "type": "scattergl"
           }
          ],
          "scattermapbox": [
           {
            "marker": {
             "colorbar": {
              "outlinewidth": 0,
              "ticks": ""
             }
            },
            "type": "scattermapbox"
           }
          ],
          "scatterpolar": [
           {
            "marker": {
             "colorbar": {
              "outlinewidth": 0,
              "ticks": ""
             }
            },
            "type": "scatterpolar"
           }
          ],
          "scatterpolargl": [
           {
            "marker": {
             "colorbar": {
              "outlinewidth": 0,
              "ticks": ""
             }
            },
            "type": "scatterpolargl"
           }
          ],
          "scatterternary": [
           {
            "marker": {
             "colorbar": {
              "outlinewidth": 0,
              "ticks": ""
             }
            },
            "type": "scatterternary"
           }
          ],
          "surface": [
           {
            "colorbar": {
             "outlinewidth": 0,
             "ticks": ""
            },
            "colorscale": [
             [
              0,
              "#0d0887"
             ],
             [
              0.1111111111111111,
              "#46039f"
             ],
             [
              0.2222222222222222,
              "#7201a8"
             ],
             [
              0.3333333333333333,
              "#9c179e"
             ],
             [
              0.4444444444444444,
              "#bd3786"
             ],
             [
              0.5555555555555556,
              "#d8576b"
             ],
             [
              0.6666666666666666,
              "#ed7953"
             ],
             [
              0.7777777777777778,
              "#fb9f3a"
             ],
             [
              0.8888888888888888,
              "#fdca26"
             ],
             [
              1,
              "#f0f921"
             ]
            ],
            "type": "surface"
           }
          ],
          "table": [
           {
            "cells": {
             "fill": {
              "color": "#EBF0F8"
             },
             "line": {
              "color": "white"
             }
            },
            "header": {
             "fill": {
              "color": "#C8D4E3"
             },
             "line": {
              "color": "white"
             }
            },
            "type": "table"
           }
          ]
         },
         "layout": {
          "annotationdefaults": {
           "arrowcolor": "#2a3f5f",
           "arrowhead": 0,
           "arrowwidth": 1
          },
          "autotypenumbers": "strict",
          "coloraxis": {
           "colorbar": {
            "outlinewidth": 0,
            "ticks": ""
           }
          },
          "colorscale": {
           "diverging": [
            [
             0,
             "#8e0152"
            ],
            [
             0.1,
             "#c51b7d"
            ],
            [
             0.2,
             "#de77ae"
            ],
            [
             0.3,
             "#f1b6da"
            ],
            [
             0.4,
             "#fde0ef"
            ],
            [
             0.5,
             "#f7f7f7"
            ],
            [
             0.6,
             "#e6f5d0"
            ],
            [
             0.7,
             "#b8e186"
            ],
            [
             0.8,
             "#7fbc41"
            ],
            [
             0.9,
             "#4d9221"
            ],
            [
             1,
             "#276419"
            ]
           ],
           "sequential": [
            [
             0,
             "#0d0887"
            ],
            [
             0.1111111111111111,
             "#46039f"
            ],
            [
             0.2222222222222222,
             "#7201a8"
            ],
            [
             0.3333333333333333,
             "#9c179e"
            ],
            [
             0.4444444444444444,
             "#bd3786"
            ],
            [
             0.5555555555555556,
             "#d8576b"
            ],
            [
             0.6666666666666666,
             "#ed7953"
            ],
            [
             0.7777777777777778,
             "#fb9f3a"
            ],
            [
             0.8888888888888888,
             "#fdca26"
            ],
            [
             1,
             "#f0f921"
            ]
           ],
           "sequentialminus": [
            [
             0,
             "#0d0887"
            ],
            [
             0.1111111111111111,
             "#46039f"
            ],
            [
             0.2222222222222222,
             "#7201a8"
            ],
            [
             0.3333333333333333,
             "#9c179e"
            ],
            [
             0.4444444444444444,
             "#bd3786"
            ],
            [
             0.5555555555555556,
             "#d8576b"
            ],
            [
             0.6666666666666666,
             "#ed7953"
            ],
            [
             0.7777777777777778,
             "#fb9f3a"
            ],
            [
             0.8888888888888888,
             "#fdca26"
            ],
            [
             1,
             "#f0f921"
            ]
           ]
          },
          "colorway": [
           "#636efa",
           "#EF553B",
           "#00cc96",
           "#ab63fa",
           "#FFA15A",
           "#19d3f3",
           "#FF6692",
           "#B6E880",
           "#FF97FF",
           "#FECB52"
          ],
          "font": {
           "color": "#2a3f5f"
          },
          "geo": {
           "bgcolor": "white",
           "lakecolor": "white",
           "landcolor": "#E5ECF6",
           "showlakes": true,
           "showland": true,
           "subunitcolor": "white"
          },
          "hoverlabel": {
           "align": "left"
          },
          "hovermode": "closest",
          "mapbox": {
           "style": "light"
          },
          "paper_bgcolor": "white",
          "plot_bgcolor": "#E5ECF6",
          "polar": {
           "angularaxis": {
            "gridcolor": "white",
            "linecolor": "white",
            "ticks": ""
           },
           "bgcolor": "#E5ECF6",
           "radialaxis": {
            "gridcolor": "white",
            "linecolor": "white",
            "ticks": ""
           }
          },
          "scene": {
           "xaxis": {
            "backgroundcolor": "#E5ECF6",
            "gridcolor": "white",
            "gridwidth": 2,
            "linecolor": "white",
            "showbackground": true,
            "ticks": "",
            "zerolinecolor": "white"
           },
           "yaxis": {
            "backgroundcolor": "#E5ECF6",
            "gridcolor": "white",
            "gridwidth": 2,
            "linecolor": "white",
            "showbackground": true,
            "ticks": "",
            "zerolinecolor": "white"
           },
           "zaxis": {
            "backgroundcolor": "#E5ECF6",
            "gridcolor": "white",
            "gridwidth": 2,
            "linecolor": "white",
            "showbackground": true,
            "ticks": "",
            "zerolinecolor": "white"
           }
          },
          "shapedefaults": {
           "line": {
            "color": "#2a3f5f"
           }
          },
          "ternary": {
           "aaxis": {
            "gridcolor": "white",
            "linecolor": "white",
            "ticks": ""
           },
           "baxis": {
            "gridcolor": "white",
            "linecolor": "white",
            "ticks": ""
           },
           "bgcolor": "#E5ECF6",
           "caxis": {
            "gridcolor": "white",
            "linecolor": "white",
            "ticks": ""
           }
          },
          "title": {
           "x": 0.05
          },
          "xaxis": {
           "automargin": true,
           "gridcolor": "white",
           "linecolor": "white",
           "ticks": "",
           "title": {
            "standoff": 15
           },
           "zerolinecolor": "white",
           "zerolinewidth": 2
          },
          "yaxis": {
           "automargin": true,
           "gridcolor": "white",
           "linecolor": "white",
           "ticks": "",
           "title": {
            "standoff": 15
           },
           "zerolinecolor": "white",
           "zerolinewidth": 2
          }
         }
        },
        "title": {
         "text": "Total Ecological Footprint Across Countries"
        },
        "width": 800,
        "xaxis": {
         "anchor": "y",
         "domain": [
          0,
          1
         ],
         "title": {
          "text": "Country"
         }
        },
        "yaxis": {
         "anchor": "x",
         "domain": [
          0,
          1
         ],
         "title": {
          "text": "Total Ecological Footprint"
         }
        }
       }
      }
     },
     "metadata": {},
     "output_type": "display_data"
    }
   ],
   "source": [
    "import plotly.express as px\n",
    "\n",
    "# Assuming 'data' is your DataFrame with ecological footprint data\n",
    "\n",
    "# Example: Plot line chart for Total Ecological Footprint across different countries\n",
    "fig = px.line(data, x='Country', y='Total Ecological Footprint',\n",
    "              title='Total Ecological Footprint Across Countries',\n",
    "              labels={'Country': 'Country', 'Total Ecological Footprint': 'Total Ecological Footprint'})\n",
    "\n",
    "# Customize layout\n",
    "fig.update_layout(\n",
    "    xaxis_title='Country',\n",
    "    yaxis_title='Total Ecological Footprint',\n",
    "    height=500,  # Adjust height of the plot\n",
    "    width=800,   # Adjust width of the plot\n",
    "    margin=dict(l=50, r=50, t=50, b=50),  # Adjust margins\n",
    ")\n",
    "\n",
    "# Show the plot\n",
    "fig.show()\n"
   ]
  },
  {
   "cell_type": "code",
   "execution_count": 21,
   "metadata": {},
   "outputs": [
    {
     "data": {
      "application/vnd.plotly.v1+json": {
       "config": {
        "plotlyServerURL": "https://plot.ly"
       },
       "data": [
        {
         "hovertemplate": "Metric=Total Biocapacity<br>Country=%{x}<br>Value=%{y}<extra></extra>",
         "legendgroup": "Total Biocapacity",
         "line": {
          "color": "#636efa",
          "dash": "solid"
         },
         "marker": {
          "symbol": "circle"
         },
         "mode": "lines",
         "name": "Total Biocapacity",
         "orientation": "v",
         "showlegend": true,
         "type": "scatter",
         "x": [
          "Afghanistan",
          "Albania",
          "Algeria",
          "Angola",
          "Antigua and Barbuda",
          "Argentina",
          "Armenia",
          "Aruba",
          "Australia",
          "Austria",
          "Azerbaijan",
          "Bahamas",
          "Bahrain",
          "Bangladesh",
          "Barbados",
          "Belarus",
          "Belgium",
          "Benin",
          "Bermuda",
          "Bhutan",
          "Bolivia",
          "Bosnia and Herzegovina",
          "Botswana",
          "Brazil",
          "British Virgin Islands",
          "Brunei Darussalam",
          "Bulgaria",
          "Burkina Faso",
          "Burundi",
          "Cabo Verde",
          "Cambodia",
          "Cameroon",
          "Canada",
          "Cayman Islands",
          "Central African Republic",
          "Chad",
          "Chile",
          "China",
          "Colombia",
          "Comoros",
          "Congo",
          "Congo, Democratic Republic of",
          "Costa Rica",
          "Côte d'Ivoire",
          "Croatia",
          "Cuba",
          "Cyprus",
          "Czech Republic",
          "Denmark",
          "Djibouti",
          "Dominica",
          "Dominican Republic",
          "Ecuador",
          "Egypt",
          "El Salvador",
          "Equatorial Guinea",
          "Eritrea",
          "Estonia",
          "Ethiopia",
          "Fiji",
          "Finland",
          "France",
          "French Guiana",
          "French Polynesia",
          "Gabon",
          "Gambia",
          "Georgia",
          "Germany",
          "Ghana",
          "Greece",
          "Grenada",
          "Guadeloupe",
          "Guatemala",
          "Guinea",
          "Guinea-Bissau",
          "Guyana",
          "Haiti",
          "Honduras",
          "Hungary",
          "India",
          "Indonesia",
          "Iran, Islamic Republic of",
          "Iraq",
          "Ireland",
          "Israel",
          "Italy",
          "Jamaica",
          "Japan",
          "Jordan",
          "Kazakhstan",
          "Kenya",
          "Korea, Democratic People's Republic of",
          "Korea, Republic of",
          "Kuwait",
          "Kyrgyzstan",
          "Lao People's Democratic Republic",
          "Latvia",
          "Lebanon",
          "Lesotho",
          "Liberia",
          "Libyan Arab Jamahiriya",
          "Lithuania",
          "Luxembourg",
          "Macedonia TFYR",
          "Madagascar",
          "Malawi",
          "Malaysia",
          "Mali",
          "Martinique",
          "Mauritania",
          "Mauritius",
          "Mexico",
          "Moldova",
          "Mongolia",
          "Montenegro",
          "Montserrat",
          "Morocco",
          "Mozambique",
          "Myanmar",
          "Namibia",
          "Nauru",
          "Nepal",
          "Netherlands",
          "New Caledonia",
          "New Zealand",
          "Nicaragua",
          "Niger",
          "Nigeria",
          "Norway",
          "Oman",
          "Pakistan",
          "Panama",
          "Papua New Guinea",
          "Paraguay",
          "Peru",
          "Philippines",
          "Poland",
          "Portugal",
          "Qatar",
          "Réunion",
          "Romania",
          "Russian Federation",
          "Rwanda",
          "Saint Kitts and Nevis",
          "Saint Lucia",
          "Saint Vincent and Grenadines",
          "Samoa",
          "Sao Tome and Principe",
          "Saudi Arabia",
          "Senegal",
          "Serbia",
          "Sierra Leone",
          "Singapore",
          "Slovakia",
          "Slovenia",
          "Solomon Islands",
          "Somalia",
          "South Africa",
          "Spain",
          "Sri Lanka",
          "Suriname",
          "Swaziland",
          "Sweden",
          "Switzerland",
          "Syrian Arab Republic",
          "Tajikistan",
          "Tanzania, United Republic of",
          "Thailand",
          "Timor-Leste",
          "Togo",
          "Tonga",
          "Trinidad and Tobago",
          "Tunisia",
          "Turkey",
          "Turkmenistan",
          "Uganda",
          "Ukraine",
          "United Kingdom",
          "United Arab Emirates",
          "United States of America",
          "Uruguay",
          "Uzbekistan",
          "Venezuela, Bolivarian Republic of",
          "Viet Nam",
          "Wallis and Futuna Islands",
          "Yemen",
          "Zambia",
          "Zimbabwe"
         ],
         "xaxis": "x",
         "y": [
          0.5,
          1.18,
          0.59,
          2.55,
          0.94,
          6.92,
          0.89,
          0.57,
          16.57,
          3.07,
          0.85,
          9.55,
          0.58,
          0.38,
          0.19,
          3.64,
          1.19,
          0.88,
          0.13,
          5.27,
          16.73,
          1.63,
          3.47,
          9.08,
          2.05,
          2.87,
          2.86,
          0.98,
          0.32,
          0.62,
          1.09,
          1.69,
          16.01,
          0.32,
          7.87,
          2.03,
          3.63,
          0.94,
          3.6,
          0.32,
          10.91,
          3.07,
          1.53,
          1.78,
          2.8,
          0.76,
          0.34,
          2.46,
          4.78,
          0.77,
          1.03,
          0.56,
          2.2,
          0.56,
          0.61,
          4.4,
          1.3,
          10.53,
          0.58,
          2.37,
          13.44,
          3.11,
          111.35,
          1.37,
          26.31,
          0.82,
          1.17,
          2.27,
          1.35,
          1.61,
          1.96,
          0.45,
          0.99,
          2.09,
          3.03,
          66.58,
          0.27,
          1.77,
          2.17,
          0.45,
          1.26,
          0.9,
          0.29,
          3.73,
          0.35,
          1.08,
          0.43,
          0.72,
          0.21,
          3.41,
          0.51,
          0.6,
          0.68,
          0.55,
          1.3,
          1.62,
          9.55,
          0.33,
          0.78,
          2.57,
          0.7,
          5.67,
          1.68,
          1.51,
          2.63,
          0.66,
          2.41,
          1.58,
          0.39,
          4.48,
          0.71,
          1.27,
          0.8,
          15.66,
          3.24,
          1.36,
          0.71,
          2.06,
          1.84,
          6.88,
          0.19,
          0.59,
          1.17,
          7.67,
          10.14,
          2.25,
          1.24,
          0.7,
          8.18,
          1.92,
          0.35,
          2.94,
          3.92,
          10.52,
          3.97,
          0.54,
          2.08,
          1.51,
          1.24,
          0.18,
          2.32,
          6.79,
          0.54,
          0.62,
          0.34,
          1.26,
          1.93,
          0.87,
          0.5,
          1.05,
          1.25,
          1.24,
          0.05,
          2.71,
          2.35,
          4.36,
          1.27,
          1.15,
          1.25,
          0.44,
          89.33,
          0.88,
          10.62,
          1.3,
          0.6,
          0.53,
          1.08,
          1.24,
          1.78,
          0.53,
          1.48,
          1.56,
          0.93,
          1.52,
          2.79,
          0.59,
          2.27,
          1.32,
          0.56,
          3.76,
          10.32,
          0.92,
          2.78,
          1,
          1.51,
          0.5,
          2.23,
          0.62
         ],
         "yaxis": "y"
        },
        {
         "hovertemplate": "Metric=Biocapacity Deficit or Reserve<br>Country=%{x}<br>Value=%{y}<extra></extra>",
         "legendgroup": "Biocapacity Deficit or Reserve",
         "line": {
          "color": "#EF553B",
          "dash": "solid"
         },
         "marker": {
          "symbol": "circle"
         },
         "mode": "lines",
         "name": "Biocapacity Deficit or Reserve",
         "orientation": "v",
         "showlegend": true,
         "type": "scatter",
         "x": [
          "Afghanistan",
          "Albania",
          "Algeria",
          "Angola",
          "Antigua and Barbuda",
          "Argentina",
          "Armenia",
          "Aruba",
          "Australia",
          "Austria",
          "Azerbaijan",
          "Bahamas",
          "Bahrain",
          "Bangladesh",
          "Barbados",
          "Belarus",
          "Belgium",
          "Benin",
          "Bermuda",
          "Bhutan",
          "Bolivia",
          "Bosnia and Herzegovina",
          "Botswana",
          "Brazil",
          "British Virgin Islands",
          "Brunei Darussalam",
          "Bulgaria",
          "Burkina Faso",
          "Burundi",
          "Cabo Verde",
          "Cambodia",
          "Cameroon",
          "Canada",
          "Cayman Islands",
          "Central African Republic",
          "Chad",
          "Chile",
          "China",
          "Colombia",
          "Comoros",
          "Congo",
          "Congo, Democratic Republic of",
          "Costa Rica",
          "Côte d'Ivoire",
          "Croatia",
          "Cuba",
          "Cyprus",
          "Czech Republic",
          "Denmark",
          "Djibouti",
          "Dominica",
          "Dominican Republic",
          "Ecuador",
          "Egypt",
          "El Salvador",
          "Equatorial Guinea",
          "Eritrea",
          "Estonia",
          "Ethiopia",
          "Fiji",
          "Finland",
          "France",
          "French Guiana",
          "French Polynesia",
          "Gabon",
          "Gambia",
          "Georgia",
          "Germany",
          "Ghana",
          "Greece",
          "Grenada",
          "Guadeloupe",
          "Guatemala",
          "Guinea",
          "Guinea-Bissau",
          "Guyana",
          "Haiti",
          "Honduras",
          "Hungary",
          "India",
          "Indonesia",
          "Iran, Islamic Republic of",
          "Iraq",
          "Ireland",
          "Israel",
          "Italy",
          "Jamaica",
          "Japan",
          "Jordan",
          "Kazakhstan",
          "Kenya",
          "Korea, Democratic People's Republic of",
          "Korea, Republic of",
          "Kuwait",
          "Kyrgyzstan",
          "Lao People's Democratic Republic",
          "Latvia",
          "Lebanon",
          "Lesotho",
          "Liberia",
          "Libyan Arab Jamahiriya",
          "Lithuania",
          "Luxembourg",
          "Macedonia TFYR",
          "Madagascar",
          "Malawi",
          "Malaysia",
          "Mali",
          "Martinique",
          "Mauritania",
          "Mauritius",
          "Mexico",
          "Moldova",
          "Mongolia",
          "Montenegro",
          "Montserrat",
          "Morocco",
          "Mozambique",
          "Myanmar",
          "Namibia",
          "Nauru",
          "Nepal",
          "Netherlands",
          "New Caledonia",
          "New Zealand",
          "Nicaragua",
          "Niger",
          "Nigeria",
          "Norway",
          "Oman",
          "Pakistan",
          "Panama",
          "Papua New Guinea",
          "Paraguay",
          "Peru",
          "Philippines",
          "Poland",
          "Portugal",
          "Qatar",
          "Réunion",
          "Romania",
          "Russian Federation",
          "Rwanda",
          "Saint Kitts and Nevis",
          "Saint Lucia",
          "Saint Vincent and Grenadines",
          "Samoa",
          "Sao Tome and Principe",
          "Saudi Arabia",
          "Senegal",
          "Serbia",
          "Sierra Leone",
          "Singapore",
          "Slovakia",
          "Slovenia",
          "Solomon Islands",
          "Somalia",
          "South Africa",
          "Spain",
          "Sri Lanka",
          "Suriname",
          "Swaziland",
          "Sweden",
          "Switzerland",
          "Syrian Arab Republic",
          "Tajikistan",
          "Tanzania, United Republic of",
          "Thailand",
          "Timor-Leste",
          "Togo",
          "Tonga",
          "Trinidad and Tobago",
          "Tunisia",
          "Turkey",
          "Turkmenistan",
          "Uganda",
          "Ukraine",
          "United Kingdom",
          "United Arab Emirates",
          "United States of America",
          "Uruguay",
          "Uzbekistan",
          "Venezuela, Bolivarian Republic of",
          "Viet Nam",
          "Wallis and Futuna Islands",
          "Yemen",
          "Zambia",
          "Zimbabwe"
         ],
         "xaxis": "x",
         "y": [
          -0.3,
          -1.03,
          -1.53,
          1.61,
          -4.44,
          3.78,
          -1.35,
          -11.31,
          7.26,
          -3,
          -1.46,
          2.71,
          -6.91,
          -0.35,
          -4.29,
          -1.45,
          -6.25,
          -0.53,
          -5.64,
          0.43,
          13.77,
          -1.49,
          -0.35,
          5.97,
          -0.81,
          -1.19,
          -0.46,
          -0.22,
          -0.48,
          -1.9,
          -0.11,
          0.52,
          7.83,
          -5.33,
          6.62,
          0.57,
          -0.73,
          -2.44,
          1.72,
          -0.7,
          9.63,
          2.25,
          -1.31,
          0.51,
          -1.12,
          -1.19,
          -3.87,
          -2.73,
          -0.73,
          -1.42,
          -1.54,
          -0.97,
          0.03,
          -1.59,
          -1.46,
          0.44,
          0.88,
          3.67,
          -0.44,
          -0.52,
          7.57,
          -2.04,
          109.01,
          -3.36,
          24.29,
          -0.21,
          -0.41,
          -3.02,
          -0.62,
          -2.77,
          -1.01,
          -2.77,
          -0.9,
          0.68,
          1.49,
          63.51,
          -0.34,
          0.09,
          -0.75,
          -0.71,
          -0.32,
          -1.89,
          -1.59,
          -1.83,
          -5.87,
          -3.53,
          -1.46,
          -4.3,
          -1.89,
          -2.14,
          -0.52,
          -0.57,
          -5.01,
          -7.58,
          -0.61,
          0.4,
          3.26,
          -3.51,
          -0.87,
          1.35,
          -3,
          -0.17,
          -14.14,
          -1.75,
          1.64,
          -0.15,
          -1.3,
          0.05,
          -1.7,
          1.93,
          -2.75,
          -1.62,
          -0.98,
          9.58,
          -0.54,
          -6.42,
          -0.96,
          1.19,
          0.41,
          4.4,
          -2.76,
          -0.38,
          -4.11,
          4.09,
          4.54,
          0.87,
          -0.32,
          -0.47,
          3.19,
          -5.6,
          -0.44,
          0.15,
          2.01,
          6.36,
          1.69,
          -0.56,
          -2.36,
          -2.37,
          -9.56,
          -3.47,
          -0.39,
          1.1,
          -0.32,
          -4.31,
          -2.1,
          -1.85,
          -0.85,
          -0.61,
          -5.12,
          -0.16,
          -1.44,
          0,
          -7.92,
          -1.35,
          -3.47,
          3.08,
          0.03,
          -2.16,
          -2.42,
          -0.88,
          85.08,
          -1.14,
          3.38,
          -4.48,
          -0.91,
          -0.38,
          -0.24,
          -1.42,
          1.3,
          -0.6,
          -1.22,
          -6.36,
          -1.4,
          -1.81,
          -2.68,
          -0.66,
          -0.58,
          -3.62,
          -7.37,
          -4.46,
          7.41,
          -1.4,
          -0.79,
          -0.65,
          -0.56,
          -0.53,
          1.24,
          -0.75
         ],
         "yaxis": "y"
        }
       ],
       "layout": {
        "height": 500,
        "legend": {
         "title": {
          "text": "Metric"
         },
         "tracegroupgap": 0
        },
        "margin": {
         "b": 50,
         "l": 50,
         "r": 50,
         "t": 50
        },
        "template": {
         "data": {
          "bar": [
           {
            "error_x": {
             "color": "#2a3f5f"
            },
            "error_y": {
             "color": "#2a3f5f"
            },
            "marker": {
             "line": {
              "color": "#E5ECF6",
              "width": 0.5
             },
             "pattern": {
              "fillmode": "overlay",
              "size": 10,
              "solidity": 0.2
             }
            },
            "type": "bar"
           }
          ],
          "barpolar": [
           {
            "marker": {
             "line": {
              "color": "#E5ECF6",
              "width": 0.5
             },
             "pattern": {
              "fillmode": "overlay",
              "size": 10,
              "solidity": 0.2
             }
            },
            "type": "barpolar"
           }
          ],
          "carpet": [
           {
            "aaxis": {
             "endlinecolor": "#2a3f5f",
             "gridcolor": "white",
             "linecolor": "white",
             "minorgridcolor": "white",
             "startlinecolor": "#2a3f5f"
            },
            "baxis": {
             "endlinecolor": "#2a3f5f",
             "gridcolor": "white",
             "linecolor": "white",
             "minorgridcolor": "white",
             "startlinecolor": "#2a3f5f"
            },
            "type": "carpet"
           }
          ],
          "choropleth": [
           {
            "colorbar": {
             "outlinewidth": 0,
             "ticks": ""
            },
            "type": "choropleth"
           }
          ],
          "contour": [
           {
            "colorbar": {
             "outlinewidth": 0,
             "ticks": ""
            },
            "colorscale": [
             [
              0,
              "#0d0887"
             ],
             [
              0.1111111111111111,
              "#46039f"
             ],
             [
              0.2222222222222222,
              "#7201a8"
             ],
             [
              0.3333333333333333,
              "#9c179e"
             ],
             [
              0.4444444444444444,
              "#bd3786"
             ],
             [
              0.5555555555555556,
              "#d8576b"
             ],
             [
              0.6666666666666666,
              "#ed7953"
             ],
             [
              0.7777777777777778,
              "#fb9f3a"
             ],
             [
              0.8888888888888888,
              "#fdca26"
             ],
             [
              1,
              "#f0f921"
             ]
            ],
            "type": "contour"
           }
          ],
          "contourcarpet": [
           {
            "colorbar": {
             "outlinewidth": 0,
             "ticks": ""
            },
            "type": "contourcarpet"
           }
          ],
          "heatmap": [
           {
            "colorbar": {
             "outlinewidth": 0,
             "ticks": ""
            },
            "colorscale": [
             [
              0,
              "#0d0887"
             ],
             [
              0.1111111111111111,
              "#46039f"
             ],
             [
              0.2222222222222222,
              "#7201a8"
             ],
             [
              0.3333333333333333,
              "#9c179e"
             ],
             [
              0.4444444444444444,
              "#bd3786"
             ],
             [
              0.5555555555555556,
              "#d8576b"
             ],
             [
              0.6666666666666666,
              "#ed7953"
             ],
             [
              0.7777777777777778,
              "#fb9f3a"
             ],
             [
              0.8888888888888888,
              "#fdca26"
             ],
             [
              1,
              "#f0f921"
             ]
            ],
            "type": "heatmap"
           }
          ],
          "heatmapgl": [
           {
            "colorbar": {
             "outlinewidth": 0,
             "ticks": ""
            },
            "colorscale": [
             [
              0,
              "#0d0887"
             ],
             [
              0.1111111111111111,
              "#46039f"
             ],
             [
              0.2222222222222222,
              "#7201a8"
             ],
             [
              0.3333333333333333,
              "#9c179e"
             ],
             [
              0.4444444444444444,
              "#bd3786"
             ],
             [
              0.5555555555555556,
              "#d8576b"
             ],
             [
              0.6666666666666666,
              "#ed7953"
             ],
             [
              0.7777777777777778,
              "#fb9f3a"
             ],
             [
              0.8888888888888888,
              "#fdca26"
             ],
             [
              1,
              "#f0f921"
             ]
            ],
            "type": "heatmapgl"
           }
          ],
          "histogram": [
           {
            "marker": {
             "pattern": {
              "fillmode": "overlay",
              "size": 10,
              "solidity": 0.2
             }
            },
            "type": "histogram"
           }
          ],
          "histogram2d": [
           {
            "colorbar": {
             "outlinewidth": 0,
             "ticks": ""
            },
            "colorscale": [
             [
              0,
              "#0d0887"
             ],
             [
              0.1111111111111111,
              "#46039f"
             ],
             [
              0.2222222222222222,
              "#7201a8"
             ],
             [
              0.3333333333333333,
              "#9c179e"
             ],
             [
              0.4444444444444444,
              "#bd3786"
             ],
             [
              0.5555555555555556,
              "#d8576b"
             ],
             [
              0.6666666666666666,
              "#ed7953"
             ],
             [
              0.7777777777777778,
              "#fb9f3a"
             ],
             [
              0.8888888888888888,
              "#fdca26"
             ],
             [
              1,
              "#f0f921"
             ]
            ],
            "type": "histogram2d"
           }
          ],
          "histogram2dcontour": [
           {
            "colorbar": {
             "outlinewidth": 0,
             "ticks": ""
            },
            "colorscale": [
             [
              0,
              "#0d0887"
             ],
             [
              0.1111111111111111,
              "#46039f"
             ],
             [
              0.2222222222222222,
              "#7201a8"
             ],
             [
              0.3333333333333333,
              "#9c179e"
             ],
             [
              0.4444444444444444,
              "#bd3786"
             ],
             [
              0.5555555555555556,
              "#d8576b"
             ],
             [
              0.6666666666666666,
              "#ed7953"
             ],
             [
              0.7777777777777778,
              "#fb9f3a"
             ],
             [
              0.8888888888888888,
              "#fdca26"
             ],
             [
              1,
              "#f0f921"
             ]
            ],
            "type": "histogram2dcontour"
           }
          ],
          "mesh3d": [
           {
            "colorbar": {
             "outlinewidth": 0,
             "ticks": ""
            },
            "type": "mesh3d"
           }
          ],
          "parcoords": [
           {
            "line": {
             "colorbar": {
              "outlinewidth": 0,
              "ticks": ""
             }
            },
            "type": "parcoords"
           }
          ],
          "pie": [
           {
            "automargin": true,
            "type": "pie"
           }
          ],
          "scatter": [
           {
            "fillpattern": {
             "fillmode": "overlay",
             "size": 10,
             "solidity": 0.2
            },
            "type": "scatter"
           }
          ],
          "scatter3d": [
           {
            "line": {
             "colorbar": {
              "outlinewidth": 0,
              "ticks": ""
             }
            },
            "marker": {
             "colorbar": {
              "outlinewidth": 0,
              "ticks": ""
             }
            },
            "type": "scatter3d"
           }
          ],
          "scattercarpet": [
           {
            "marker": {
             "colorbar": {
              "outlinewidth": 0,
              "ticks": ""
             }
            },
            "type": "scattercarpet"
           }
          ],
          "scattergeo": [
           {
            "marker": {
             "colorbar": {
              "outlinewidth": 0,
              "ticks": ""
             }
            },
            "type": "scattergeo"
           }
          ],
          "scattergl": [
           {
            "marker": {
             "colorbar": {
              "outlinewidth": 0,
              "ticks": ""
             }
            },
            "type": "scattergl"
           }
          ],
          "scattermapbox": [
           {
            "marker": {
             "colorbar": {
              "outlinewidth": 0,
              "ticks": ""
             }
            },
            "type": "scattermapbox"
           }
          ],
          "scatterpolar": [
           {
            "marker": {
             "colorbar": {
              "outlinewidth": 0,
              "ticks": ""
             }
            },
            "type": "scatterpolar"
           }
          ],
          "scatterpolargl": [
           {
            "marker": {
             "colorbar": {
              "outlinewidth": 0,
              "ticks": ""
             }
            },
            "type": "scatterpolargl"
           }
          ],
          "scatterternary": [
           {
            "marker": {
             "colorbar": {
              "outlinewidth": 0,
              "ticks": ""
             }
            },
            "type": "scatterternary"
           }
          ],
          "surface": [
           {
            "colorbar": {
             "outlinewidth": 0,
             "ticks": ""
            },
            "colorscale": [
             [
              0,
              "#0d0887"
             ],
             [
              0.1111111111111111,
              "#46039f"
             ],
             [
              0.2222222222222222,
              "#7201a8"
             ],
             [
              0.3333333333333333,
              "#9c179e"
             ],
             [
              0.4444444444444444,
              "#bd3786"
             ],
             [
              0.5555555555555556,
              "#d8576b"
             ],
             [
              0.6666666666666666,
              "#ed7953"
             ],
             [
              0.7777777777777778,
              "#fb9f3a"
             ],
             [
              0.8888888888888888,
              "#fdca26"
             ],
             [
              1,
              "#f0f921"
             ]
            ],
            "type": "surface"
           }
          ],
          "table": [
           {
            "cells": {
             "fill": {
              "color": "#EBF0F8"
             },
             "line": {
              "color": "white"
             }
            },
            "header": {
             "fill": {
              "color": "#C8D4E3"
             },
             "line": {
              "color": "white"
             }
            },
            "type": "table"
           }
          ]
         },
         "layout": {
          "annotationdefaults": {
           "arrowcolor": "#2a3f5f",
           "arrowhead": 0,
           "arrowwidth": 1
          },
          "autotypenumbers": "strict",
          "coloraxis": {
           "colorbar": {
            "outlinewidth": 0,
            "ticks": ""
           }
          },
          "colorscale": {
           "diverging": [
            [
             0,
             "#8e0152"
            ],
            [
             0.1,
             "#c51b7d"
            ],
            [
             0.2,
             "#de77ae"
            ],
            [
             0.3,
             "#f1b6da"
            ],
            [
             0.4,
             "#fde0ef"
            ],
            [
             0.5,
             "#f7f7f7"
            ],
            [
             0.6,
             "#e6f5d0"
            ],
            [
             0.7,
             "#b8e186"
            ],
            [
             0.8,
             "#7fbc41"
            ],
            [
             0.9,
             "#4d9221"
            ],
            [
             1,
             "#276419"
            ]
           ],
           "sequential": [
            [
             0,
             "#0d0887"
            ],
            [
             0.1111111111111111,
             "#46039f"
            ],
            [
             0.2222222222222222,
             "#7201a8"
            ],
            [
             0.3333333333333333,
             "#9c179e"
            ],
            [
             0.4444444444444444,
             "#bd3786"
            ],
            [
             0.5555555555555556,
             "#d8576b"
            ],
            [
             0.6666666666666666,
             "#ed7953"
            ],
            [
             0.7777777777777778,
             "#fb9f3a"
            ],
            [
             0.8888888888888888,
             "#fdca26"
            ],
            [
             1,
             "#f0f921"
            ]
           ],
           "sequentialminus": [
            [
             0,
             "#0d0887"
            ],
            [
             0.1111111111111111,
             "#46039f"
            ],
            [
             0.2222222222222222,
             "#7201a8"
            ],
            [
             0.3333333333333333,
             "#9c179e"
            ],
            [
             0.4444444444444444,
             "#bd3786"
            ],
            [
             0.5555555555555556,
             "#d8576b"
            ],
            [
             0.6666666666666666,
             "#ed7953"
            ],
            [
             0.7777777777777778,
             "#fb9f3a"
            ],
            [
             0.8888888888888888,
             "#fdca26"
            ],
            [
             1,
             "#f0f921"
            ]
           ]
          },
          "colorway": [
           "#636efa",
           "#EF553B",
           "#00cc96",
           "#ab63fa",
           "#FFA15A",
           "#19d3f3",
           "#FF6692",
           "#B6E880",
           "#FF97FF",
           "#FECB52"
          ],
          "font": {
           "color": "#2a3f5f"
          },
          "geo": {
           "bgcolor": "white",
           "lakecolor": "white",
           "landcolor": "#E5ECF6",
           "showlakes": true,
           "showland": true,
           "subunitcolor": "white"
          },
          "hoverlabel": {
           "align": "left"
          },
          "hovermode": "closest",
          "mapbox": {
           "style": "light"
          },
          "paper_bgcolor": "white",
          "plot_bgcolor": "#E5ECF6",
          "polar": {
           "angularaxis": {
            "gridcolor": "white",
            "linecolor": "white",
            "ticks": ""
           },
           "bgcolor": "#E5ECF6",
           "radialaxis": {
            "gridcolor": "white",
            "linecolor": "white",
            "ticks": ""
           }
          },
          "scene": {
           "xaxis": {
            "backgroundcolor": "#E5ECF6",
            "gridcolor": "white",
            "gridwidth": 2,
            "linecolor": "white",
            "showbackground": true,
            "ticks": "",
            "zerolinecolor": "white"
           },
           "yaxis": {
            "backgroundcolor": "#E5ECF6",
            "gridcolor": "white",
            "gridwidth": 2,
            "linecolor": "white",
            "showbackground": true,
            "ticks": "",
            "zerolinecolor": "white"
           },
           "zaxis": {
            "backgroundcolor": "#E5ECF6",
            "gridcolor": "white",
            "gridwidth": 2,
            "linecolor": "white",
            "showbackground": true,
            "ticks": "",
            "zerolinecolor": "white"
           }
          },
          "shapedefaults": {
           "line": {
            "color": "#2a3f5f"
           }
          },
          "ternary": {
           "aaxis": {
            "gridcolor": "white",
            "linecolor": "white",
            "ticks": ""
           },
           "baxis": {
            "gridcolor": "white",
            "linecolor": "white",
            "ticks": ""
           },
           "bgcolor": "#E5ECF6",
           "caxis": {
            "gridcolor": "white",
            "linecolor": "white",
            "ticks": ""
           }
          },
          "title": {
           "x": 0.05
          },
          "xaxis": {
           "automargin": true,
           "gridcolor": "white",
           "linecolor": "white",
           "ticks": "",
           "title": {
            "standoff": 15
           },
           "zerolinecolor": "white",
           "zerolinewidth": 2
          },
          "yaxis": {
           "automargin": true,
           "gridcolor": "white",
           "linecolor": "white",
           "ticks": "",
           "title": {
            "standoff": 15
           },
           "zerolinecolor": "white",
           "zerolinewidth": 2
          }
         }
        },
        "title": {
         "text": "Biocapacity Trends Across Countries"
        },
        "width": 800,
        "xaxis": {
         "anchor": "y",
         "domain": [
          0,
          1
         ],
         "title": {
          "text": "Country"
         }
        },
        "yaxis": {
         "anchor": "x",
         "domain": [
          0,
          1
         ],
         "title": {
          "text": "Value"
         }
        }
       }
      }
     },
     "metadata": {},
     "output_type": "display_data"
    }
   ],
   "source": [
    "import plotly.express as px\n",
    "\n",
    "# Assuming 'data' is your DataFrame with various metrics across countries or regions\n",
    "\n",
    "# Example: Plot line chart for Total Biocapacity and Biocapacity Deficit or Reserve across different countries\n",
    "fig = px.line(data, x='Country', y=['Total Biocapacity', 'Biocapacity Deficit or Reserve'],\n",
    "              title='Biocapacity Trends Across Countries',\n",
    "              labels={'Country': 'Country', 'value': 'Value', 'variable': 'Metric'})\n",
    "\n",
    "# Customize layout\n",
    "fig.update_layout(\n",
    "    xaxis_title='Country',\n",
    "    yaxis_title='Value',\n",
    "    height=500,  # Adjust height of the plot\n",
    "    width=800,   # Adjust width of the plot\n",
    "    margin=dict(l=50, r=50, t=50, b=50),  # Adjust margins\n",
    ")\n",
    "\n",
    "# Show the plot\n",
    "fig.show()"
   ]
  },
  {
   "cell_type": "code",
   "execution_count": 22,
   "metadata": {},
   "outputs": [
    {
     "data": {
      "application/vnd.plotly.v1+json": {
       "config": {
        "plotlyServerURL": "https://plot.ly"
       },
       "data": [
        {
         "hovertemplate": "Metric=Total Ecological Footprint<br>Country=%{x}<br>Value=%{y}<extra></extra>",
         "legendgroup": "Total Ecological Footprint",
         "line": {
          "color": "#636efa",
          "dash": "solid"
         },
         "marker": {
          "symbol": "circle"
         },
         "mode": "lines",
         "name": "Total Ecological Footprint",
         "orientation": "v",
         "showlegend": true,
         "type": "scatter",
         "x": [
          "Afghanistan",
          "Albania",
          "Algeria",
          "Angola",
          "Antigua and Barbuda",
          "Argentina",
          "Armenia",
          "Aruba",
          "Australia",
          "Austria",
          "Azerbaijan",
          "Bahamas",
          "Bahrain",
          "Bangladesh",
          "Barbados",
          "Belarus",
          "Belgium",
          "Benin",
          "Bermuda",
          "Bhutan",
          "Bolivia",
          "Bosnia and Herzegovina",
          "Botswana",
          "Brazil",
          "British Virgin Islands",
          "Brunei Darussalam",
          "Bulgaria",
          "Burkina Faso",
          "Burundi",
          "Cabo Verde",
          "Cambodia",
          "Cameroon",
          "Canada",
          "Cayman Islands",
          "Central African Republic",
          "Chad",
          "Chile",
          "China",
          "Colombia",
          "Comoros",
          "Congo",
          "Congo, Democratic Republic of",
          "Costa Rica",
          "Côte d'Ivoire",
          "Croatia",
          "Cuba",
          "Cyprus",
          "Czech Republic",
          "Denmark",
          "Djibouti",
          "Dominica",
          "Dominican Republic",
          "Ecuador",
          "Egypt",
          "El Salvador",
          "Equatorial Guinea",
          "Eritrea",
          "Estonia",
          "Ethiopia",
          "Fiji",
          "Finland",
          "France",
          "French Guiana",
          "French Polynesia",
          "Gabon",
          "Gambia",
          "Georgia",
          "Germany",
          "Ghana",
          "Greece",
          "Grenada",
          "Guadeloupe",
          "Guatemala",
          "Guinea",
          "Guinea-Bissau",
          "Guyana",
          "Haiti",
          "Honduras",
          "Hungary",
          "India",
          "Indonesia",
          "Iran, Islamic Republic of",
          "Iraq",
          "Ireland",
          "Israel",
          "Italy",
          "Jamaica",
          "Japan",
          "Jordan",
          "Kazakhstan",
          "Kenya",
          "Korea, Democratic People's Republic of",
          "Korea, Republic of",
          "Kuwait",
          "Kyrgyzstan",
          "Lao People's Democratic Republic",
          "Latvia",
          "Lebanon",
          "Lesotho",
          "Liberia",
          "Libyan Arab Jamahiriya",
          "Lithuania",
          "Luxembourg",
          "Macedonia TFYR",
          "Madagascar",
          "Malawi",
          "Malaysia",
          "Mali",
          "Martinique",
          "Mauritania",
          "Mauritius",
          "Mexico",
          "Moldova",
          "Mongolia",
          "Montenegro",
          "Montserrat",
          "Morocco",
          "Mozambique",
          "Myanmar",
          "Namibia",
          "Nauru",
          "Nepal",
          "Netherlands",
          "New Caledonia",
          "New Zealand",
          "Nicaragua",
          "Niger",
          "Nigeria",
          "Norway",
          "Oman",
          "Pakistan",
          "Panama",
          "Papua New Guinea",
          "Paraguay",
          "Peru",
          "Philippines",
          "Poland",
          "Portugal",
          "Qatar",
          "Réunion",
          "Romania",
          "Russian Federation",
          "Rwanda",
          "Saint Kitts and Nevis",
          "Saint Lucia",
          "Saint Vincent and Grenadines",
          "Samoa",
          "Sao Tome and Principe",
          "Saudi Arabia",
          "Senegal",
          "Serbia",
          "Sierra Leone",
          "Singapore",
          "Slovakia",
          "Slovenia",
          "Solomon Islands",
          "Somalia",
          "South Africa",
          "Spain",
          "Sri Lanka",
          "Suriname",
          "Swaziland",
          "Sweden",
          "Switzerland",
          "Syrian Arab Republic",
          "Tajikistan",
          "Tanzania, United Republic of",
          "Thailand",
          "Timor-Leste",
          "Togo",
          "Tonga",
          "Trinidad and Tobago",
          "Tunisia",
          "Turkey",
          "Turkmenistan",
          "Uganda",
          "Ukraine",
          "United Kingdom",
          "United Arab Emirates",
          "United States of America",
          "Uruguay",
          "Uzbekistan",
          "Venezuela, Bolivarian Republic of",
          "Viet Nam",
          "Wallis and Futuna Islands",
          "Yemen",
          "Zambia",
          "Zimbabwe"
         ],
         "xaxis": "x",
         "y": [
          0.79,
          2.21,
          2.12,
          0.93,
          5.38,
          3.14,
          2.23,
          11.88,
          9.31,
          6.06,
          2.31,
          6.84,
          7.49,
          0.72,
          4.48,
          5.09,
          7.44,
          1.41,
          5.77,
          4.84,
          2.96,
          3.12,
          3.83,
          3.11,
          2.86,
          4.06,
          3.32,
          1.21,
          0.8,
          2.52,
          1.21,
          1.17,
          8.17,
          5.65,
          1.24,
          1.46,
          4.36,
          3.38,
          1.87,
          1.03,
          1.29,
          0.82,
          2.84,
          1.27,
          3.92,
          1.95,
          4.21,
          5.19,
          5.51,
          2.19,
          2.57,
          1.53,
          2.17,
          2.15,
          2.07,
          3.97,
          0.42,
          6.86,
          1.02,
          2.9,
          5.87,
          5.14,
          2.34,
          4.73,
          2.02,
          1.03,
          1.58,
          5.3,
          1.97,
          4.38,
          2.98,
          3.23,
          1.89,
          1.41,
          1.53,
          3.07,
          0.61,
          1.68,
          2.92,
          1.16,
          1.58,
          2.79,
          1.88,
          5.57,
          6.22,
          4.61,
          1.89,
          5.02,
          2.1,
          5.55,
          1.03,
          1.17,
          5.69,
          8.13,
          1.91,
          1.22,
          6.29,
          3.84,
          1.66,
          1.21,
          3.69,
          5.83,
          15.82,
          3.26,
          0.99,
          0.81,
          3.71,
          1.53,
          2.08,
          2.54,
          3.46,
          2.89,
          1.78,
          6.08,
          3.78,
          7.78,
          1.68,
          0.87,
          1.43,
          2.48,
          2.94,
          0.98,
          5.28,
          3.58,
          5.6,
          1.39,
          1.56,
          1.16,
          4.98,
          7.52,
          0.79,
          2.79,
          1.91,
          4.16,
          2.28,
          1.1,
          4.44,
          3.88,
          10.8,
          3.65,
          2.71,
          5.69,
          0.87,
          4.94,
          2.45,
          3.11,
          2.77,
          1.49,
          5.61,
          1.21,
          2.7,
          1.24,
          7.97,
          4.06,
          5.81,
          1.29,
          1.24,
          3.31,
          3.67,
          1.32,
          4.25,
          2.01,
          7.25,
          5.79,
          1.51,
          0.91,
          1.32,
          2.66,
          0.48,
          1.13,
          2.7,
          7.92,
          2.34,
          3.33,
          5.47,
          1.24,
          2.84,
          4.94,
          7.93,
          8.22,
          2.91,
          2.32,
          3.57,
          1.65,
          2.07,
          1.03,
          0.99,
          1.37
         ],
         "yaxis": "y"
        },
        {
         "hovertemplate": "Metric=Total Biocapacity<br>Country=%{x}<br>Value=%{y}<extra></extra>",
         "legendgroup": "Total Biocapacity",
         "line": {
          "color": "#EF553B",
          "dash": "solid"
         },
         "marker": {
          "symbol": "circle"
         },
         "mode": "lines",
         "name": "Total Biocapacity",
         "orientation": "v",
         "showlegend": true,
         "type": "scatter",
         "x": [
          "Afghanistan",
          "Albania",
          "Algeria",
          "Angola",
          "Antigua and Barbuda",
          "Argentina",
          "Armenia",
          "Aruba",
          "Australia",
          "Austria",
          "Azerbaijan",
          "Bahamas",
          "Bahrain",
          "Bangladesh",
          "Barbados",
          "Belarus",
          "Belgium",
          "Benin",
          "Bermuda",
          "Bhutan",
          "Bolivia",
          "Bosnia and Herzegovina",
          "Botswana",
          "Brazil",
          "British Virgin Islands",
          "Brunei Darussalam",
          "Bulgaria",
          "Burkina Faso",
          "Burundi",
          "Cabo Verde",
          "Cambodia",
          "Cameroon",
          "Canada",
          "Cayman Islands",
          "Central African Republic",
          "Chad",
          "Chile",
          "China",
          "Colombia",
          "Comoros",
          "Congo",
          "Congo, Democratic Republic of",
          "Costa Rica",
          "Côte d'Ivoire",
          "Croatia",
          "Cuba",
          "Cyprus",
          "Czech Republic",
          "Denmark",
          "Djibouti",
          "Dominica",
          "Dominican Republic",
          "Ecuador",
          "Egypt",
          "El Salvador",
          "Equatorial Guinea",
          "Eritrea",
          "Estonia",
          "Ethiopia",
          "Fiji",
          "Finland",
          "France",
          "French Guiana",
          "French Polynesia",
          "Gabon",
          "Gambia",
          "Georgia",
          "Germany",
          "Ghana",
          "Greece",
          "Grenada",
          "Guadeloupe",
          "Guatemala",
          "Guinea",
          "Guinea-Bissau",
          "Guyana",
          "Haiti",
          "Honduras",
          "Hungary",
          "India",
          "Indonesia",
          "Iran, Islamic Republic of",
          "Iraq",
          "Ireland",
          "Israel",
          "Italy",
          "Jamaica",
          "Japan",
          "Jordan",
          "Kazakhstan",
          "Kenya",
          "Korea, Democratic People's Republic of",
          "Korea, Republic of",
          "Kuwait",
          "Kyrgyzstan",
          "Lao People's Democratic Republic",
          "Latvia",
          "Lebanon",
          "Lesotho",
          "Liberia",
          "Libyan Arab Jamahiriya",
          "Lithuania",
          "Luxembourg",
          "Macedonia TFYR",
          "Madagascar",
          "Malawi",
          "Malaysia",
          "Mali",
          "Martinique",
          "Mauritania",
          "Mauritius",
          "Mexico",
          "Moldova",
          "Mongolia",
          "Montenegro",
          "Montserrat",
          "Morocco",
          "Mozambique",
          "Myanmar",
          "Namibia",
          "Nauru",
          "Nepal",
          "Netherlands",
          "New Caledonia",
          "New Zealand",
          "Nicaragua",
          "Niger",
          "Nigeria",
          "Norway",
          "Oman",
          "Pakistan",
          "Panama",
          "Papua New Guinea",
          "Paraguay",
          "Peru",
          "Philippines",
          "Poland",
          "Portugal",
          "Qatar",
          "Réunion",
          "Romania",
          "Russian Federation",
          "Rwanda",
          "Saint Kitts and Nevis",
          "Saint Lucia",
          "Saint Vincent and Grenadines",
          "Samoa",
          "Sao Tome and Principe",
          "Saudi Arabia",
          "Senegal",
          "Serbia",
          "Sierra Leone",
          "Singapore",
          "Slovakia",
          "Slovenia",
          "Solomon Islands",
          "Somalia",
          "South Africa",
          "Spain",
          "Sri Lanka",
          "Suriname",
          "Swaziland",
          "Sweden",
          "Switzerland",
          "Syrian Arab Republic",
          "Tajikistan",
          "Tanzania, United Republic of",
          "Thailand",
          "Timor-Leste",
          "Togo",
          "Tonga",
          "Trinidad and Tobago",
          "Tunisia",
          "Turkey",
          "Turkmenistan",
          "Uganda",
          "Ukraine",
          "United Kingdom",
          "United Arab Emirates",
          "United States of America",
          "Uruguay",
          "Uzbekistan",
          "Venezuela, Bolivarian Republic of",
          "Viet Nam",
          "Wallis and Futuna Islands",
          "Yemen",
          "Zambia",
          "Zimbabwe"
         ],
         "xaxis": "x",
         "y": [
          0.5,
          1.18,
          0.59,
          2.55,
          0.94,
          6.92,
          0.89,
          0.57,
          16.57,
          3.07,
          0.85,
          9.55,
          0.58,
          0.38,
          0.19,
          3.64,
          1.19,
          0.88,
          0.13,
          5.27,
          16.73,
          1.63,
          3.47,
          9.08,
          2.05,
          2.87,
          2.86,
          0.98,
          0.32,
          0.62,
          1.09,
          1.69,
          16.01,
          0.32,
          7.87,
          2.03,
          3.63,
          0.94,
          3.6,
          0.32,
          10.91,
          3.07,
          1.53,
          1.78,
          2.8,
          0.76,
          0.34,
          2.46,
          4.78,
          0.77,
          1.03,
          0.56,
          2.2,
          0.56,
          0.61,
          4.4,
          1.3,
          10.53,
          0.58,
          2.37,
          13.44,
          3.11,
          111.35,
          1.37,
          26.31,
          0.82,
          1.17,
          2.27,
          1.35,
          1.61,
          1.96,
          0.45,
          0.99,
          2.09,
          3.03,
          66.58,
          0.27,
          1.77,
          2.17,
          0.45,
          1.26,
          0.9,
          0.29,
          3.73,
          0.35,
          1.08,
          0.43,
          0.72,
          0.21,
          3.41,
          0.51,
          0.6,
          0.68,
          0.55,
          1.3,
          1.62,
          9.55,
          0.33,
          0.78,
          2.57,
          0.7,
          5.67,
          1.68,
          1.51,
          2.63,
          0.66,
          2.41,
          1.58,
          0.39,
          4.48,
          0.71,
          1.27,
          0.8,
          15.66,
          3.24,
          1.36,
          0.71,
          2.06,
          1.84,
          6.88,
          0.19,
          0.59,
          1.17,
          7.67,
          10.14,
          2.25,
          1.24,
          0.7,
          8.18,
          1.92,
          0.35,
          2.94,
          3.92,
          10.52,
          3.97,
          0.54,
          2.08,
          1.51,
          1.24,
          0.18,
          2.32,
          6.79,
          0.54,
          0.62,
          0.34,
          1.26,
          1.93,
          0.87,
          0.5,
          1.05,
          1.25,
          1.24,
          0.05,
          2.71,
          2.35,
          4.36,
          1.27,
          1.15,
          1.25,
          0.44,
          89.33,
          0.88,
          10.62,
          1.3,
          0.6,
          0.53,
          1.08,
          1.24,
          1.78,
          0.53,
          1.48,
          1.56,
          0.93,
          1.52,
          2.79,
          0.59,
          2.27,
          1.32,
          0.56,
          3.76,
          10.32,
          0.92,
          2.78,
          1,
          1.51,
          0.5,
          2.23,
          0.62
         ],
         "yaxis": "y"
        }
       ],
       "layout": {
        "height": 500,
        "legend": {
         "title": {
          "text": "Metric"
         },
         "tracegroupgap": 0
        },
        "margin": {
         "b": 50,
         "l": 50,
         "r": 50,
         "t": 50
        },
        "template": {
         "data": {
          "bar": [
           {
            "error_x": {
             "color": "#2a3f5f"
            },
            "error_y": {
             "color": "#2a3f5f"
            },
            "marker": {
             "line": {
              "color": "#E5ECF6",
              "width": 0.5
             },
             "pattern": {
              "fillmode": "overlay",
              "size": 10,
              "solidity": 0.2
             }
            },
            "type": "bar"
           }
          ],
          "barpolar": [
           {
            "marker": {
             "line": {
              "color": "#E5ECF6",
              "width": 0.5
             },
             "pattern": {
              "fillmode": "overlay",
              "size": 10,
              "solidity": 0.2
             }
            },
            "type": "barpolar"
           }
          ],
          "carpet": [
           {
            "aaxis": {
             "endlinecolor": "#2a3f5f",
             "gridcolor": "white",
             "linecolor": "white",
             "minorgridcolor": "white",
             "startlinecolor": "#2a3f5f"
            },
            "baxis": {
             "endlinecolor": "#2a3f5f",
             "gridcolor": "white",
             "linecolor": "white",
             "minorgridcolor": "white",
             "startlinecolor": "#2a3f5f"
            },
            "type": "carpet"
           }
          ],
          "choropleth": [
           {
            "colorbar": {
             "outlinewidth": 0,
             "ticks": ""
            },
            "type": "choropleth"
           }
          ],
          "contour": [
           {
            "colorbar": {
             "outlinewidth": 0,
             "ticks": ""
            },
            "colorscale": [
             [
              0,
              "#0d0887"
             ],
             [
              0.1111111111111111,
              "#46039f"
             ],
             [
              0.2222222222222222,
              "#7201a8"
             ],
             [
              0.3333333333333333,
              "#9c179e"
             ],
             [
              0.4444444444444444,
              "#bd3786"
             ],
             [
              0.5555555555555556,
              "#d8576b"
             ],
             [
              0.6666666666666666,
              "#ed7953"
             ],
             [
              0.7777777777777778,
              "#fb9f3a"
             ],
             [
              0.8888888888888888,
              "#fdca26"
             ],
             [
              1,
              "#f0f921"
             ]
            ],
            "type": "contour"
           }
          ],
          "contourcarpet": [
           {
            "colorbar": {
             "outlinewidth": 0,
             "ticks": ""
            },
            "type": "contourcarpet"
           }
          ],
          "heatmap": [
           {
            "colorbar": {
             "outlinewidth": 0,
             "ticks": ""
            },
            "colorscale": [
             [
              0,
              "#0d0887"
             ],
             [
              0.1111111111111111,
              "#46039f"
             ],
             [
              0.2222222222222222,
              "#7201a8"
             ],
             [
              0.3333333333333333,
              "#9c179e"
             ],
             [
              0.4444444444444444,
              "#bd3786"
             ],
             [
              0.5555555555555556,
              "#d8576b"
             ],
             [
              0.6666666666666666,
              "#ed7953"
             ],
             [
              0.7777777777777778,
              "#fb9f3a"
             ],
             [
              0.8888888888888888,
              "#fdca26"
             ],
             [
              1,
              "#f0f921"
             ]
            ],
            "type": "heatmap"
           }
          ],
          "heatmapgl": [
           {
            "colorbar": {
             "outlinewidth": 0,
             "ticks": ""
            },
            "colorscale": [
             [
              0,
              "#0d0887"
             ],
             [
              0.1111111111111111,
              "#46039f"
             ],
             [
              0.2222222222222222,
              "#7201a8"
             ],
             [
              0.3333333333333333,
              "#9c179e"
             ],
             [
              0.4444444444444444,
              "#bd3786"
             ],
             [
              0.5555555555555556,
              "#d8576b"
             ],
             [
              0.6666666666666666,
              "#ed7953"
             ],
             [
              0.7777777777777778,
              "#fb9f3a"
             ],
             [
              0.8888888888888888,
              "#fdca26"
             ],
             [
              1,
              "#f0f921"
             ]
            ],
            "type": "heatmapgl"
           }
          ],
          "histogram": [
           {
            "marker": {
             "pattern": {
              "fillmode": "overlay",
              "size": 10,
              "solidity": 0.2
             }
            },
            "type": "histogram"
           }
          ],
          "histogram2d": [
           {
            "colorbar": {
             "outlinewidth": 0,
             "ticks": ""
            },
            "colorscale": [
             [
              0,
              "#0d0887"
             ],
             [
              0.1111111111111111,
              "#46039f"
             ],
             [
              0.2222222222222222,
              "#7201a8"
             ],
             [
              0.3333333333333333,
              "#9c179e"
             ],
             [
              0.4444444444444444,
              "#bd3786"
             ],
             [
              0.5555555555555556,
              "#d8576b"
             ],
             [
              0.6666666666666666,
              "#ed7953"
             ],
             [
              0.7777777777777778,
              "#fb9f3a"
             ],
             [
              0.8888888888888888,
              "#fdca26"
             ],
             [
              1,
              "#f0f921"
             ]
            ],
            "type": "histogram2d"
           }
          ],
          "histogram2dcontour": [
           {
            "colorbar": {
             "outlinewidth": 0,
             "ticks": ""
            },
            "colorscale": [
             [
              0,
              "#0d0887"
             ],
             [
              0.1111111111111111,
              "#46039f"
             ],
             [
              0.2222222222222222,
              "#7201a8"
             ],
             [
              0.3333333333333333,
              "#9c179e"
             ],
             [
              0.4444444444444444,
              "#bd3786"
             ],
             [
              0.5555555555555556,
              "#d8576b"
             ],
             [
              0.6666666666666666,
              "#ed7953"
             ],
             [
              0.7777777777777778,
              "#fb9f3a"
             ],
             [
              0.8888888888888888,
              "#fdca26"
             ],
             [
              1,
              "#f0f921"
             ]
            ],
            "type": "histogram2dcontour"
           }
          ],
          "mesh3d": [
           {
            "colorbar": {
             "outlinewidth": 0,
             "ticks": ""
            },
            "type": "mesh3d"
           }
          ],
          "parcoords": [
           {
            "line": {
             "colorbar": {
              "outlinewidth": 0,
              "ticks": ""
             }
            },
            "type": "parcoords"
           }
          ],
          "pie": [
           {
            "automargin": true,
            "type": "pie"
           }
          ],
          "scatter": [
           {
            "fillpattern": {
             "fillmode": "overlay",
             "size": 10,
             "solidity": 0.2
            },
            "type": "scatter"
           }
          ],
          "scatter3d": [
           {
            "line": {
             "colorbar": {
              "outlinewidth": 0,
              "ticks": ""
             }
            },
            "marker": {
             "colorbar": {
              "outlinewidth": 0,
              "ticks": ""
             }
            },
            "type": "scatter3d"
           }
          ],
          "scattercarpet": [
           {
            "marker": {
             "colorbar": {
              "outlinewidth": 0,
              "ticks": ""
             }
            },
            "type": "scattercarpet"
           }
          ],
          "scattergeo": [
           {
            "marker": {
             "colorbar": {
              "outlinewidth": 0,
              "ticks": ""
             }
            },
            "type": "scattergeo"
           }
          ],
          "scattergl": [
           {
            "marker": {
             "colorbar": {
              "outlinewidth": 0,
              "ticks": ""
             }
            },
            "type": "scattergl"
           }
          ],
          "scattermapbox": [
           {
            "marker": {
             "colorbar": {
              "outlinewidth": 0,
              "ticks": ""
             }
            },
            "type": "scattermapbox"
           }
          ],
          "scatterpolar": [
           {
            "marker": {
             "colorbar": {
              "outlinewidth": 0,
              "ticks": ""
             }
            },
            "type": "scatterpolar"
           }
          ],
          "scatterpolargl": [
           {
            "marker": {
             "colorbar": {
              "outlinewidth": 0,
              "ticks": ""
             }
            },
            "type": "scatterpolargl"
           }
          ],
          "scatterternary": [
           {
            "marker": {
             "colorbar": {
              "outlinewidth": 0,
              "ticks": ""
             }
            },
            "type": "scatterternary"
           }
          ],
          "surface": [
           {
            "colorbar": {
             "outlinewidth": 0,
             "ticks": ""
            },
            "colorscale": [
             [
              0,
              "#0d0887"
             ],
             [
              0.1111111111111111,
              "#46039f"
             ],
             [
              0.2222222222222222,
              "#7201a8"
             ],
             [
              0.3333333333333333,
              "#9c179e"
             ],
             [
              0.4444444444444444,
              "#bd3786"
             ],
             [
              0.5555555555555556,
              "#d8576b"
             ],
             [
              0.6666666666666666,
              "#ed7953"
             ],
             [
              0.7777777777777778,
              "#fb9f3a"
             ],
             [
              0.8888888888888888,
              "#fdca26"
             ],
             [
              1,
              "#f0f921"
             ]
            ],
            "type": "surface"
           }
          ],
          "table": [
           {
            "cells": {
             "fill": {
              "color": "#EBF0F8"
             },
             "line": {
              "color": "white"
             }
            },
            "header": {
             "fill": {
              "color": "#C8D4E3"
             },
             "line": {
              "color": "white"
             }
            },
            "type": "table"
           }
          ]
         },
         "layout": {
          "annotationdefaults": {
           "arrowcolor": "#2a3f5f",
           "arrowhead": 0,
           "arrowwidth": 1
          },
          "autotypenumbers": "strict",
          "coloraxis": {
           "colorbar": {
            "outlinewidth": 0,
            "ticks": ""
           }
          },
          "colorscale": {
           "diverging": [
            [
             0,
             "#8e0152"
            ],
            [
             0.1,
             "#c51b7d"
            ],
            [
             0.2,
             "#de77ae"
            ],
            [
             0.3,
             "#f1b6da"
            ],
            [
             0.4,
             "#fde0ef"
            ],
            [
             0.5,
             "#f7f7f7"
            ],
            [
             0.6,
             "#e6f5d0"
            ],
            [
             0.7,
             "#b8e186"
            ],
            [
             0.8,
             "#7fbc41"
            ],
            [
             0.9,
             "#4d9221"
            ],
            [
             1,
             "#276419"
            ]
           ],
           "sequential": [
            [
             0,
             "#0d0887"
            ],
            [
             0.1111111111111111,
             "#46039f"
            ],
            [
             0.2222222222222222,
             "#7201a8"
            ],
            [
             0.3333333333333333,
             "#9c179e"
            ],
            [
             0.4444444444444444,
             "#bd3786"
            ],
            [
             0.5555555555555556,
             "#d8576b"
            ],
            [
             0.6666666666666666,
             "#ed7953"
            ],
            [
             0.7777777777777778,
             "#fb9f3a"
            ],
            [
             0.8888888888888888,
             "#fdca26"
            ],
            [
             1,
             "#f0f921"
            ]
           ],
           "sequentialminus": [
            [
             0,
             "#0d0887"
            ],
            [
             0.1111111111111111,
             "#46039f"
            ],
            [
             0.2222222222222222,
             "#7201a8"
            ],
            [
             0.3333333333333333,
             "#9c179e"
            ],
            [
             0.4444444444444444,
             "#bd3786"
            ],
            [
             0.5555555555555556,
             "#d8576b"
            ],
            [
             0.6666666666666666,
             "#ed7953"
            ],
            [
             0.7777777777777778,
             "#fb9f3a"
            ],
            [
             0.8888888888888888,
             "#fdca26"
            ],
            [
             1,
             "#f0f921"
            ]
           ]
          },
          "colorway": [
           "#636efa",
           "#EF553B",
           "#00cc96",
           "#ab63fa",
           "#FFA15A",
           "#19d3f3",
           "#FF6692",
           "#B6E880",
           "#FF97FF",
           "#FECB52"
          ],
          "font": {
           "color": "#2a3f5f"
          },
          "geo": {
           "bgcolor": "white",
           "lakecolor": "white",
           "landcolor": "#E5ECF6",
           "showlakes": true,
           "showland": true,
           "subunitcolor": "white"
          },
          "hoverlabel": {
           "align": "left"
          },
          "hovermode": "closest",
          "mapbox": {
           "style": "light"
          },
          "paper_bgcolor": "white",
          "plot_bgcolor": "#E5ECF6",
          "polar": {
           "angularaxis": {
            "gridcolor": "white",
            "linecolor": "white",
            "ticks": ""
           },
           "bgcolor": "#E5ECF6",
           "radialaxis": {
            "gridcolor": "white",
            "linecolor": "white",
            "ticks": ""
           }
          },
          "scene": {
           "xaxis": {
            "backgroundcolor": "#E5ECF6",
            "gridcolor": "white",
            "gridwidth": 2,
            "linecolor": "white",
            "showbackground": true,
            "ticks": "",
            "zerolinecolor": "white"
           },
           "yaxis": {
            "backgroundcolor": "#E5ECF6",
            "gridcolor": "white",
            "gridwidth": 2,
            "linecolor": "white",
            "showbackground": true,
            "ticks": "",
            "zerolinecolor": "white"
           },
           "zaxis": {
            "backgroundcolor": "#E5ECF6",
            "gridcolor": "white",
            "gridwidth": 2,
            "linecolor": "white",
            "showbackground": true,
            "ticks": "",
            "zerolinecolor": "white"
           }
          },
          "shapedefaults": {
           "line": {
            "color": "#2a3f5f"
           }
          },
          "ternary": {
           "aaxis": {
            "gridcolor": "white",
            "linecolor": "white",
            "ticks": ""
           },
           "baxis": {
            "gridcolor": "white",
            "linecolor": "white",
            "ticks": ""
           },
           "bgcolor": "#E5ECF6",
           "caxis": {
            "gridcolor": "white",
            "linecolor": "white",
            "ticks": ""
           }
          },
          "title": {
           "x": 0.05
          },
          "xaxis": {
           "automargin": true,
           "gridcolor": "white",
           "linecolor": "white",
           "ticks": "",
           "title": {
            "standoff": 15
           },
           "zerolinecolor": "white",
           "zerolinewidth": 2
          },
          "yaxis": {
           "automargin": true,
           "gridcolor": "white",
           "linecolor": "white",
           "ticks": "",
           "title": {
            "standoff": 15
           },
           "zerolinecolor": "white",
           "zerolinewidth": 2
          }
         }
        },
        "title": {
         "text": "Ecological Footprint vs Biocapacity Across Countries"
        },
        "width": 800,
        "xaxis": {
         "anchor": "y",
         "domain": [
          0,
          1
         ],
         "title": {
          "text": "Country"
         }
        },
        "yaxis": {
         "anchor": "x",
         "domain": [
          0,
          1
         ],
         "title": {
          "text": "Value"
         }
        }
       }
      }
     },
     "metadata": {},
     "output_type": "display_data"
    }
   ],
   "source": [
    "import plotly.express as px\n",
    "\n",
    "# Assuming 'data' is your DataFrame with ecological footprint and biocapacity metrics per country\n",
    "\n",
    "# Example: Plot line chart for Ecological Footprint vs Biocapacity across different countries\n",
    "fig = px.line(data, x='Country', y=['Total Ecological Footprint', 'Total Biocapacity'],\n",
    "              title='Ecological Footprint vs Biocapacity Across Countries',\n",
    "              labels={'Country': 'Country', 'value': 'Value', 'variable': 'Metric'})\n",
    "\n",
    "# Customize layout\n",
    "fig.update_layout(\n",
    "    xaxis_title='Country',\n",
    "    yaxis_title='Value',\n",
    "    height=500,  # Adjust height of the plot\n",
    "    width=800,   # Adjust width of the plot\n",
    "    margin=dict(l=50, r=50, t=50, b=50),  # Adjust margins\n",
    ")\n",
    "\n",
    "# Show the plot\n",
    "fig.show()\n"
   ]
  },
  {
   "cell_type": "markdown",
   "metadata": {},
   "source": [
    "Feature Engineering\n",
    "\n",
    "a) Target encoding:\n",
    "\n",
    "Calculating a new column for ecological deficit or reserve to help predict what country would be in deficit or reserve based on historical data"
   ]
  },
  {
   "cell_type": "code",
   "execution_count": 23,
   "metadata": {},
   "outputs": [],
   "source": [
    "#create new column ecological deficit or reserve\n",
    "def diff(a,b):\n",
    "    return b-a\n",
    "\n",
    "data['Ecological R/D'] = data.apply(\n",
    "    lambda x: diff(x['Total Ecological Footprint'], x['Total Biocapacity']), axis=1\n",
    ")"
   ]
  },
  {
   "cell_type": "code",
   "execution_count": 24,
   "metadata": {},
   "outputs": [
    {
     "data": {
      "text/plain": [
       "Index(['Country', 'Region', 'Population (millions)', 'HDI', 'GDP per Capita',\n",
       "       'Cropland Footprint', 'Grazing Footprint', 'Forest Footprint',\n",
       "       'Carbon Footprint', 'Fish Footprint', 'Total Ecological Footprint',\n",
       "       'Cropland', 'Grazing Land', 'Forest Land', 'Fishing Water',\n",
       "       'Urban Land', 'Total Biocapacity', 'Biocapacity Deficit or Reserve',\n",
       "       'Earths Required', 'Countries Required', 'Data Quality',\n",
       "       'Ecological R/D'],\n",
       "      dtype='object')"
      ]
     },
     "execution_count": 24,
     "metadata": {},
     "output_type": "execute_result"
    }
   ],
   "source": [
    "data.columns"
   ]
  },
  {
   "cell_type": "code",
   "execution_count": 25,
   "metadata": {},
   "outputs": [
    {
     "data": {
      "text/html": [
       "<div>\n",
       "<style scoped>\n",
       "    .dataframe tbody tr th:only-of-type {\n",
       "        vertical-align: middle;\n",
       "    }\n",
       "\n",
       "    .dataframe tbody tr th {\n",
       "        vertical-align: top;\n",
       "    }\n",
       "\n",
       "    .dataframe thead th {\n",
       "        text-align: right;\n",
       "    }\n",
       "</style>\n",
       "<table border=\"1\" class=\"dataframe\">\n",
       "  <thead>\n",
       "    <tr style=\"text-align: right;\">\n",
       "      <th></th>\n",
       "      <th>Total Ecological Footprint</th>\n",
       "      <th>Total Biocapacity</th>\n",
       "      <th>Biocapacity Deficit or Reserve</th>\n",
       "      <th>Ecological R/D</th>\n",
       "    </tr>\n",
       "  </thead>\n",
       "  <tbody>\n",
       "    <tr>\n",
       "      <th>0</th>\n",
       "      <td>0.79</td>\n",
       "      <td>0.50</td>\n",
       "      <td>-0.30</td>\n",
       "      <td>-0.29</td>\n",
       "    </tr>\n",
       "    <tr>\n",
       "      <th>1</th>\n",
       "      <td>2.21</td>\n",
       "      <td>1.18</td>\n",
       "      <td>-1.03</td>\n",
       "      <td>-1.03</td>\n",
       "    </tr>\n",
       "    <tr>\n",
       "      <th>2</th>\n",
       "      <td>2.12</td>\n",
       "      <td>0.59</td>\n",
       "      <td>-1.53</td>\n",
       "      <td>-1.53</td>\n",
       "    </tr>\n",
       "    <tr>\n",
       "      <th>3</th>\n",
       "      <td>0.93</td>\n",
       "      <td>2.55</td>\n",
       "      <td>1.61</td>\n",
       "      <td>1.62</td>\n",
       "    </tr>\n",
       "    <tr>\n",
       "      <th>4</th>\n",
       "      <td>5.38</td>\n",
       "      <td>0.94</td>\n",
       "      <td>-4.44</td>\n",
       "      <td>-4.44</td>\n",
       "    </tr>\n",
       "    <tr>\n",
       "      <th>5</th>\n",
       "      <td>3.14</td>\n",
       "      <td>6.92</td>\n",
       "      <td>3.78</td>\n",
       "      <td>3.78</td>\n",
       "    </tr>\n",
       "    <tr>\n",
       "      <th>6</th>\n",
       "      <td>2.23</td>\n",
       "      <td>0.89</td>\n",
       "      <td>-1.35</td>\n",
       "      <td>-1.34</td>\n",
       "    </tr>\n",
       "    <tr>\n",
       "      <th>7</th>\n",
       "      <td>11.88</td>\n",
       "      <td>0.57</td>\n",
       "      <td>-11.31</td>\n",
       "      <td>-11.31</td>\n",
       "    </tr>\n",
       "    <tr>\n",
       "      <th>8</th>\n",
       "      <td>9.31</td>\n",
       "      <td>16.57</td>\n",
       "      <td>7.26</td>\n",
       "      <td>7.26</td>\n",
       "    </tr>\n",
       "    <tr>\n",
       "      <th>9</th>\n",
       "      <td>6.06</td>\n",
       "      <td>3.07</td>\n",
       "      <td>-3.00</td>\n",
       "      <td>-2.99</td>\n",
       "    </tr>\n",
       "  </tbody>\n",
       "</table>\n",
       "</div>"
      ],
      "text/plain": [
       "   Total Ecological Footprint  Total Biocapacity  \\\n",
       "0                        0.79               0.50   \n",
       "1                        2.21               1.18   \n",
       "2                        2.12               0.59   \n",
       "3                        0.93               2.55   \n",
       "4                        5.38               0.94   \n",
       "5                        3.14               6.92   \n",
       "6                        2.23               0.89   \n",
       "7                       11.88               0.57   \n",
       "8                        9.31              16.57   \n",
       "9                        6.06               3.07   \n",
       "\n",
       "   Biocapacity Deficit or Reserve  Ecological R/D  \n",
       "0                           -0.30           -0.29  \n",
       "1                           -1.03           -1.03  \n",
       "2                           -1.53           -1.53  \n",
       "3                            1.61            1.62  \n",
       "4                           -4.44           -4.44  \n",
       "5                            3.78            3.78  \n",
       "6                           -1.35           -1.34  \n",
       "7                          -11.31          -11.31  \n",
       "8                            7.26            7.26  \n",
       "9                           -3.00           -2.99  "
      ]
     },
     "execution_count": 25,
     "metadata": {},
     "output_type": "execute_result"
    }
   ],
   "source": [
    "data[['Total Ecological Footprint', 'Total Biocapacity', 'Biocapacity Deficit or Reserve', 'Ecological R/D']].head(10)"
   ]
  },
  {
   "cell_type": "code",
   "execution_count": 26,
   "metadata": {},
   "outputs": [],
   "source": [
    "data = data.drop('Biocapacity Deficit or Reserve', axis =1)\n"
   ]
  },
  {
   "cell_type": "code",
   "execution_count": 27,
   "metadata": {},
   "outputs": [
    {
     "data": {
      "text/plain": [
       "Index(['Country', 'Region', 'Population (millions)', 'HDI', 'GDP per Capita',\n",
       "       'Cropland Footprint', 'Grazing Footprint', 'Forest Footprint',\n",
       "       'Carbon Footprint', 'Fish Footprint', 'Total Ecological Footprint',\n",
       "       'Cropland', 'Grazing Land', 'Forest Land', 'Fishing Water',\n",
       "       'Urban Land', 'Total Biocapacity', 'Earths Required',\n",
       "       'Countries Required', 'Data Quality', 'Ecological R/D'],\n",
       "      dtype='object')"
      ]
     },
     "execution_count": 27,
     "metadata": {},
     "output_type": "execute_result"
    }
   ],
   "source": [
    "data.columns"
   ]
  },
  {
   "cell_type": "code",
   "execution_count": 28,
   "metadata": {},
   "outputs": [
    {
     "data": {
      "text/html": [
       "<div>\n",
       "<style scoped>\n",
       "    .dataframe tbody tr th:only-of-type {\n",
       "        vertical-align: middle;\n",
       "    }\n",
       "\n",
       "    .dataframe tbody tr th {\n",
       "        vertical-align: top;\n",
       "    }\n",
       "\n",
       "    .dataframe thead th {\n",
       "        text-align: right;\n",
       "    }\n",
       "</style>\n",
       "<table border=\"1\" class=\"dataframe\">\n",
       "  <thead>\n",
       "    <tr style=\"text-align: right;\">\n",
       "      <th></th>\n",
       "      <th>Population (millions)</th>\n",
       "      <th>HDI</th>\n",
       "      <th>GDP per Capita</th>\n",
       "      <th>Cropland Footprint</th>\n",
       "      <th>Grazing Footprint</th>\n",
       "      <th>Forest Footprint</th>\n",
       "      <th>Carbon Footprint</th>\n",
       "      <th>Fish Footprint</th>\n",
       "      <th>Total Ecological Footprint</th>\n",
       "      <th>Cropland</th>\n",
       "      <th>Grazing Land</th>\n",
       "      <th>Forest Land</th>\n",
       "      <th>Fishing Water</th>\n",
       "      <th>Urban Land</th>\n",
       "      <th>Total Biocapacity</th>\n",
       "      <th>Earths Required</th>\n",
       "      <th>Countries Required</th>\n",
       "      <th>Ecological R/D</th>\n",
       "    </tr>\n",
       "  </thead>\n",
       "  <tbody>\n",
       "    <tr>\n",
       "      <th>count</th>\n",
       "      <td>188.000000</td>\n",
       "      <td>172.00000</td>\n",
       "      <td>173.000000</td>\n",
       "      <td>173.000000</td>\n",
       "      <td>173.000000</td>\n",
       "      <td>173.000000</td>\n",
       "      <td>173.000000</td>\n",
       "      <td>173.000000</td>\n",
       "      <td>188.000000</td>\n",
       "      <td>173.000000</td>\n",
       "      <td>173.000000</td>\n",
       "      <td>173.000000</td>\n",
       "      <td>173.000000</td>\n",
       "      <td>173.000000</td>\n",
       "      <td>188.000000</td>\n",
       "      <td>188.000000</td>\n",
       "      <td>188.000000</td>\n",
       "      <td>188.000000</td>\n",
       "    </tr>\n",
       "    <tr>\n",
       "      <th>mean</th>\n",
       "      <td>37.342372</td>\n",
       "      <td>0.68636</td>\n",
       "      <td>14238.324913</td>\n",
       "      <td>0.578208</td>\n",
       "      <td>0.263179</td>\n",
       "      <td>0.373815</td>\n",
       "      <td>1.804913</td>\n",
       "      <td>0.122486</td>\n",
       "      <td>3.317606</td>\n",
       "      <td>0.531850</td>\n",
       "      <td>0.456590</td>\n",
       "      <td>2.459191</td>\n",
       "      <td>0.595145</td>\n",
       "      <td>0.067110</td>\n",
       "      <td>4.019681</td>\n",
       "      <td>1.915745</td>\n",
       "      <td>4.037397</td>\n",
       "      <td>0.702074</td>\n",
       "    </tr>\n",
       "    <tr>\n",
       "      <th>std</th>\n",
       "      <td>140.756836</td>\n",
       "      <td>0.15604</td>\n",
       "      <td>20927.249796</td>\n",
       "      <td>0.355691</td>\n",
       "      <td>0.352067</td>\n",
       "      <td>0.359349</td>\n",
       "      <td>1.898283</td>\n",
       "      <td>0.158427</td>\n",
       "      <td>2.370931</td>\n",
       "      <td>0.672567</td>\n",
       "      <td>1.014738</td>\n",
       "      <td>10.593956</td>\n",
       "      <td>1.661872</td>\n",
       "      <td>0.054844</td>\n",
       "      <td>11.689075</td>\n",
       "      <td>1.369624</td>\n",
       "      <td>12.444616</td>\n",
       "      <td>11.771380</td>\n",
       "    </tr>\n",
       "    <tr>\n",
       "      <th>min</th>\n",
       "      <td>0.000000</td>\n",
       "      <td>0.34000</td>\n",
       "      <td>276.690000</td>\n",
       "      <td>0.070000</td>\n",
       "      <td>0.000000</td>\n",
       "      <td>0.010000</td>\n",
       "      <td>0.000000</td>\n",
       "      <td>0.000000</td>\n",
       "      <td>0.420000</td>\n",
       "      <td>0.000000</td>\n",
       "      <td>0.000000</td>\n",
       "      <td>0.000000</td>\n",
       "      <td>0.000000</td>\n",
       "      <td>0.000000</td>\n",
       "      <td>0.050000</td>\n",
       "      <td>0.240000</td>\n",
       "      <td>0.020000</td>\n",
       "      <td>-14.140000</td>\n",
       "    </tr>\n",
       "    <tr>\n",
       "      <th>25%</th>\n",
       "      <td>2.037500</td>\n",
       "      <td>0.55750</td>\n",
       "      <td>1524.390000</td>\n",
       "      <td>0.350000</td>\n",
       "      <td>0.080000</td>\n",
       "      <td>0.170000</td>\n",
       "      <td>0.420000</td>\n",
       "      <td>0.020000</td>\n",
       "      <td>1.482500</td>\n",
       "      <td>0.180000</td>\n",
       "      <td>0.030000</td>\n",
       "      <td>0.060000</td>\n",
       "      <td>0.030000</td>\n",
       "      <td>0.030000</td>\n",
       "      <td>0.675000</td>\n",
       "      <td>0.855000</td>\n",
       "      <td>0.942500</td>\n",
       "      <td>-1.932500</td>\n",
       "    </tr>\n",
       "    <tr>\n",
       "      <th>50%</th>\n",
       "      <td>7.970000</td>\n",
       "      <td>0.72000</td>\n",
       "      <td>5430.570000</td>\n",
       "      <td>0.520000</td>\n",
       "      <td>0.180000</td>\n",
       "      <td>0.260000</td>\n",
       "      <td>1.140000</td>\n",
       "      <td>0.070000</td>\n",
       "      <td>2.740000</td>\n",
       "      <td>0.350000</td>\n",
       "      <td>0.120000</td>\n",
       "      <td>0.340000</td>\n",
       "      <td>0.110000</td>\n",
       "      <td>0.050000</td>\n",
       "      <td>1.310000</td>\n",
       "      <td>1.580000</td>\n",
       "      <td>1.705000</td>\n",
       "      <td>-0.730000</td>\n",
       "    </tr>\n",
       "    <tr>\n",
       "      <th>75%</th>\n",
       "      <td>24.870000</td>\n",
       "      <td>0.80250</td>\n",
       "      <td>14522.800000</td>\n",
       "      <td>0.700000</td>\n",
       "      <td>0.320000</td>\n",
       "      <td>0.460000</td>\n",
       "      <td>2.600000</td>\n",
       "      <td>0.150000</td>\n",
       "      <td>4.640000</td>\n",
       "      <td>0.590000</td>\n",
       "      <td>0.340000</td>\n",
       "      <td>1.170000</td>\n",
       "      <td>0.370000</td>\n",
       "      <td>0.090000</td>\n",
       "      <td>2.815000</td>\n",
       "      <td>2.677500</td>\n",
       "      <td>2.847500</td>\n",
       "      <td>0.212500</td>\n",
       "    </tr>\n",
       "    <tr>\n",
       "      <th>max</th>\n",
       "      <td>1408.040000</td>\n",
       "      <td>0.94000</td>\n",
       "      <td>114665.000000</td>\n",
       "      <td>2.680000</td>\n",
       "      <td>3.470000</td>\n",
       "      <td>3.030000</td>\n",
       "      <td>12.650000</td>\n",
       "      <td>0.820000</td>\n",
       "      <td>15.820000</td>\n",
       "      <td>5.420000</td>\n",
       "      <td>8.230000</td>\n",
       "      <td>95.160000</td>\n",
       "      <td>16.070000</td>\n",
       "      <td>0.270000</td>\n",
       "      <td>111.350000</td>\n",
       "      <td>9.140000</td>\n",
       "      <td>159.470000</td>\n",
       "      <td>109.010000</td>\n",
       "    </tr>\n",
       "  </tbody>\n",
       "</table>\n",
       "</div>"
      ],
      "text/plain": [
       "       Population (millions)        HDI  GDP per Capita  Cropland Footprint  \\\n",
       "count             188.000000  172.00000      173.000000          173.000000   \n",
       "mean               37.342372    0.68636    14238.324913            0.578208   \n",
       "std               140.756836    0.15604    20927.249796            0.355691   \n",
       "min                 0.000000    0.34000      276.690000            0.070000   \n",
       "25%                 2.037500    0.55750     1524.390000            0.350000   \n",
       "50%                 7.970000    0.72000     5430.570000            0.520000   \n",
       "75%                24.870000    0.80250    14522.800000            0.700000   \n",
       "max              1408.040000    0.94000   114665.000000            2.680000   \n",
       "\n",
       "       Grazing Footprint  Forest Footprint  Carbon Footprint  Fish Footprint  \\\n",
       "count         173.000000        173.000000        173.000000      173.000000   \n",
       "mean            0.263179          0.373815          1.804913        0.122486   \n",
       "std             0.352067          0.359349          1.898283        0.158427   \n",
       "min             0.000000          0.010000          0.000000        0.000000   \n",
       "25%             0.080000          0.170000          0.420000        0.020000   \n",
       "50%             0.180000          0.260000          1.140000        0.070000   \n",
       "75%             0.320000          0.460000          2.600000        0.150000   \n",
       "max             3.470000          3.030000         12.650000        0.820000   \n",
       "\n",
       "       Total Ecological Footprint    Cropland  Grazing Land  Forest Land  \\\n",
       "count                  188.000000  173.000000    173.000000   173.000000   \n",
       "mean                     3.317606    0.531850      0.456590     2.459191   \n",
       "std                      2.370931    0.672567      1.014738    10.593956   \n",
       "min                      0.420000    0.000000      0.000000     0.000000   \n",
       "25%                      1.482500    0.180000      0.030000     0.060000   \n",
       "50%                      2.740000    0.350000      0.120000     0.340000   \n",
       "75%                      4.640000    0.590000      0.340000     1.170000   \n",
       "max                     15.820000    5.420000      8.230000    95.160000   \n",
       "\n",
       "       Fishing Water  Urban Land  Total Biocapacity  Earths Required  \\\n",
       "count     173.000000  173.000000         188.000000       188.000000   \n",
       "mean        0.595145    0.067110           4.019681         1.915745   \n",
       "std         1.661872    0.054844          11.689075         1.369624   \n",
       "min         0.000000    0.000000           0.050000         0.240000   \n",
       "25%         0.030000    0.030000           0.675000         0.855000   \n",
       "50%         0.110000    0.050000           1.310000         1.580000   \n",
       "75%         0.370000    0.090000           2.815000         2.677500   \n",
       "max        16.070000    0.270000         111.350000         9.140000   \n",
       "\n",
       "       Countries Required  Ecological R/D  \n",
       "count          188.000000      188.000000  \n",
       "mean             4.037397        0.702074  \n",
       "std             12.444616       11.771380  \n",
       "min              0.020000      -14.140000  \n",
       "25%              0.942500       -1.932500  \n",
       "50%              1.705000       -0.730000  \n",
       "75%              2.847500        0.212500  \n",
       "max            159.470000      109.010000  "
      ]
     },
     "execution_count": 28,
     "metadata": {},
     "output_type": "execute_result"
    }
   ],
   "source": [
    "data.describe()"
   ]
  },
  {
   "cell_type": "markdown",
   "metadata": {},
   "source": [
    "Feature scaling "
   ]
  },
  {
   "cell_type": "markdown",
   "metadata": {},
   "source": [
    "1) Standardiation"
   ]
  },
  {
   "cell_type": "code",
   "execution_count": 29,
   "metadata": {},
   "outputs": [
    {
     "data": {
      "text/html": [
       "<div>\n",
       "<style scoped>\n",
       "    .dataframe tbody tr th:only-of-type {\n",
       "        vertical-align: middle;\n",
       "    }\n",
       "\n",
       "    .dataframe tbody tr th {\n",
       "        vertical-align: top;\n",
       "    }\n",
       "\n",
       "    .dataframe thead th {\n",
       "        text-align: right;\n",
       "    }\n",
       "</style>\n",
       "<table border=\"1\" class=\"dataframe\">\n",
       "  <thead>\n",
       "    <tr style=\"text-align: right;\">\n",
       "      <th></th>\n",
       "      <th>Population (millions)</th>\n",
       "      <th>HDI</th>\n",
       "      <th>GDP per Capita</th>\n",
       "      <th>Cropland Footprint</th>\n",
       "      <th>Grazing Footprint</th>\n",
       "      <th>Forest Footprint</th>\n",
       "      <th>Carbon Footprint</th>\n",
       "      <th>Fish Footprint</th>\n",
       "      <th>Total Ecological Footprint</th>\n",
       "      <th>Cropland</th>\n",
       "      <th>Grazing Land</th>\n",
       "      <th>Forest Land</th>\n",
       "      <th>Fishing Water</th>\n",
       "      <th>Urban Land</th>\n",
       "      <th>Total Biocapacity</th>\n",
       "      <th>Earths Required</th>\n",
       "      <th>Countries Required</th>\n",
       "      <th>Ecological R/D</th>\n",
       "    </tr>\n",
       "  </thead>\n",
       "  <tbody>\n",
       "    <tr>\n",
       "      <th>0</th>\n",
       "      <td>29.82</td>\n",
       "      <td>0.46</td>\n",
       "      <td>614.66</td>\n",
       "      <td>0.30</td>\n",
       "      <td>0.20</td>\n",
       "      <td>0.08</td>\n",
       "      <td>0.18</td>\n",
       "      <td>0.00</td>\n",
       "      <td>0.79</td>\n",
       "      <td>0.24</td>\n",
       "      <td>0.20</td>\n",
       "      <td>0.02</td>\n",
       "      <td>0.00</td>\n",
       "      <td>0.04</td>\n",
       "      <td>0.50</td>\n",
       "      <td>0.46</td>\n",
       "      <td>1.60</td>\n",
       "      <td>-0.29</td>\n",
       "    </tr>\n",
       "    <tr>\n",
       "      <th>1</th>\n",
       "      <td>3.16</td>\n",
       "      <td>0.73</td>\n",
       "      <td>4534.37</td>\n",
       "      <td>0.78</td>\n",
       "      <td>0.22</td>\n",
       "      <td>0.25</td>\n",
       "      <td>0.87</td>\n",
       "      <td>0.02</td>\n",
       "      <td>2.21</td>\n",
       "      <td>0.55</td>\n",
       "      <td>0.21</td>\n",
       "      <td>0.29</td>\n",
       "      <td>0.07</td>\n",
       "      <td>0.06</td>\n",
       "      <td>1.18</td>\n",
       "      <td>1.27</td>\n",
       "      <td>1.87</td>\n",
       "      <td>-1.03</td>\n",
       "    </tr>\n",
       "    <tr>\n",
       "      <th>2</th>\n",
       "      <td>38.48</td>\n",
       "      <td>0.73</td>\n",
       "      <td>5430.57</td>\n",
       "      <td>0.60</td>\n",
       "      <td>0.16</td>\n",
       "      <td>0.17</td>\n",
       "      <td>1.14</td>\n",
       "      <td>0.01</td>\n",
       "      <td>2.12</td>\n",
       "      <td>0.24</td>\n",
       "      <td>0.27</td>\n",
       "      <td>0.03</td>\n",
       "      <td>0.01</td>\n",
       "      <td>0.03</td>\n",
       "      <td>0.59</td>\n",
       "      <td>1.22</td>\n",
       "      <td>3.61</td>\n",
       "      <td>-1.53</td>\n",
       "    </tr>\n",
       "    <tr>\n",
       "      <th>3</th>\n",
       "      <td>20.82</td>\n",
       "      <td>0.52</td>\n",
       "      <td>4665.91</td>\n",
       "      <td>0.33</td>\n",
       "      <td>0.15</td>\n",
       "      <td>0.12</td>\n",
       "      <td>0.20</td>\n",
       "      <td>0.09</td>\n",
       "      <td>0.93</td>\n",
       "      <td>0.20</td>\n",
       "      <td>1.42</td>\n",
       "      <td>0.64</td>\n",
       "      <td>0.26</td>\n",
       "      <td>0.04</td>\n",
       "      <td>2.55</td>\n",
       "      <td>0.54</td>\n",
       "      <td>0.37</td>\n",
       "      <td>1.62</td>\n",
       "    </tr>\n",
       "    <tr>\n",
       "      <th>4</th>\n",
       "      <td>0.09</td>\n",
       "      <td>0.78</td>\n",
       "      <td>13205.10</td>\n",
       "      <td>NaN</td>\n",
       "      <td>NaN</td>\n",
       "      <td>NaN</td>\n",
       "      <td>NaN</td>\n",
       "      <td>NaN</td>\n",
       "      <td>5.38</td>\n",
       "      <td>NaN</td>\n",
       "      <td>NaN</td>\n",
       "      <td>NaN</td>\n",
       "      <td>NaN</td>\n",
       "      <td>NaN</td>\n",
       "      <td>0.94</td>\n",
       "      <td>3.11</td>\n",
       "      <td>5.70</td>\n",
       "      <td>-4.44</td>\n",
       "    </tr>\n",
       "  </tbody>\n",
       "</table>\n",
       "</div>"
      ],
      "text/plain": [
       "   Population (millions)   HDI  GDP per Capita  Cropland Footprint  \\\n",
       "0                  29.82  0.46          614.66                0.30   \n",
       "1                   3.16  0.73         4534.37                0.78   \n",
       "2                  38.48  0.73         5430.57                0.60   \n",
       "3                  20.82  0.52         4665.91                0.33   \n",
       "4                   0.09  0.78        13205.10                 NaN   \n",
       "\n",
       "   Grazing Footprint  Forest Footprint  Carbon Footprint  Fish Footprint  \\\n",
       "0               0.20              0.08              0.18            0.00   \n",
       "1               0.22              0.25              0.87            0.02   \n",
       "2               0.16              0.17              1.14            0.01   \n",
       "3               0.15              0.12              0.20            0.09   \n",
       "4                NaN               NaN               NaN             NaN   \n",
       "\n",
       "   Total Ecological Footprint  Cropland  Grazing Land  Forest Land  \\\n",
       "0                        0.79      0.24          0.20         0.02   \n",
       "1                        2.21      0.55          0.21         0.29   \n",
       "2                        2.12      0.24          0.27         0.03   \n",
       "3                        0.93      0.20          1.42         0.64   \n",
       "4                        5.38       NaN           NaN          NaN   \n",
       "\n",
       "   Fishing Water  Urban Land  Total Biocapacity  Earths Required  \\\n",
       "0           0.00        0.04               0.50             0.46   \n",
       "1           0.07        0.06               1.18             1.27   \n",
       "2           0.01        0.03               0.59             1.22   \n",
       "3           0.26        0.04               2.55             0.54   \n",
       "4            NaN         NaN               0.94             3.11   \n",
       "\n",
       "   Countries Required  Ecological R/D  \n",
       "0                1.60           -0.29  \n",
       "1                1.87           -1.03  \n",
       "2                3.61           -1.53  \n",
       "3                0.37            1.62  \n",
       "4                5.70           -4.44  "
      ]
     },
     "execution_count": 29,
     "metadata": {},
     "output_type": "execute_result"
    }
   ],
   "source": [
    "#Dropping the non numerical data\n",
    "data1 = data.select_dtypes(include=['float64', 'int64'])\n",
    "data1.head(5)"
   ]
  },
  {
   "cell_type": "code",
   "execution_count": 30,
   "metadata": {},
   "outputs": [],
   "source": [
    "X1 = data1.iloc[:, 0:19]"
   ]
  },
  {
   "cell_type": "code",
   "execution_count": 31,
   "metadata": {},
   "outputs": [],
   "source": [
    "X2 = data1.iloc[:, 0:19]"
   ]
  },
  {
   "cell_type": "code",
   "execution_count": 32,
   "metadata": {},
   "outputs": [],
   "source": [
    "#Feature scaling to reduce skewness of the model(bringing all features to asimilar range sono one feature dominates the other) and or reduce bias - i.e on 'seemingly larger values'\n",
    "#Standard scaler\n",
    "#import scaler\n",
    "from sklearn.preprocessing import StandardScaler\n",
    "#call your scaler\n",
    "scaler = StandardScaler()\n"
   ]
  },
  {
   "cell_type": "code",
   "execution_count": 33,
   "metadata": {},
   "outputs": [
    {
     "data": {
      "text/html": [
       "<div>\n",
       "<style scoped>\n",
       "    .dataframe tbody tr th:only-of-type {\n",
       "        vertical-align: middle;\n",
       "    }\n",
       "\n",
       "    .dataframe tbody tr th {\n",
       "        vertical-align: top;\n",
       "    }\n",
       "\n",
       "    .dataframe thead th {\n",
       "        text-align: right;\n",
       "    }\n",
       "</style>\n",
       "<table border=\"1\" class=\"dataframe\">\n",
       "  <thead>\n",
       "    <tr style=\"text-align: right;\">\n",
       "      <th></th>\n",
       "      <th>Population (millions)</th>\n",
       "      <th>HDI</th>\n",
       "      <th>GDP per Capita</th>\n",
       "      <th>Cropland Footprint</th>\n",
       "      <th>Grazing Footprint</th>\n",
       "      <th>Forest Footprint</th>\n",
       "      <th>Carbon Footprint</th>\n",
       "      <th>Fish Footprint</th>\n",
       "      <th>Total Ecological Footprint</th>\n",
       "      <th>Cropland</th>\n",
       "      <th>Grazing Land</th>\n",
       "      <th>Forest Land</th>\n",
       "      <th>Fishing Water</th>\n",
       "      <th>Urban Land</th>\n",
       "      <th>Total Biocapacity</th>\n",
       "      <th>Earths Required</th>\n",
       "      <th>Countries Required</th>\n",
       "      <th>Ecological R/D</th>\n",
       "    </tr>\n",
       "  </thead>\n",
       "  <tbody>\n",
       "    <tr>\n",
       "      <th>0</th>\n",
       "      <td>-0.053585</td>\n",
       "      <td>-1.454889</td>\n",
       "      <td>-0.652891</td>\n",
       "      <td>-0.784433</td>\n",
       "      <td>-0.179973</td>\n",
       "      <td>-0.820004</td>\n",
       "      <td>-0.858476</td>\n",
       "      <td>-0.775381</td>\n",
       "      <td>-1.068928</td>\n",
       "      <td>-0.435194</td>\n",
       "      <td>-0.253597</td>\n",
       "      <td>-0.230912</td>\n",
       "      <td>-0.359157</td>\n",
       "      <td>-0.495742</td>\n",
       "      <td>-0.301913</td>\n",
       "      <td>-1.065717</td>\n",
       "      <td>-0.196383</td>\n",
       "      <td>-0.084504</td>\n",
       "    </tr>\n",
       "    <tr>\n",
       "      <th>1</th>\n",
       "      <td>-0.243495</td>\n",
       "      <td>0.280492</td>\n",
       "      <td>-0.465045</td>\n",
       "      <td>0.568971</td>\n",
       "      <td>-0.123001</td>\n",
       "      <td>-0.345554</td>\n",
       "      <td>-0.493934</td>\n",
       "      <td>-0.648773</td>\n",
       "      <td>-0.468408</td>\n",
       "      <td>0.027065</td>\n",
       "      <td>-0.243714</td>\n",
       "      <td>-0.205352</td>\n",
       "      <td>-0.316913</td>\n",
       "      <td>-0.130013</td>\n",
       "      <td>-0.243583</td>\n",
       "      <td>-0.472735</td>\n",
       "      <td>-0.174629</td>\n",
       "      <td>-0.147536</td>\n",
       "    </tr>\n",
       "    <tr>\n",
       "      <th>2</th>\n",
       "      <td>0.008104</td>\n",
       "      <td>0.280492</td>\n",
       "      <td>-0.422097</td>\n",
       "      <td>0.061444</td>\n",
       "      <td>-0.293918</td>\n",
       "      <td>-0.568825</td>\n",
       "      <td>-0.351288</td>\n",
       "      <td>-0.712077</td>\n",
       "      <td>-0.506469</td>\n",
       "      <td>-0.435194</td>\n",
       "      <td>-0.184413</td>\n",
       "      <td>-0.229965</td>\n",
       "      <td>-0.353122</td>\n",
       "      <td>-0.678606</td>\n",
       "      <td>-0.294193</td>\n",
       "      <td>-0.509339</td>\n",
       "      <td>-0.034436</td>\n",
       "      <td>-0.190125</td>\n",
       "    </tr>\n",
       "    <tr>\n",
       "      <th>3</th>\n",
       "      <td>-0.117696</td>\n",
       "      <td>-1.069249</td>\n",
       "      <td>-0.458742</td>\n",
       "      <td>-0.699845</td>\n",
       "      <td>-0.322404</td>\n",
       "      <td>-0.708369</td>\n",
       "      <td>-0.847909</td>\n",
       "      <td>-0.205646</td>\n",
       "      <td>-1.009722</td>\n",
       "      <td>-0.494840</td>\n",
       "      <td>0.952174</td>\n",
       "      <td>-0.172218</td>\n",
       "      <td>-0.202252</td>\n",
       "      <td>-0.495742</td>\n",
       "      <td>-0.126067</td>\n",
       "      <td>-1.007151</td>\n",
       "      <td>-0.295484</td>\n",
       "      <td>0.078188</td>\n",
       "    </tr>\n",
       "    <tr>\n",
       "      <th>4</th>\n",
       "      <td>-0.265364</td>\n",
       "      <td>0.601859</td>\n",
       "      <td>-0.049516</td>\n",
       "      <td>NaN</td>\n",
       "      <td>NaN</td>\n",
       "      <td>NaN</td>\n",
       "      <td>NaN</td>\n",
       "      <td>NaN</td>\n",
       "      <td>0.872189</td>\n",
       "      <td>NaN</td>\n",
       "      <td>NaN</td>\n",
       "      <td>NaN</td>\n",
       "      <td>NaN</td>\n",
       "      <td>NaN</td>\n",
       "      <td>-0.264170</td>\n",
       "      <td>0.874287</td>\n",
       "      <td>0.133957</td>\n",
       "      <td>-0.437995</td>\n",
       "    </tr>\n",
       "  </tbody>\n",
       "</table>\n",
       "</div>"
      ],
      "text/plain": [
       "   Population (millions)       HDI  GDP per Capita  Cropland Footprint  \\\n",
       "0              -0.053585 -1.454889       -0.652891           -0.784433   \n",
       "1              -0.243495  0.280492       -0.465045            0.568971   \n",
       "2               0.008104  0.280492       -0.422097            0.061444   \n",
       "3              -0.117696 -1.069249       -0.458742           -0.699845   \n",
       "4              -0.265364  0.601859       -0.049516                 NaN   \n",
       "\n",
       "   Grazing Footprint  Forest Footprint  Carbon Footprint  Fish Footprint  \\\n",
       "0          -0.179973         -0.820004         -0.858476       -0.775381   \n",
       "1          -0.123001         -0.345554         -0.493934       -0.648773   \n",
       "2          -0.293918         -0.568825         -0.351288       -0.712077   \n",
       "3          -0.322404         -0.708369         -0.847909       -0.205646   \n",
       "4                NaN               NaN               NaN             NaN   \n",
       "\n",
       "   Total Ecological Footprint  Cropland  Grazing Land  Forest Land  \\\n",
       "0                   -1.068928 -0.435194     -0.253597    -0.230912   \n",
       "1                   -0.468408  0.027065     -0.243714    -0.205352   \n",
       "2                   -0.506469 -0.435194     -0.184413    -0.229965   \n",
       "3                   -1.009722 -0.494840      0.952174    -0.172218   \n",
       "4                    0.872189       NaN           NaN          NaN   \n",
       "\n",
       "   Fishing Water  Urban Land  Total Biocapacity  Earths Required  \\\n",
       "0      -0.359157   -0.495742          -0.301913        -1.065717   \n",
       "1      -0.316913   -0.130013          -0.243583        -0.472735   \n",
       "2      -0.353122   -0.678606          -0.294193        -0.509339   \n",
       "3      -0.202252   -0.495742          -0.126067        -1.007151   \n",
       "4            NaN         NaN          -0.264170         0.874287   \n",
       "\n",
       "   Countries Required  Ecological R/D  \n",
       "0           -0.196383       -0.084504  \n",
       "1           -0.174629       -0.147536  \n",
       "2           -0.034436       -0.190125  \n",
       "3           -0.295484        0.078188  \n",
       "4            0.133957       -0.437995  "
      ]
     },
     "execution_count": 33,
     "metadata": {},
     "output_type": "execute_result"
    }
   ],
   "source": [
    "#fit your data\n",
    "X1 = scaler.fit_transform(X1)\n",
    "#Turn X1 back into a dataframe\n",
    "X1 = pd.DataFrame(X1, columns = data1.columns)\n",
    "#print(scaler.fit(data1))\n",
    "#.fit_transform\n",
    "X1.head()"
   ]
  },
  {
   "cell_type": "markdown",
   "metadata": {},
   "source": [
    "#in standardization, the goal is to have a mean of 0 and std of 1 for standard scaler "
   ]
  },
  {
   "cell_type": "code",
   "execution_count": 34,
   "metadata": {},
   "outputs": [
    {
     "data": {
      "text/html": [
       "<div>\n",
       "<style scoped>\n",
       "    .dataframe tbody tr th:only-of-type {\n",
       "        vertical-align: middle;\n",
       "    }\n",
       "\n",
       "    .dataframe tbody tr th {\n",
       "        vertical-align: top;\n",
       "    }\n",
       "\n",
       "    .dataframe thead th {\n",
       "        text-align: right;\n",
       "    }\n",
       "</style>\n",
       "<table border=\"1\" class=\"dataframe\">\n",
       "  <thead>\n",
       "    <tr style=\"text-align: right;\">\n",
       "      <th></th>\n",
       "      <th>Population (millions)</th>\n",
       "      <th>HDI</th>\n",
       "      <th>GDP per Capita</th>\n",
       "      <th>Cropland Footprint</th>\n",
       "      <th>Grazing Footprint</th>\n",
       "      <th>Forest Footprint</th>\n",
       "      <th>Carbon Footprint</th>\n",
       "      <th>Fish Footprint</th>\n",
       "      <th>Total Ecological Footprint</th>\n",
       "      <th>Cropland</th>\n",
       "      <th>Grazing Land</th>\n",
       "      <th>Forest Land</th>\n",
       "      <th>Fishing Water</th>\n",
       "      <th>Urban Land</th>\n",
       "      <th>Total Biocapacity</th>\n",
       "      <th>Earths Required</th>\n",
       "      <th>Countries Required</th>\n",
       "      <th>Ecological R/D</th>\n",
       "    </tr>\n",
       "  </thead>\n",
       "  <tbody>\n",
       "    <tr>\n",
       "      <th>count</th>\n",
       "      <td>188.000</td>\n",
       "      <td>172.000</td>\n",
       "      <td>173.000</td>\n",
       "      <td>173.000</td>\n",
       "      <td>173.000</td>\n",
       "      <td>173.000</td>\n",
       "      <td>173.000</td>\n",
       "      <td>173.000</td>\n",
       "      <td>188.000</td>\n",
       "      <td>173.000</td>\n",
       "      <td>173.000</td>\n",
       "      <td>173.000</td>\n",
       "      <td>173.000</td>\n",
       "      <td>173.000</td>\n",
       "      <td>188.000</td>\n",
       "      <td>188.000</td>\n",
       "      <td>188.000</td>\n",
       "      <td>188.000</td>\n",
       "    </tr>\n",
       "    <tr>\n",
       "      <th>mean</th>\n",
       "      <td>0.000</td>\n",
       "      <td>0.000</td>\n",
       "      <td>0.000</td>\n",
       "      <td>-0.000</td>\n",
       "      <td>0.000</td>\n",
       "      <td>0.000</td>\n",
       "      <td>0.000</td>\n",
       "      <td>0.000</td>\n",
       "      <td>-0.000</td>\n",
       "      <td>0.000</td>\n",
       "      <td>-0.000</td>\n",
       "      <td>0.000</td>\n",
       "      <td>-0.000</td>\n",
       "      <td>0.000</td>\n",
       "      <td>-0.000</td>\n",
       "      <td>0.000</td>\n",
       "      <td>-0.000</td>\n",
       "      <td>0.000</td>\n",
       "    </tr>\n",
       "    <tr>\n",
       "      <th>std</th>\n",
       "      <td>1.003</td>\n",
       "      <td>1.003</td>\n",
       "      <td>1.003</td>\n",
       "      <td>1.003</td>\n",
       "      <td>1.003</td>\n",
       "      <td>1.003</td>\n",
       "      <td>1.003</td>\n",
       "      <td>1.003</td>\n",
       "      <td>1.003</td>\n",
       "      <td>1.003</td>\n",
       "      <td>1.003</td>\n",
       "      <td>1.003</td>\n",
       "      <td>1.003</td>\n",
       "      <td>1.003</td>\n",
       "      <td>1.003</td>\n",
       "      <td>1.003</td>\n",
       "      <td>1.003</td>\n",
       "      <td>1.003</td>\n",
       "    </tr>\n",
       "    <tr>\n",
       "      <th>min</th>\n",
       "      <td>-0.266</td>\n",
       "      <td>-2.226</td>\n",
       "      <td>-0.669</td>\n",
       "      <td>-1.433</td>\n",
       "      <td>-0.750</td>\n",
       "      <td>-1.015</td>\n",
       "      <td>-0.954</td>\n",
       "      <td>-0.775</td>\n",
       "      <td>-1.225</td>\n",
       "      <td>-0.793</td>\n",
       "      <td>-0.451</td>\n",
       "      <td>-0.233</td>\n",
       "      <td>-0.359</td>\n",
       "      <td>-1.227</td>\n",
       "      <td>-0.341</td>\n",
       "      <td>-1.227</td>\n",
       "      <td>-0.324</td>\n",
       "      <td>-1.264</td>\n",
       "    </tr>\n",
       "    <tr>\n",
       "      <th>25%</th>\n",
       "      <td>-0.251</td>\n",
       "      <td>-0.828</td>\n",
       "      <td>-0.609</td>\n",
       "      <td>-0.643</td>\n",
       "      <td>-0.522</td>\n",
       "      <td>-0.569</td>\n",
       "      <td>-0.732</td>\n",
       "      <td>-0.649</td>\n",
       "      <td>-0.776</td>\n",
       "      <td>-0.525</td>\n",
       "      <td>-0.422</td>\n",
       "      <td>-0.227</td>\n",
       "      <td>-0.341</td>\n",
       "      <td>-0.679</td>\n",
       "      <td>-0.287</td>\n",
       "      <td>-0.777</td>\n",
       "      <td>-0.249</td>\n",
       "      <td>-0.224</td>\n",
       "    </tr>\n",
       "    <tr>\n",
       "      <th>50%</th>\n",
       "      <td>-0.209</td>\n",
       "      <td>0.216</td>\n",
       "      <td>-0.422</td>\n",
       "      <td>-0.164</td>\n",
       "      <td>-0.237</td>\n",
       "      <td>-0.318</td>\n",
       "      <td>-0.351</td>\n",
       "      <td>-0.332</td>\n",
       "      <td>-0.244</td>\n",
       "      <td>-0.271</td>\n",
       "      <td>-0.333</td>\n",
       "      <td>-0.201</td>\n",
       "      <td>-0.293</td>\n",
       "      <td>-0.313</td>\n",
       "      <td>-0.232</td>\n",
       "      <td>-0.246</td>\n",
       "      <td>-0.188</td>\n",
       "      <td>-0.122</td>\n",
       "    </tr>\n",
       "    <tr>\n",
       "      <th>75%</th>\n",
       "      <td>-0.089</td>\n",
       "      <td>0.746</td>\n",
       "      <td>0.014</td>\n",
       "      <td>0.343</td>\n",
       "      <td>0.162</td>\n",
       "      <td>0.241</td>\n",
       "      <td>0.420</td>\n",
       "      <td>0.174</td>\n",
       "      <td>0.559</td>\n",
       "      <td>0.087</td>\n",
       "      <td>-0.115</td>\n",
       "      <td>-0.122</td>\n",
       "      <td>-0.136</td>\n",
       "      <td>0.419</td>\n",
       "      <td>-0.103</td>\n",
       "      <td>0.558</td>\n",
       "      <td>-0.096</td>\n",
       "      <td>-0.042</td>\n",
       "    </tr>\n",
       "    <tr>\n",
       "      <th>max</th>\n",
       "      <td>9.764</td>\n",
       "      <td>1.630</td>\n",
       "      <td>4.813</td>\n",
       "      <td>5.926</td>\n",
       "      <td>9.135</td>\n",
       "      <td>7.413</td>\n",
       "      <td>5.730</td>\n",
       "      <td>4.416</td>\n",
       "      <td>5.287</td>\n",
       "      <td>7.289</td>\n",
       "      <td>7.683</td>\n",
       "      <td>8.776</td>\n",
       "      <td>9.339</td>\n",
       "      <td>3.710</td>\n",
       "      <td>9.207</td>\n",
       "      <td>5.289</td>\n",
       "      <td>12.523</td>\n",
       "      <td>9.226</td>\n",
       "    </tr>\n",
       "  </tbody>\n",
       "</table>\n",
       "</div>"
      ],
      "text/plain": [
       "       Population (millions)      HDI  GDP per Capita  Cropland Footprint  \\\n",
       "count                188.000  172.000         173.000             173.000   \n",
       "mean                   0.000    0.000           0.000              -0.000   \n",
       "std                    1.003    1.003           1.003               1.003   \n",
       "min                   -0.266   -2.226          -0.669              -1.433   \n",
       "25%                   -0.251   -0.828          -0.609              -0.643   \n",
       "50%                   -0.209    0.216          -0.422              -0.164   \n",
       "75%                   -0.089    0.746           0.014               0.343   \n",
       "max                    9.764    1.630           4.813               5.926   \n",
       "\n",
       "       Grazing Footprint  Forest Footprint  Carbon Footprint  Fish Footprint  \\\n",
       "count            173.000           173.000           173.000         173.000   \n",
       "mean               0.000             0.000             0.000           0.000   \n",
       "std                1.003             1.003             1.003           1.003   \n",
       "min               -0.750            -1.015            -0.954          -0.775   \n",
       "25%               -0.522            -0.569            -0.732          -0.649   \n",
       "50%               -0.237            -0.318            -0.351          -0.332   \n",
       "75%                0.162             0.241             0.420           0.174   \n",
       "max                9.135             7.413             5.730           4.416   \n",
       "\n",
       "       Total Ecological Footprint  Cropland  Grazing Land  Forest Land  \\\n",
       "count                     188.000   173.000       173.000      173.000   \n",
       "mean                       -0.000     0.000        -0.000        0.000   \n",
       "std                         1.003     1.003         1.003        1.003   \n",
       "min                        -1.225    -0.793        -0.451       -0.233   \n",
       "25%                        -0.776    -0.525        -0.422       -0.227   \n",
       "50%                        -0.244    -0.271        -0.333       -0.201   \n",
       "75%                         0.559     0.087        -0.115       -0.122   \n",
       "max                         5.287     7.289         7.683        8.776   \n",
       "\n",
       "       Fishing Water  Urban Land  Total Biocapacity  Earths Required  \\\n",
       "count        173.000     173.000            188.000          188.000   \n",
       "mean          -0.000       0.000             -0.000            0.000   \n",
       "std            1.003       1.003              1.003            1.003   \n",
       "min           -0.359      -1.227             -0.341           -1.227   \n",
       "25%           -0.341      -0.679             -0.287           -0.777   \n",
       "50%           -0.293      -0.313             -0.232           -0.246   \n",
       "75%           -0.136       0.419             -0.103            0.558   \n",
       "max            9.339       3.710              9.207            5.289   \n",
       "\n",
       "       Countries Required  Ecological R/D  \n",
       "count             188.000         188.000  \n",
       "mean               -0.000           0.000  \n",
       "std                 1.003           1.003  \n",
       "min                -0.324          -1.264  \n",
       "25%                -0.249          -0.224  \n",
       "50%                -0.188          -0.122  \n",
       "75%                -0.096          -0.042  \n",
       "max                12.523           9.226  "
      ]
     },
     "execution_count": 34,
     "metadata": {},
     "output_type": "execute_result"
    }
   ],
   "source": [
    "X1.describe().round(3)\n"
   ]
  },
  {
   "cell_type": "markdown",
   "metadata": {},
   "source": [
    "2) Normalization\n",
    "Here the goal is to have the max go to 1 and the min 0"
   ]
  },
  {
   "cell_type": "code",
   "execution_count": 35,
   "metadata": {},
   "outputs": [],
   "source": [
    "from sklearn.preprocessing import MinMaxScaler"
   ]
  },
  {
   "cell_type": "code",
   "execution_count": 36,
   "metadata": {},
   "outputs": [],
   "source": [
    "scaleminmax = MinMaxScaler(feature_range=(0,1))\n",
    "X2 = scaleminmax.fit_transform(X2)"
   ]
  },
  {
   "cell_type": "code",
   "execution_count": 37,
   "metadata": {},
   "outputs": [
    {
     "data": {
      "text/html": [
       "<div>\n",
       "<style scoped>\n",
       "    .dataframe tbody tr th:only-of-type {\n",
       "        vertical-align: middle;\n",
       "    }\n",
       "\n",
       "    .dataframe tbody tr th {\n",
       "        vertical-align: top;\n",
       "    }\n",
       "\n",
       "    .dataframe thead th {\n",
       "        text-align: right;\n",
       "    }\n",
       "</style>\n",
       "<table border=\"1\" class=\"dataframe\">\n",
       "  <thead>\n",
       "    <tr style=\"text-align: right;\">\n",
       "      <th></th>\n",
       "      <th>Population (millions)</th>\n",
       "      <th>HDI</th>\n",
       "      <th>GDP per Capita</th>\n",
       "      <th>Cropland Footprint</th>\n",
       "      <th>Grazing Footprint</th>\n",
       "      <th>Forest Footprint</th>\n",
       "      <th>Carbon Footprint</th>\n",
       "      <th>Fish Footprint</th>\n",
       "      <th>Total Ecological Footprint</th>\n",
       "      <th>Cropland</th>\n",
       "      <th>Grazing Land</th>\n",
       "      <th>Forest Land</th>\n",
       "      <th>Fishing Water</th>\n",
       "      <th>Urban Land</th>\n",
       "      <th>Total Biocapacity</th>\n",
       "      <th>Earths Required</th>\n",
       "      <th>Countries Required</th>\n",
       "      <th>Ecological R/D</th>\n",
       "    </tr>\n",
       "  </thead>\n",
       "  <tbody>\n",
       "    <tr>\n",
       "      <th>0</th>\n",
       "      <td>0.021178</td>\n",
       "      <td>0.200000</td>\n",
       "      <td>0.002955</td>\n",
       "      <td>0.088123</td>\n",
       "      <td>0.057637</td>\n",
       "      <td>0.023179</td>\n",
       "      <td>0.014229</td>\n",
       "      <td>0.000000</td>\n",
       "      <td>0.024026</td>\n",
       "      <td>0.044280</td>\n",
       "      <td>0.024301</td>\n",
       "      <td>0.000210</td>\n",
       "      <td>0.000000</td>\n",
       "      <td>0.148148</td>\n",
       "      <td>0.004043</td>\n",
       "      <td>0.024719</td>\n",
       "      <td>0.009909</td>\n",
       "      <td>0.112464</td>\n",
       "    </tr>\n",
       "    <tr>\n",
       "      <th>1</th>\n",
       "      <td>0.002244</td>\n",
       "      <td>0.650000</td>\n",
       "      <td>0.037221</td>\n",
       "      <td>0.272031</td>\n",
       "      <td>0.063401</td>\n",
       "      <td>0.079470</td>\n",
       "      <td>0.068775</td>\n",
       "      <td>0.024390</td>\n",
       "      <td>0.116234</td>\n",
       "      <td>0.101476</td>\n",
       "      <td>0.025516</td>\n",
       "      <td>0.003047</td>\n",
       "      <td>0.004356</td>\n",
       "      <td>0.222222</td>\n",
       "      <td>0.010153</td>\n",
       "      <td>0.115730</td>\n",
       "      <td>0.011602</td>\n",
       "      <td>0.106456</td>\n",
       "    </tr>\n",
       "    <tr>\n",
       "      <th>2</th>\n",
       "      <td>0.027329</td>\n",
       "      <td>0.650000</td>\n",
       "      <td>0.045056</td>\n",
       "      <td>0.203065</td>\n",
       "      <td>0.046110</td>\n",
       "      <td>0.052980</td>\n",
       "      <td>0.090119</td>\n",
       "      <td>0.012195</td>\n",
       "      <td>0.110390</td>\n",
       "      <td>0.044280</td>\n",
       "      <td>0.032807</td>\n",
       "      <td>0.000315</td>\n",
       "      <td>0.000622</td>\n",
       "      <td>0.111111</td>\n",
       "      <td>0.004852</td>\n",
       "      <td>0.110112</td>\n",
       "      <td>0.022515</td>\n",
       "      <td>0.102395</td>\n",
       "    </tr>\n",
       "    <tr>\n",
       "      <th>3</th>\n",
       "      <td>0.014787</td>\n",
       "      <td>0.300000</td>\n",
       "      <td>0.038371</td>\n",
       "      <td>0.099617</td>\n",
       "      <td>0.043228</td>\n",
       "      <td>0.036424</td>\n",
       "      <td>0.015810</td>\n",
       "      <td>0.109756</td>\n",
       "      <td>0.033117</td>\n",
       "      <td>0.036900</td>\n",
       "      <td>0.172539</td>\n",
       "      <td>0.006726</td>\n",
       "      <td>0.016179</td>\n",
       "      <td>0.148148</td>\n",
       "      <td>0.022462</td>\n",
       "      <td>0.033708</td>\n",
       "      <td>0.002195</td>\n",
       "      <td>0.127974</td>\n",
       "    </tr>\n",
       "    <tr>\n",
       "      <th>4</th>\n",
       "      <td>0.000064</td>\n",
       "      <td>0.733333</td>\n",
       "      <td>0.113022</td>\n",
       "      <td>NaN</td>\n",
       "      <td>NaN</td>\n",
       "      <td>NaN</td>\n",
       "      <td>NaN</td>\n",
       "      <td>NaN</td>\n",
       "      <td>0.322078</td>\n",
       "      <td>NaN</td>\n",
       "      <td>NaN</td>\n",
       "      <td>NaN</td>\n",
       "      <td>NaN</td>\n",
       "      <td>NaN</td>\n",
       "      <td>0.007996</td>\n",
       "      <td>0.322472</td>\n",
       "      <td>0.035622</td>\n",
       "      <td>0.078766</td>\n",
       "    </tr>\n",
       "  </tbody>\n",
       "</table>\n",
       "</div>"
      ],
      "text/plain": [
       "   Population (millions)       HDI  GDP per Capita  Cropland Footprint  \\\n",
       "0               0.021178  0.200000        0.002955            0.088123   \n",
       "1               0.002244  0.650000        0.037221            0.272031   \n",
       "2               0.027329  0.650000        0.045056            0.203065   \n",
       "3               0.014787  0.300000        0.038371            0.099617   \n",
       "4               0.000064  0.733333        0.113022                 NaN   \n",
       "\n",
       "   Grazing Footprint  Forest Footprint  Carbon Footprint  Fish Footprint  \\\n",
       "0           0.057637          0.023179          0.014229        0.000000   \n",
       "1           0.063401          0.079470          0.068775        0.024390   \n",
       "2           0.046110          0.052980          0.090119        0.012195   \n",
       "3           0.043228          0.036424          0.015810        0.109756   \n",
       "4                NaN               NaN               NaN             NaN   \n",
       "\n",
       "   Total Ecological Footprint  Cropland  Grazing Land  Forest Land  \\\n",
       "0                    0.024026  0.044280      0.024301     0.000210   \n",
       "1                    0.116234  0.101476      0.025516     0.003047   \n",
       "2                    0.110390  0.044280      0.032807     0.000315   \n",
       "3                    0.033117  0.036900      0.172539     0.006726   \n",
       "4                    0.322078       NaN           NaN          NaN   \n",
       "\n",
       "   Fishing Water  Urban Land  Total Biocapacity  Earths Required  \\\n",
       "0       0.000000    0.148148           0.004043         0.024719   \n",
       "1       0.004356    0.222222           0.010153         0.115730   \n",
       "2       0.000622    0.111111           0.004852         0.110112   \n",
       "3       0.016179    0.148148           0.022462         0.033708   \n",
       "4            NaN         NaN           0.007996         0.322472   \n",
       "\n",
       "   Countries Required  Ecological R/D  \n",
       "0            0.009909        0.112464  \n",
       "1            0.011602        0.106456  \n",
       "2            0.022515        0.102395  \n",
       "3            0.002195        0.127974  \n",
       "4            0.035622        0.078766  "
      ]
     },
     "execution_count": 37,
     "metadata": {},
     "output_type": "execute_result"
    }
   ],
   "source": [
    "#Turn X1 back into a dataframe\n",
    "X2 =pd.DataFrame(X2, columns = data1.columns)\n",
    "X2.head()"
   ]
  },
  {
   "cell_type": "code",
   "execution_count": 38,
   "metadata": {},
   "outputs": [
    {
     "data": {
      "text/html": [
       "<div>\n",
       "<style scoped>\n",
       "    .dataframe tbody tr th:only-of-type {\n",
       "        vertical-align: middle;\n",
       "    }\n",
       "\n",
       "    .dataframe tbody tr th {\n",
       "        vertical-align: top;\n",
       "    }\n",
       "\n",
       "    .dataframe thead th {\n",
       "        text-align: right;\n",
       "    }\n",
       "</style>\n",
       "<table border=\"1\" class=\"dataframe\">\n",
       "  <thead>\n",
       "    <tr style=\"text-align: right;\">\n",
       "      <th></th>\n",
       "      <th>Population (millions)</th>\n",
       "      <th>HDI</th>\n",
       "      <th>GDP per Capita</th>\n",
       "      <th>Cropland Footprint</th>\n",
       "      <th>Grazing Footprint</th>\n",
       "      <th>Forest Footprint</th>\n",
       "      <th>Carbon Footprint</th>\n",
       "      <th>Fish Footprint</th>\n",
       "      <th>Total Ecological Footprint</th>\n",
       "      <th>Cropland</th>\n",
       "      <th>Grazing Land</th>\n",
       "      <th>Forest Land</th>\n",
       "      <th>Fishing Water</th>\n",
       "      <th>Urban Land</th>\n",
       "      <th>Total Biocapacity</th>\n",
       "      <th>Earths Required</th>\n",
       "      <th>Countries Required</th>\n",
       "      <th>Ecological R/D</th>\n",
       "    </tr>\n",
       "  </thead>\n",
       "  <tbody>\n",
       "    <tr>\n",
       "      <th>count</th>\n",
       "      <td>188.000</td>\n",
       "      <td>172.000</td>\n",
       "      <td>173.000</td>\n",
       "      <td>173.000</td>\n",
       "      <td>173.000</td>\n",
       "      <td>173.000</td>\n",
       "      <td>173.000</td>\n",
       "      <td>173.000</td>\n",
       "      <td>188.000</td>\n",
       "      <td>173.000</td>\n",
       "      <td>173.000</td>\n",
       "      <td>173.000</td>\n",
       "      <td>173.000</td>\n",
       "      <td>173.000</td>\n",
       "      <td>188.000</td>\n",
       "      <td>188.000</td>\n",
       "      <td>188.000</td>\n",
       "      <td>188.000</td>\n",
       "    </tr>\n",
       "    <tr>\n",
       "      <th>mean</th>\n",
       "      <td>0.027</td>\n",
       "      <td>0.577</td>\n",
       "      <td>0.122</td>\n",
       "      <td>0.195</td>\n",
       "      <td>0.076</td>\n",
       "      <td>0.120</td>\n",
       "      <td>0.143</td>\n",
       "      <td>0.149</td>\n",
       "      <td>0.188</td>\n",
       "      <td>0.098</td>\n",
       "      <td>0.055</td>\n",
       "      <td>0.026</td>\n",
       "      <td>0.037</td>\n",
       "      <td>0.249</td>\n",
       "      <td>0.036</td>\n",
       "      <td>0.188</td>\n",
       "      <td>0.025</td>\n",
       "      <td>0.121</td>\n",
       "    </tr>\n",
       "    <tr>\n",
       "      <th>std</th>\n",
       "      <td>0.100</td>\n",
       "      <td>0.260</td>\n",
       "      <td>0.183</td>\n",
       "      <td>0.136</td>\n",
       "      <td>0.101</td>\n",
       "      <td>0.119</td>\n",
       "      <td>0.150</td>\n",
       "      <td>0.193</td>\n",
       "      <td>0.154</td>\n",
       "      <td>0.124</td>\n",
       "      <td>0.123</td>\n",
       "      <td>0.111</td>\n",
       "      <td>0.103</td>\n",
       "      <td>0.203</td>\n",
       "      <td>0.105</td>\n",
       "      <td>0.154</td>\n",
       "      <td>0.078</td>\n",
       "      <td>0.096</td>\n",
       "    </tr>\n",
       "    <tr>\n",
       "      <th>min</th>\n",
       "      <td>0.000</td>\n",
       "      <td>0.000</td>\n",
       "      <td>0.000</td>\n",
       "      <td>0.000</td>\n",
       "      <td>0.000</td>\n",
       "      <td>0.000</td>\n",
       "      <td>0.000</td>\n",
       "      <td>0.000</td>\n",
       "      <td>0.000</td>\n",
       "      <td>0.000</td>\n",
       "      <td>0.000</td>\n",
       "      <td>0.000</td>\n",
       "      <td>0.000</td>\n",
       "      <td>0.000</td>\n",
       "      <td>0.000</td>\n",
       "      <td>0.000</td>\n",
       "      <td>0.000</td>\n",
       "      <td>0.000</td>\n",
       "    </tr>\n",
       "    <tr>\n",
       "      <th>25%</th>\n",
       "      <td>0.001</td>\n",
       "      <td>0.363</td>\n",
       "      <td>0.011</td>\n",
       "      <td>0.107</td>\n",
       "      <td>0.023</td>\n",
       "      <td>0.053</td>\n",
       "      <td>0.033</td>\n",
       "      <td>0.024</td>\n",
       "      <td>0.069</td>\n",
       "      <td>0.033</td>\n",
       "      <td>0.004</td>\n",
       "      <td>0.001</td>\n",
       "      <td>0.002</td>\n",
       "      <td>0.111</td>\n",
       "      <td>0.006</td>\n",
       "      <td>0.069</td>\n",
       "      <td>0.006</td>\n",
       "      <td>0.099</td>\n",
       "    </tr>\n",
       "    <tr>\n",
       "      <th>50%</th>\n",
       "      <td>0.006</td>\n",
       "      <td>0.633</td>\n",
       "      <td>0.045</td>\n",
       "      <td>0.172</td>\n",
       "      <td>0.052</td>\n",
       "      <td>0.083</td>\n",
       "      <td>0.090</td>\n",
       "      <td>0.085</td>\n",
       "      <td>0.151</td>\n",
       "      <td>0.065</td>\n",
       "      <td>0.015</td>\n",
       "      <td>0.004</td>\n",
       "      <td>0.007</td>\n",
       "      <td>0.185</td>\n",
       "      <td>0.011</td>\n",
       "      <td>0.151</td>\n",
       "      <td>0.011</td>\n",
       "      <td>0.109</td>\n",
       "    </tr>\n",
       "    <tr>\n",
       "      <th>75%</th>\n",
       "      <td>0.018</td>\n",
       "      <td>0.771</td>\n",
       "      <td>0.125</td>\n",
       "      <td>0.241</td>\n",
       "      <td>0.092</td>\n",
       "      <td>0.149</td>\n",
       "      <td>0.206</td>\n",
       "      <td>0.183</td>\n",
       "      <td>0.274</td>\n",
       "      <td>0.109</td>\n",
       "      <td>0.041</td>\n",
       "      <td>0.012</td>\n",
       "      <td>0.023</td>\n",
       "      <td>0.333</td>\n",
       "      <td>0.025</td>\n",
       "      <td>0.274</td>\n",
       "      <td>0.018</td>\n",
       "      <td>0.117</td>\n",
       "    </tr>\n",
       "    <tr>\n",
       "      <th>max</th>\n",
       "      <td>1.000</td>\n",
       "      <td>1.000</td>\n",
       "      <td>1.000</td>\n",
       "      <td>1.000</td>\n",
       "      <td>1.000</td>\n",
       "      <td>1.000</td>\n",
       "      <td>1.000</td>\n",
       "      <td>1.000</td>\n",
       "      <td>1.000</td>\n",
       "      <td>1.000</td>\n",
       "      <td>1.000</td>\n",
       "      <td>1.000</td>\n",
       "      <td>1.000</td>\n",
       "      <td>1.000</td>\n",
       "      <td>1.000</td>\n",
       "      <td>1.000</td>\n",
       "      <td>1.000</td>\n",
       "      <td>1.000</td>\n",
       "    </tr>\n",
       "  </tbody>\n",
       "</table>\n",
       "</div>"
      ],
      "text/plain": [
       "       Population (millions)      HDI  GDP per Capita  Cropland Footprint  \\\n",
       "count                188.000  172.000         173.000             173.000   \n",
       "mean                   0.027    0.577           0.122               0.195   \n",
       "std                    0.100    0.260           0.183               0.136   \n",
       "min                    0.000    0.000           0.000               0.000   \n",
       "25%                    0.001    0.363           0.011               0.107   \n",
       "50%                    0.006    0.633           0.045               0.172   \n",
       "75%                    0.018    0.771           0.125               0.241   \n",
       "max                    1.000    1.000           1.000               1.000   \n",
       "\n",
       "       Grazing Footprint  Forest Footprint  Carbon Footprint  Fish Footprint  \\\n",
       "count            173.000           173.000           173.000         173.000   \n",
       "mean               0.076             0.120             0.143           0.149   \n",
       "std                0.101             0.119             0.150           0.193   \n",
       "min                0.000             0.000             0.000           0.000   \n",
       "25%                0.023             0.053             0.033           0.024   \n",
       "50%                0.052             0.083             0.090           0.085   \n",
       "75%                0.092             0.149             0.206           0.183   \n",
       "max                1.000             1.000             1.000           1.000   \n",
       "\n",
       "       Total Ecological Footprint  Cropland  Grazing Land  Forest Land  \\\n",
       "count                     188.000   173.000       173.000      173.000   \n",
       "mean                        0.188     0.098         0.055        0.026   \n",
       "std                         0.154     0.124         0.123        0.111   \n",
       "min                         0.000     0.000         0.000        0.000   \n",
       "25%                         0.069     0.033         0.004        0.001   \n",
       "50%                         0.151     0.065         0.015        0.004   \n",
       "75%                         0.274     0.109         0.041        0.012   \n",
       "max                         1.000     1.000         1.000        1.000   \n",
       "\n",
       "       Fishing Water  Urban Land  Total Biocapacity  Earths Required  \\\n",
       "count        173.000     173.000            188.000          188.000   \n",
       "mean           0.037       0.249              0.036            0.188   \n",
       "std            0.103       0.203              0.105            0.154   \n",
       "min            0.000       0.000              0.000            0.000   \n",
       "25%            0.002       0.111              0.006            0.069   \n",
       "50%            0.007       0.185              0.011            0.151   \n",
       "75%            0.023       0.333              0.025            0.274   \n",
       "max            1.000       1.000              1.000            1.000   \n",
       "\n",
       "       Countries Required  Ecological R/D  \n",
       "count             188.000         188.000  \n",
       "mean                0.025           0.121  \n",
       "std                 0.078           0.096  \n",
       "min                 0.000           0.000  \n",
       "25%                 0.006           0.099  \n",
       "50%                 0.011           0.109  \n",
       "75%                 0.018           0.117  \n",
       "max                 1.000           1.000  "
      ]
     },
     "execution_count": 38,
     "metadata": {},
     "output_type": "execute_result"
    }
   ],
   "source": [
    "X2.describe().round(3)"
   ]
  },
  {
   "cell_type": "code",
   "execution_count": 39,
   "metadata": {},
   "outputs": [],
   "source": [
    "#test"
   ]
  },
  {
   "cell_type": "code",
   "execution_count": null,
   "metadata": {},
   "outputs": [],
   "source": []
  }
 ],
 "metadata": {
  "kernelspec": {
   "display_name": "Python 3",
   "language": "python",
   "name": "python3"
  },
  "language_info": {
   "codemirror_mode": {
    "name": "ipython",
    "version": 3
   },
   "file_extension": ".py",
   "mimetype": "text/x-python",
   "name": "python",
   "nbconvert_exporter": "python",
   "pygments_lexer": "ipython3",
   "version": "3.12.7"
  }
 },
 "nbformat": 4,
 "nbformat_minor": 2
}
